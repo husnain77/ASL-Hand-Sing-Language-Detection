{
  "nbformat": 4,
  "nbformat_minor": 0,
  "metadata": {
    "colab": {
      "provenance": [],
      "toc_visible": true
    },
    "kernelspec": {
      "name": "python3",
      "display_name": "Python 3"
    },
    "language_info": {
      "name": "python"
    },
    "widgets": {
      "application/vnd.jupyter.widget-state+json": {
        "20a160f0aa1f4069a58ae7389799cc43": {
          "model_module": "@jupyter-widgets/controls",
          "model_name": "VBoxModel",
          "model_module_version": "2.0.0",
          "state": {
            "_dom_classes": [],
            "_model_module": "@jupyter-widgets/controls",
            "_model_module_version": "2.0.0",
            "_model_name": "VBoxModel",
            "_view_count": null,
            "_view_module": "@jupyter-widgets/controls",
            "_view_module_version": "2.0.0",
            "_view_name": "VBoxView",
            "box_style": "",
            "children": [
              "IPY_MODEL_9caa21429e1847faba9ff9242310d285",
              "IPY_MODEL_97c003a419494ee5b8022bf133d60121"
            ],
            "layout": "IPY_MODEL_d99d50f96f75468aa369ab06b91a2833",
            "tabbable": null,
            "tooltip": null
          }
        },
        "9caa21429e1847faba9ff9242310d285": {
          "model_module": "@jupyter-widgets/controls",
          "model_name": "LabelModel",
          "model_module_version": "2.0.0",
          "state": {
            "_dom_classes": [],
            "_model_module": "@jupyter-widgets/controls",
            "_model_module_version": "2.0.0",
            "_model_name": "LabelModel",
            "_view_count": null,
            "_view_module": "@jupyter-widgets/controls",
            "_view_module_version": "2.0.0",
            "_view_name": "LabelView",
            "description": "",
            "description_allow_html": false,
            "layout": "IPY_MODEL_ec39917dcfaf4fb7ad971ab64538aa65",
            "placeholder": "​",
            "style": "IPY_MODEL_ec917d7916d94d6b9478c1b0309b01c2",
            "tabbable": null,
            "tooltip": null,
            "value": "0.004 MB of 0.005 MB uploaded (0.000 MB deduped)\r"
          }
        },
        "97c003a419494ee5b8022bf133d60121": {
          "model_module": "@jupyter-widgets/controls",
          "model_name": "FloatProgressModel",
          "model_module_version": "2.0.0",
          "state": {
            "_dom_classes": [],
            "_model_module": "@jupyter-widgets/controls",
            "_model_module_version": "2.0.0",
            "_model_name": "FloatProgressModel",
            "_view_count": null,
            "_view_module": "@jupyter-widgets/controls",
            "_view_module_version": "2.0.0",
            "_view_name": "ProgressView",
            "bar_style": "",
            "description": "",
            "description_allow_html": false,
            "layout": "IPY_MODEL_035047552a4544909c8c530ec8dfbce9",
            "max": 1,
            "min": 0,
            "orientation": "horizontal",
            "style": "IPY_MODEL_456f31d303214e2cb3b69acd708145e6",
            "tabbable": null,
            "tooltip": null,
            "value": 0.8565535345959122
          }
        },
        "d99d50f96f75468aa369ab06b91a2833": {
          "model_module": "@jupyter-widgets/base",
          "model_name": "LayoutModel",
          "model_module_version": "2.0.0",
          "state": {
            "_model_module": "@jupyter-widgets/base",
            "_model_module_version": "2.0.0",
            "_model_name": "LayoutModel",
            "_view_count": null,
            "_view_module": "@jupyter-widgets/base",
            "_view_module_version": "2.0.0",
            "_view_name": "LayoutView",
            "align_content": null,
            "align_items": null,
            "align_self": null,
            "border_bottom": null,
            "border_left": null,
            "border_right": null,
            "border_top": null,
            "bottom": null,
            "display": null,
            "flex": null,
            "flex_flow": null,
            "grid_area": null,
            "grid_auto_columns": null,
            "grid_auto_flow": null,
            "grid_auto_rows": null,
            "grid_column": null,
            "grid_gap": null,
            "grid_row": null,
            "grid_template_areas": null,
            "grid_template_columns": null,
            "grid_template_rows": null,
            "height": null,
            "justify_content": null,
            "justify_items": null,
            "left": null,
            "margin": null,
            "max_height": null,
            "max_width": null,
            "min_height": null,
            "min_width": null,
            "object_fit": null,
            "object_position": null,
            "order": null,
            "overflow": null,
            "padding": null,
            "right": null,
            "top": null,
            "visibility": null,
            "width": null
          }
        },
        "ec39917dcfaf4fb7ad971ab64538aa65": {
          "model_module": "@jupyter-widgets/base",
          "model_name": "LayoutModel",
          "model_module_version": "2.0.0",
          "state": {
            "_model_module": "@jupyter-widgets/base",
            "_model_module_version": "2.0.0",
            "_model_name": "LayoutModel",
            "_view_count": null,
            "_view_module": "@jupyter-widgets/base",
            "_view_module_version": "2.0.0",
            "_view_name": "LayoutView",
            "align_content": null,
            "align_items": null,
            "align_self": null,
            "border_bottom": null,
            "border_left": null,
            "border_right": null,
            "border_top": null,
            "bottom": null,
            "display": null,
            "flex": null,
            "flex_flow": null,
            "grid_area": null,
            "grid_auto_columns": null,
            "grid_auto_flow": null,
            "grid_auto_rows": null,
            "grid_column": null,
            "grid_gap": null,
            "grid_row": null,
            "grid_template_areas": null,
            "grid_template_columns": null,
            "grid_template_rows": null,
            "height": null,
            "justify_content": null,
            "justify_items": null,
            "left": null,
            "margin": null,
            "max_height": null,
            "max_width": null,
            "min_height": null,
            "min_width": null,
            "object_fit": null,
            "object_position": null,
            "order": null,
            "overflow": null,
            "padding": null,
            "right": null,
            "top": null,
            "visibility": null,
            "width": null
          }
        },
        "ec917d7916d94d6b9478c1b0309b01c2": {
          "model_module": "@jupyter-widgets/controls",
          "model_name": "LabelStyleModel",
          "model_module_version": "2.0.0",
          "state": {
            "_model_module": "@jupyter-widgets/controls",
            "_model_module_version": "2.0.0",
            "_model_name": "LabelStyleModel",
            "_view_count": null,
            "_view_module": "@jupyter-widgets/base",
            "_view_module_version": "2.0.0",
            "_view_name": "StyleView",
            "background": null,
            "description_width": "",
            "font_family": null,
            "font_size": null,
            "font_style": null,
            "font_variant": null,
            "font_weight": null,
            "text_color": null,
            "text_decoration": null
          }
        },
        "035047552a4544909c8c530ec8dfbce9": {
          "model_module": "@jupyter-widgets/base",
          "model_name": "LayoutModel",
          "model_module_version": "2.0.0",
          "state": {
            "_model_module": "@jupyter-widgets/base",
            "_model_module_version": "2.0.0",
            "_model_name": "LayoutModel",
            "_view_count": null,
            "_view_module": "@jupyter-widgets/base",
            "_view_module_version": "2.0.0",
            "_view_name": "LayoutView",
            "align_content": null,
            "align_items": null,
            "align_self": null,
            "border_bottom": null,
            "border_left": null,
            "border_right": null,
            "border_top": null,
            "bottom": null,
            "display": null,
            "flex": null,
            "flex_flow": null,
            "grid_area": null,
            "grid_auto_columns": null,
            "grid_auto_flow": null,
            "grid_auto_rows": null,
            "grid_column": null,
            "grid_gap": null,
            "grid_row": null,
            "grid_template_areas": null,
            "grid_template_columns": null,
            "grid_template_rows": null,
            "height": null,
            "justify_content": null,
            "justify_items": null,
            "left": null,
            "margin": null,
            "max_height": null,
            "max_width": null,
            "min_height": null,
            "min_width": null,
            "object_fit": null,
            "object_position": null,
            "order": null,
            "overflow": null,
            "padding": null,
            "right": null,
            "top": null,
            "visibility": null,
            "width": null
          }
        },
        "456f31d303214e2cb3b69acd708145e6": {
          "model_module": "@jupyter-widgets/controls",
          "model_name": "ProgressStyleModel",
          "model_module_version": "2.0.0",
          "state": {
            "_model_module": "@jupyter-widgets/controls",
            "_model_module_version": "2.0.0",
            "_model_name": "ProgressStyleModel",
            "_view_count": null,
            "_view_module": "@jupyter-widgets/base",
            "_view_module_version": "2.0.0",
            "_view_name": "StyleView",
            "bar_color": null,
            "description_width": ""
          }
        },
        "2a3293174ed842ec9957fcf075e4633a": {
          "model_module": "@jupyter-widgets/controls",
          "model_name": "VBoxModel",
          "model_module_version": "2.0.0",
          "state": {
            "_dom_classes": [],
            "_model_module": "@jupyter-widgets/controls",
            "_model_module_version": "2.0.0",
            "_model_name": "VBoxModel",
            "_view_count": null,
            "_view_module": "@jupyter-widgets/controls",
            "_view_module_version": "2.0.0",
            "_view_name": "VBoxView",
            "box_style": "",
            "children": [
              "IPY_MODEL_f72c9880ea8b495693911fb56d0ca6ba",
              "IPY_MODEL_0758108d98e14fa0805bd1902d0871eb"
            ],
            "layout": "IPY_MODEL_df3a6ae19f5646cbb1d0c2ae35ce7b2c",
            "tabbable": null,
            "tooltip": null
          }
        },
        "f72c9880ea8b495693911fb56d0ca6ba": {
          "model_module": "@jupyter-widgets/controls",
          "model_name": "LabelModel",
          "model_module_version": "2.0.0",
          "state": {
            "_dom_classes": [],
            "_model_module": "@jupyter-widgets/controls",
            "_model_module_version": "2.0.0",
            "_model_name": "LabelModel",
            "_view_count": null,
            "_view_module": "@jupyter-widgets/controls",
            "_view_module_version": "2.0.0",
            "_view_name": "LabelView",
            "description": "",
            "description_allow_html": false,
            "layout": "IPY_MODEL_7b745b2d48d34a84ba099668c1f34f5d",
            "placeholder": "​",
            "style": "IPY_MODEL_9b45c23454cd4c99aec1093974f48769",
            "tabbable": null,
            "tooltip": null,
            "value": "Waiting for wandb.init()...\r"
          }
        },
        "0758108d98e14fa0805bd1902d0871eb": {
          "model_module": "@jupyter-widgets/controls",
          "model_name": "FloatProgressModel",
          "model_module_version": "2.0.0",
          "state": {
            "_dom_classes": [],
            "_model_module": "@jupyter-widgets/controls",
            "_model_module_version": "2.0.0",
            "_model_name": "FloatProgressModel",
            "_view_count": null,
            "_view_module": "@jupyter-widgets/controls",
            "_view_module_version": "2.0.0",
            "_view_name": "ProgressView",
            "bar_style": "",
            "description": "",
            "description_allow_html": false,
            "layout": "IPY_MODEL_4a753ca2d30141ae9a8a01f045ef50c8",
            "max": 1,
            "min": 0,
            "orientation": "horizontal",
            "style": "IPY_MODEL_a5235c8e71d048d6a2f41d41ad595238",
            "tabbable": null,
            "tooltip": null,
            "value": 1
          }
        },
        "df3a6ae19f5646cbb1d0c2ae35ce7b2c": {
          "model_module": "@jupyter-widgets/base",
          "model_name": "LayoutModel",
          "model_module_version": "2.0.0",
          "state": {
            "_model_module": "@jupyter-widgets/base",
            "_model_module_version": "2.0.0",
            "_model_name": "LayoutModel",
            "_view_count": null,
            "_view_module": "@jupyter-widgets/base",
            "_view_module_version": "2.0.0",
            "_view_name": "LayoutView",
            "align_content": null,
            "align_items": null,
            "align_self": null,
            "border_bottom": null,
            "border_left": null,
            "border_right": null,
            "border_top": null,
            "bottom": null,
            "display": null,
            "flex": null,
            "flex_flow": null,
            "grid_area": null,
            "grid_auto_columns": null,
            "grid_auto_flow": null,
            "grid_auto_rows": null,
            "grid_column": null,
            "grid_gap": null,
            "grid_row": null,
            "grid_template_areas": null,
            "grid_template_columns": null,
            "grid_template_rows": null,
            "height": null,
            "justify_content": null,
            "justify_items": null,
            "left": null,
            "margin": null,
            "max_height": null,
            "max_width": null,
            "min_height": null,
            "min_width": null,
            "object_fit": null,
            "object_position": null,
            "order": null,
            "overflow": null,
            "padding": null,
            "right": null,
            "top": null,
            "visibility": null,
            "width": null
          }
        },
        "7b745b2d48d34a84ba099668c1f34f5d": {
          "model_module": "@jupyter-widgets/base",
          "model_name": "LayoutModel",
          "model_module_version": "2.0.0",
          "state": {
            "_model_module": "@jupyter-widgets/base",
            "_model_module_version": "2.0.0",
            "_model_name": "LayoutModel",
            "_view_count": null,
            "_view_module": "@jupyter-widgets/base",
            "_view_module_version": "2.0.0",
            "_view_name": "LayoutView",
            "align_content": null,
            "align_items": null,
            "align_self": null,
            "border_bottom": null,
            "border_left": null,
            "border_right": null,
            "border_top": null,
            "bottom": null,
            "display": null,
            "flex": null,
            "flex_flow": null,
            "grid_area": null,
            "grid_auto_columns": null,
            "grid_auto_flow": null,
            "grid_auto_rows": null,
            "grid_column": null,
            "grid_gap": null,
            "grid_row": null,
            "grid_template_areas": null,
            "grid_template_columns": null,
            "grid_template_rows": null,
            "height": null,
            "justify_content": null,
            "justify_items": null,
            "left": null,
            "margin": null,
            "max_height": null,
            "max_width": null,
            "min_height": null,
            "min_width": null,
            "object_fit": null,
            "object_position": null,
            "order": null,
            "overflow": null,
            "padding": null,
            "right": null,
            "top": null,
            "visibility": null,
            "width": null
          }
        },
        "9b45c23454cd4c99aec1093974f48769": {
          "model_module": "@jupyter-widgets/controls",
          "model_name": "LabelStyleModel",
          "model_module_version": "2.0.0",
          "state": {
            "_model_module": "@jupyter-widgets/controls",
            "_model_module_version": "2.0.0",
            "_model_name": "LabelStyleModel",
            "_view_count": null,
            "_view_module": "@jupyter-widgets/base",
            "_view_module_version": "2.0.0",
            "_view_name": "StyleView",
            "background": null,
            "description_width": "",
            "font_family": null,
            "font_size": null,
            "font_style": null,
            "font_variant": null,
            "font_weight": null,
            "text_color": null,
            "text_decoration": null
          }
        },
        "4a753ca2d30141ae9a8a01f045ef50c8": {
          "model_module": "@jupyter-widgets/base",
          "model_name": "LayoutModel",
          "model_module_version": "2.0.0",
          "state": {
            "_model_module": "@jupyter-widgets/base",
            "_model_module_version": "2.0.0",
            "_model_name": "LayoutModel",
            "_view_count": null,
            "_view_module": "@jupyter-widgets/base",
            "_view_module_version": "2.0.0",
            "_view_name": "LayoutView",
            "align_content": null,
            "align_items": null,
            "align_self": null,
            "border_bottom": null,
            "border_left": null,
            "border_right": null,
            "border_top": null,
            "bottom": null,
            "display": null,
            "flex": null,
            "flex_flow": null,
            "grid_area": null,
            "grid_auto_columns": null,
            "grid_auto_flow": null,
            "grid_auto_rows": null,
            "grid_column": null,
            "grid_gap": null,
            "grid_row": null,
            "grid_template_areas": null,
            "grid_template_columns": null,
            "grid_template_rows": null,
            "height": null,
            "justify_content": null,
            "justify_items": null,
            "left": null,
            "margin": null,
            "max_height": null,
            "max_width": null,
            "min_height": null,
            "min_width": null,
            "object_fit": null,
            "object_position": null,
            "order": null,
            "overflow": null,
            "padding": null,
            "right": null,
            "top": null,
            "visibility": null,
            "width": null
          }
        },
        "a5235c8e71d048d6a2f41d41ad595238": {
          "model_module": "@jupyter-widgets/controls",
          "model_name": "ProgressStyleModel",
          "model_module_version": "2.0.0",
          "state": {
            "_model_module": "@jupyter-widgets/controls",
            "_model_module_version": "2.0.0",
            "_model_name": "ProgressStyleModel",
            "_view_count": null,
            "_view_module": "@jupyter-widgets/base",
            "_view_module_version": "2.0.0",
            "_view_name": "StyleView",
            "bar_color": null,
            "description_width": ""
          }
        },
        "34dbc689cf2e4fff874511a455971ebd": {
          "model_module": "@jupyter-widgets/controls",
          "model_name": "VBoxModel",
          "model_module_version": "2.0.0",
          "state": {
            "_dom_classes": [],
            "_model_module": "@jupyter-widgets/controls",
            "_model_module_version": "2.0.0",
            "_model_name": "VBoxModel",
            "_view_count": null,
            "_view_module": "@jupyter-widgets/controls",
            "_view_module_version": "2.0.0",
            "_view_name": "VBoxView",
            "box_style": "",
            "children": [
              "IPY_MODEL_f7066188faa244569c653427796d3b10",
              "IPY_MODEL_c96765739a9c4700afaff6491cdbab92"
            ],
            "layout": "IPY_MODEL_7e57b70636274da3a90d2cc6a7b329bb",
            "tabbable": null,
            "tooltip": null
          }
        },
        "f7066188faa244569c653427796d3b10": {
          "model_module": "@jupyter-widgets/controls",
          "model_name": "LabelModel",
          "model_module_version": "2.0.0",
          "state": {
            "_dom_classes": [],
            "_model_module": "@jupyter-widgets/controls",
            "_model_module_version": "2.0.0",
            "_model_name": "LabelModel",
            "_view_count": null,
            "_view_module": "@jupyter-widgets/controls",
            "_view_module_version": "2.0.0",
            "_view_name": "LabelView",
            "description": "",
            "description_allow_html": false,
            "layout": "IPY_MODEL_19ec5b25f96846edbc32279adc8f88c5",
            "placeholder": "​",
            "style": "IPY_MODEL_03c9b07cedac44eabb15eb1bbc373f95",
            "tabbable": null,
            "tooltip": null,
            "value": "Waiting for wandb.init()...\r"
          }
        },
        "c96765739a9c4700afaff6491cdbab92": {
          "model_module": "@jupyter-widgets/controls",
          "model_name": "FloatProgressModel",
          "model_module_version": "2.0.0",
          "state": {
            "_dom_classes": [],
            "_model_module": "@jupyter-widgets/controls",
            "_model_module_version": "2.0.0",
            "_model_name": "FloatProgressModel",
            "_view_count": null,
            "_view_module": "@jupyter-widgets/controls",
            "_view_module_version": "2.0.0",
            "_view_name": "ProgressView",
            "bar_style": "",
            "description": "",
            "description_allow_html": false,
            "layout": "IPY_MODEL_8091c21cf6e2421684a56acb1c7666d6",
            "max": 1,
            "min": 0,
            "orientation": "horizontal",
            "style": "IPY_MODEL_3a6fa784cf0b4045943b5628f2ae9ce5",
            "tabbable": null,
            "tooltip": null,
            "value": 1
          }
        },
        "7e57b70636274da3a90d2cc6a7b329bb": {
          "model_module": "@jupyter-widgets/base",
          "model_name": "LayoutModel",
          "model_module_version": "2.0.0",
          "state": {
            "_model_module": "@jupyter-widgets/base",
            "_model_module_version": "2.0.0",
            "_model_name": "LayoutModel",
            "_view_count": null,
            "_view_module": "@jupyter-widgets/base",
            "_view_module_version": "2.0.0",
            "_view_name": "LayoutView",
            "align_content": null,
            "align_items": null,
            "align_self": null,
            "border_bottom": null,
            "border_left": null,
            "border_right": null,
            "border_top": null,
            "bottom": null,
            "display": null,
            "flex": null,
            "flex_flow": null,
            "grid_area": null,
            "grid_auto_columns": null,
            "grid_auto_flow": null,
            "grid_auto_rows": null,
            "grid_column": null,
            "grid_gap": null,
            "grid_row": null,
            "grid_template_areas": null,
            "grid_template_columns": null,
            "grid_template_rows": null,
            "height": null,
            "justify_content": null,
            "justify_items": null,
            "left": null,
            "margin": null,
            "max_height": null,
            "max_width": null,
            "min_height": null,
            "min_width": null,
            "object_fit": null,
            "object_position": null,
            "order": null,
            "overflow": null,
            "padding": null,
            "right": null,
            "top": null,
            "visibility": null,
            "width": null
          }
        },
        "19ec5b25f96846edbc32279adc8f88c5": {
          "model_module": "@jupyter-widgets/base",
          "model_name": "LayoutModel",
          "model_module_version": "2.0.0",
          "state": {
            "_model_module": "@jupyter-widgets/base",
            "_model_module_version": "2.0.0",
            "_model_name": "LayoutModel",
            "_view_count": null,
            "_view_module": "@jupyter-widgets/base",
            "_view_module_version": "2.0.0",
            "_view_name": "LayoutView",
            "align_content": null,
            "align_items": null,
            "align_self": null,
            "border_bottom": null,
            "border_left": null,
            "border_right": null,
            "border_top": null,
            "bottom": null,
            "display": null,
            "flex": null,
            "flex_flow": null,
            "grid_area": null,
            "grid_auto_columns": null,
            "grid_auto_flow": null,
            "grid_auto_rows": null,
            "grid_column": null,
            "grid_gap": null,
            "grid_row": null,
            "grid_template_areas": null,
            "grid_template_columns": null,
            "grid_template_rows": null,
            "height": null,
            "justify_content": null,
            "justify_items": null,
            "left": null,
            "margin": null,
            "max_height": null,
            "max_width": null,
            "min_height": null,
            "min_width": null,
            "object_fit": null,
            "object_position": null,
            "order": null,
            "overflow": null,
            "padding": null,
            "right": null,
            "top": null,
            "visibility": null,
            "width": null
          }
        },
        "03c9b07cedac44eabb15eb1bbc373f95": {
          "model_module": "@jupyter-widgets/controls",
          "model_name": "LabelStyleModel",
          "model_module_version": "2.0.0",
          "state": {
            "_model_module": "@jupyter-widgets/controls",
            "_model_module_version": "2.0.0",
            "_model_name": "LabelStyleModel",
            "_view_count": null,
            "_view_module": "@jupyter-widgets/base",
            "_view_module_version": "2.0.0",
            "_view_name": "StyleView",
            "background": null,
            "description_width": "",
            "font_family": null,
            "font_size": null,
            "font_style": null,
            "font_variant": null,
            "font_weight": null,
            "text_color": null,
            "text_decoration": null
          }
        },
        "8091c21cf6e2421684a56acb1c7666d6": {
          "model_module": "@jupyter-widgets/base",
          "model_name": "LayoutModel",
          "model_module_version": "2.0.0",
          "state": {
            "_model_module": "@jupyter-widgets/base",
            "_model_module_version": "2.0.0",
            "_model_name": "LayoutModel",
            "_view_count": null,
            "_view_module": "@jupyter-widgets/base",
            "_view_module_version": "2.0.0",
            "_view_name": "LayoutView",
            "align_content": null,
            "align_items": null,
            "align_self": null,
            "border_bottom": null,
            "border_left": null,
            "border_right": null,
            "border_top": null,
            "bottom": null,
            "display": null,
            "flex": null,
            "flex_flow": null,
            "grid_area": null,
            "grid_auto_columns": null,
            "grid_auto_flow": null,
            "grid_auto_rows": null,
            "grid_column": null,
            "grid_gap": null,
            "grid_row": null,
            "grid_template_areas": null,
            "grid_template_columns": null,
            "grid_template_rows": null,
            "height": null,
            "justify_content": null,
            "justify_items": null,
            "left": null,
            "margin": null,
            "max_height": null,
            "max_width": null,
            "min_height": null,
            "min_width": null,
            "object_fit": null,
            "object_position": null,
            "order": null,
            "overflow": null,
            "padding": null,
            "right": null,
            "top": null,
            "visibility": null,
            "width": null
          }
        },
        "3a6fa784cf0b4045943b5628f2ae9ce5": {
          "model_module": "@jupyter-widgets/controls",
          "model_name": "ProgressStyleModel",
          "model_module_version": "2.0.0",
          "state": {
            "_model_module": "@jupyter-widgets/controls",
            "_model_module_version": "2.0.0",
            "_model_name": "ProgressStyleModel",
            "_view_count": null,
            "_view_module": "@jupyter-widgets/base",
            "_view_module_version": "2.0.0",
            "_view_name": "StyleView",
            "bar_color": null,
            "description_width": ""
          }
        },
        "e544b7a44fc94a39bd1bfa03d76a8b74": {
          "model_module": "@jupyter-widgets/controls",
          "model_name": "VBoxModel",
          "model_module_version": "2.0.0",
          "state": {
            "_dom_classes": [],
            "_model_module": "@jupyter-widgets/controls",
            "_model_module_version": "2.0.0",
            "_model_name": "VBoxModel",
            "_view_count": null,
            "_view_module": "@jupyter-widgets/controls",
            "_view_module_version": "2.0.0",
            "_view_name": "VBoxView",
            "box_style": "",
            "children": [
              "IPY_MODEL_06fd3fcaa6c043fbbead6d04f64b7896",
              "IPY_MODEL_48a690ee25644733bcdcf5a26f68220a"
            ],
            "layout": "IPY_MODEL_16e48a59098b45b299d81ad87efe4079",
            "tabbable": null,
            "tooltip": null
          }
        },
        "06fd3fcaa6c043fbbead6d04f64b7896": {
          "model_module": "@jupyter-widgets/controls",
          "model_name": "LabelModel",
          "model_module_version": "2.0.0",
          "state": {
            "_dom_classes": [],
            "_model_module": "@jupyter-widgets/controls",
            "_model_module_version": "2.0.0",
            "_model_name": "LabelModel",
            "_view_count": null,
            "_view_module": "@jupyter-widgets/controls",
            "_view_module_version": "2.0.0",
            "_view_name": "LabelView",
            "description": "",
            "description_allow_html": false,
            "layout": "IPY_MODEL_f3902160424145d293cb2faf7b71999a",
            "placeholder": "​",
            "style": "IPY_MODEL_0e583904790f4720bdc7129b845acf44",
            "tabbable": null,
            "tooltip": null,
            "value": "952.335 MB of 952.335 MB uploaded (9.780 MB deduped)\r"
          }
        },
        "48a690ee25644733bcdcf5a26f68220a": {
          "model_module": "@jupyter-widgets/controls",
          "model_name": "FloatProgressModel",
          "model_module_version": "2.0.0",
          "state": {
            "_dom_classes": [],
            "_model_module": "@jupyter-widgets/controls",
            "_model_module_version": "2.0.0",
            "_model_name": "FloatProgressModel",
            "_view_count": null,
            "_view_module": "@jupyter-widgets/controls",
            "_view_module_version": "2.0.0",
            "_view_name": "ProgressView",
            "bar_style": "",
            "description": "",
            "description_allow_html": false,
            "layout": "IPY_MODEL_4a9344c1296d4dfbb869d4bafa74060d",
            "max": 1,
            "min": 0,
            "orientation": "horizontal",
            "style": "IPY_MODEL_14c2edd11d964bd3b28716d20b266a06",
            "tabbable": null,
            "tooltip": null,
            "value": 1
          }
        },
        "16e48a59098b45b299d81ad87efe4079": {
          "model_module": "@jupyter-widgets/base",
          "model_name": "LayoutModel",
          "model_module_version": "2.0.0",
          "state": {
            "_model_module": "@jupyter-widgets/base",
            "_model_module_version": "2.0.0",
            "_model_name": "LayoutModel",
            "_view_count": null,
            "_view_module": "@jupyter-widgets/base",
            "_view_module_version": "2.0.0",
            "_view_name": "LayoutView",
            "align_content": null,
            "align_items": null,
            "align_self": null,
            "border_bottom": null,
            "border_left": null,
            "border_right": null,
            "border_top": null,
            "bottom": null,
            "display": null,
            "flex": null,
            "flex_flow": null,
            "grid_area": null,
            "grid_auto_columns": null,
            "grid_auto_flow": null,
            "grid_auto_rows": null,
            "grid_column": null,
            "grid_gap": null,
            "grid_row": null,
            "grid_template_areas": null,
            "grid_template_columns": null,
            "grid_template_rows": null,
            "height": null,
            "justify_content": null,
            "justify_items": null,
            "left": null,
            "margin": null,
            "max_height": null,
            "max_width": null,
            "min_height": null,
            "min_width": null,
            "object_fit": null,
            "object_position": null,
            "order": null,
            "overflow": null,
            "padding": null,
            "right": null,
            "top": null,
            "visibility": null,
            "width": null
          }
        },
        "f3902160424145d293cb2faf7b71999a": {
          "model_module": "@jupyter-widgets/base",
          "model_name": "LayoutModel",
          "model_module_version": "2.0.0",
          "state": {
            "_model_module": "@jupyter-widgets/base",
            "_model_module_version": "2.0.0",
            "_model_name": "LayoutModel",
            "_view_count": null,
            "_view_module": "@jupyter-widgets/base",
            "_view_module_version": "2.0.0",
            "_view_name": "LayoutView",
            "align_content": null,
            "align_items": null,
            "align_self": null,
            "border_bottom": null,
            "border_left": null,
            "border_right": null,
            "border_top": null,
            "bottom": null,
            "display": null,
            "flex": null,
            "flex_flow": null,
            "grid_area": null,
            "grid_auto_columns": null,
            "grid_auto_flow": null,
            "grid_auto_rows": null,
            "grid_column": null,
            "grid_gap": null,
            "grid_row": null,
            "grid_template_areas": null,
            "grid_template_columns": null,
            "grid_template_rows": null,
            "height": null,
            "justify_content": null,
            "justify_items": null,
            "left": null,
            "margin": null,
            "max_height": null,
            "max_width": null,
            "min_height": null,
            "min_width": null,
            "object_fit": null,
            "object_position": null,
            "order": null,
            "overflow": null,
            "padding": null,
            "right": null,
            "top": null,
            "visibility": null,
            "width": null
          }
        },
        "0e583904790f4720bdc7129b845acf44": {
          "model_module": "@jupyter-widgets/controls",
          "model_name": "LabelStyleModel",
          "model_module_version": "2.0.0",
          "state": {
            "_model_module": "@jupyter-widgets/controls",
            "_model_module_version": "2.0.0",
            "_model_name": "LabelStyleModel",
            "_view_count": null,
            "_view_module": "@jupyter-widgets/base",
            "_view_module_version": "2.0.0",
            "_view_name": "StyleView",
            "background": null,
            "description_width": "",
            "font_family": null,
            "font_size": null,
            "font_style": null,
            "font_variant": null,
            "font_weight": null,
            "text_color": null,
            "text_decoration": null
          }
        },
        "4a9344c1296d4dfbb869d4bafa74060d": {
          "model_module": "@jupyter-widgets/base",
          "model_name": "LayoutModel",
          "model_module_version": "2.0.0",
          "state": {
            "_model_module": "@jupyter-widgets/base",
            "_model_module_version": "2.0.0",
            "_model_name": "LayoutModel",
            "_view_count": null,
            "_view_module": "@jupyter-widgets/base",
            "_view_module_version": "2.0.0",
            "_view_name": "LayoutView",
            "align_content": null,
            "align_items": null,
            "align_self": null,
            "border_bottom": null,
            "border_left": null,
            "border_right": null,
            "border_top": null,
            "bottom": null,
            "display": null,
            "flex": null,
            "flex_flow": null,
            "grid_area": null,
            "grid_auto_columns": null,
            "grid_auto_flow": null,
            "grid_auto_rows": null,
            "grid_column": null,
            "grid_gap": null,
            "grid_row": null,
            "grid_template_areas": null,
            "grid_template_columns": null,
            "grid_template_rows": null,
            "height": null,
            "justify_content": null,
            "justify_items": null,
            "left": null,
            "margin": null,
            "max_height": null,
            "max_width": null,
            "min_height": null,
            "min_width": null,
            "object_fit": null,
            "object_position": null,
            "order": null,
            "overflow": null,
            "padding": null,
            "right": null,
            "top": null,
            "visibility": null,
            "width": null
          }
        },
        "14c2edd11d964bd3b28716d20b266a06": {
          "model_module": "@jupyter-widgets/controls",
          "model_name": "ProgressStyleModel",
          "model_module_version": "2.0.0",
          "state": {
            "_model_module": "@jupyter-widgets/controls",
            "_model_module_version": "2.0.0",
            "_model_name": "ProgressStyleModel",
            "_view_count": null,
            "_view_module": "@jupyter-widgets/base",
            "_view_module_version": "2.0.0",
            "_view_name": "StyleView",
            "bar_color": null,
            "description_width": ""
          }
        },
        "c0a917e0fb5f48b98a60d4dacaf00d79": {
          "model_module": "@jupyter-widgets/controls",
          "model_name": "VBoxModel",
          "model_module_version": "2.0.0",
          "state": {
            "_dom_classes": [],
            "_model_module": "@jupyter-widgets/controls",
            "_model_module_version": "2.0.0",
            "_model_name": "VBoxModel",
            "_view_count": null,
            "_view_module": "@jupyter-widgets/controls",
            "_view_module_version": "2.0.0",
            "_view_name": "VBoxView",
            "box_style": "",
            "children": [
              "IPY_MODEL_3a3988594c034ce6a88aaa4c9021d0bd",
              "IPY_MODEL_9747a8ec45784c0fae961f527cf4035d"
            ],
            "layout": "IPY_MODEL_383c0f41f628423b89b25912fc0505c8",
            "tabbable": null,
            "tooltip": null
          }
        },
        "3a3988594c034ce6a88aaa4c9021d0bd": {
          "model_module": "@jupyter-widgets/controls",
          "model_name": "LabelModel",
          "model_module_version": "2.0.0",
          "state": {
            "_dom_classes": [],
            "_model_module": "@jupyter-widgets/controls",
            "_model_module_version": "2.0.0",
            "_model_name": "LabelModel",
            "_view_count": null,
            "_view_module": "@jupyter-widgets/controls",
            "_view_module_version": "2.0.0",
            "_view_name": "LabelView",
            "description": "",
            "description_allow_html": false,
            "layout": "IPY_MODEL_ca58c54e398b49d781fbfc0c56956f19",
            "placeholder": "​",
            "style": "IPY_MODEL_d0c7205dc9c647faac3aa4257c9a3b63",
            "tabbable": null,
            "tooltip": null,
            "value": "Waiting for wandb.init()...\r"
          }
        },
        "9747a8ec45784c0fae961f527cf4035d": {
          "model_module": "@jupyter-widgets/controls",
          "model_name": "FloatProgressModel",
          "model_module_version": "2.0.0",
          "state": {
            "_dom_classes": [],
            "_model_module": "@jupyter-widgets/controls",
            "_model_module_version": "2.0.0",
            "_model_name": "FloatProgressModel",
            "_view_count": null,
            "_view_module": "@jupyter-widgets/controls",
            "_view_module_version": "2.0.0",
            "_view_name": "ProgressView",
            "bar_style": "",
            "description": "",
            "description_allow_html": false,
            "layout": "IPY_MODEL_5cd6de22fa9f455a9cbf09d31276f4c0",
            "max": 1,
            "min": 0,
            "orientation": "horizontal",
            "style": "IPY_MODEL_9546553692b245feacade9b1cb6b9513",
            "tabbable": null,
            "tooltip": null,
            "value": 1
          }
        },
        "383c0f41f628423b89b25912fc0505c8": {
          "model_module": "@jupyter-widgets/base",
          "model_name": "LayoutModel",
          "model_module_version": "2.0.0",
          "state": {
            "_model_module": "@jupyter-widgets/base",
            "_model_module_version": "2.0.0",
            "_model_name": "LayoutModel",
            "_view_count": null,
            "_view_module": "@jupyter-widgets/base",
            "_view_module_version": "2.0.0",
            "_view_name": "LayoutView",
            "align_content": null,
            "align_items": null,
            "align_self": null,
            "border_bottom": null,
            "border_left": null,
            "border_right": null,
            "border_top": null,
            "bottom": null,
            "display": null,
            "flex": null,
            "flex_flow": null,
            "grid_area": null,
            "grid_auto_columns": null,
            "grid_auto_flow": null,
            "grid_auto_rows": null,
            "grid_column": null,
            "grid_gap": null,
            "grid_row": null,
            "grid_template_areas": null,
            "grid_template_columns": null,
            "grid_template_rows": null,
            "height": null,
            "justify_content": null,
            "justify_items": null,
            "left": null,
            "margin": null,
            "max_height": null,
            "max_width": null,
            "min_height": null,
            "min_width": null,
            "object_fit": null,
            "object_position": null,
            "order": null,
            "overflow": null,
            "padding": null,
            "right": null,
            "top": null,
            "visibility": null,
            "width": null
          }
        },
        "ca58c54e398b49d781fbfc0c56956f19": {
          "model_module": "@jupyter-widgets/base",
          "model_name": "LayoutModel",
          "model_module_version": "2.0.0",
          "state": {
            "_model_module": "@jupyter-widgets/base",
            "_model_module_version": "2.0.0",
            "_model_name": "LayoutModel",
            "_view_count": null,
            "_view_module": "@jupyter-widgets/base",
            "_view_module_version": "2.0.0",
            "_view_name": "LayoutView",
            "align_content": null,
            "align_items": null,
            "align_self": null,
            "border_bottom": null,
            "border_left": null,
            "border_right": null,
            "border_top": null,
            "bottom": null,
            "display": null,
            "flex": null,
            "flex_flow": null,
            "grid_area": null,
            "grid_auto_columns": null,
            "grid_auto_flow": null,
            "grid_auto_rows": null,
            "grid_column": null,
            "grid_gap": null,
            "grid_row": null,
            "grid_template_areas": null,
            "grid_template_columns": null,
            "grid_template_rows": null,
            "height": null,
            "justify_content": null,
            "justify_items": null,
            "left": null,
            "margin": null,
            "max_height": null,
            "max_width": null,
            "min_height": null,
            "min_width": null,
            "object_fit": null,
            "object_position": null,
            "order": null,
            "overflow": null,
            "padding": null,
            "right": null,
            "top": null,
            "visibility": null,
            "width": null
          }
        },
        "d0c7205dc9c647faac3aa4257c9a3b63": {
          "model_module": "@jupyter-widgets/controls",
          "model_name": "LabelStyleModel",
          "model_module_version": "2.0.0",
          "state": {
            "_model_module": "@jupyter-widgets/controls",
            "_model_module_version": "2.0.0",
            "_model_name": "LabelStyleModel",
            "_view_count": null,
            "_view_module": "@jupyter-widgets/base",
            "_view_module_version": "2.0.0",
            "_view_name": "StyleView",
            "background": null,
            "description_width": "",
            "font_family": null,
            "font_size": null,
            "font_style": null,
            "font_variant": null,
            "font_weight": null,
            "text_color": null,
            "text_decoration": null
          }
        },
        "5cd6de22fa9f455a9cbf09d31276f4c0": {
          "model_module": "@jupyter-widgets/base",
          "model_name": "LayoutModel",
          "model_module_version": "2.0.0",
          "state": {
            "_model_module": "@jupyter-widgets/base",
            "_model_module_version": "2.0.0",
            "_model_name": "LayoutModel",
            "_view_count": null,
            "_view_module": "@jupyter-widgets/base",
            "_view_module_version": "2.0.0",
            "_view_name": "LayoutView",
            "align_content": null,
            "align_items": null,
            "align_self": null,
            "border_bottom": null,
            "border_left": null,
            "border_right": null,
            "border_top": null,
            "bottom": null,
            "display": null,
            "flex": null,
            "flex_flow": null,
            "grid_area": null,
            "grid_auto_columns": null,
            "grid_auto_flow": null,
            "grid_auto_rows": null,
            "grid_column": null,
            "grid_gap": null,
            "grid_row": null,
            "grid_template_areas": null,
            "grid_template_columns": null,
            "grid_template_rows": null,
            "height": null,
            "justify_content": null,
            "justify_items": null,
            "left": null,
            "margin": null,
            "max_height": null,
            "max_width": null,
            "min_height": null,
            "min_width": null,
            "object_fit": null,
            "object_position": null,
            "order": null,
            "overflow": null,
            "padding": null,
            "right": null,
            "top": null,
            "visibility": null,
            "width": null
          }
        },
        "9546553692b245feacade9b1cb6b9513": {
          "model_module": "@jupyter-widgets/controls",
          "model_name": "ProgressStyleModel",
          "model_module_version": "2.0.0",
          "state": {
            "_model_module": "@jupyter-widgets/controls",
            "_model_module_version": "2.0.0",
            "_model_name": "ProgressStyleModel",
            "_view_count": null,
            "_view_module": "@jupyter-widgets/base",
            "_view_module_version": "2.0.0",
            "_view_name": "StyleView",
            "bar_color": null,
            "description_width": ""
          }
        }
      }
    }
  },
  "cells": [
    {
      "cell_type": "markdown",
      "source": [
        "#Hand Sign language detection"
      ],
      "metadata": {
        "id": "dftRIMITzC4C"
      }
    },
    {
      "cell_type": "markdown",
      "source": [
        "We have used American Sign Language which is a public dataset which normally used for communication with the disabled. This dataset can also be very useful for Human-Computer Interaction. In this notebook, we are going to find the best architecture for hand sign language detection using Deep learning."
      ],
      "metadata": {
        "id": "vjKssfvnzFOH"
      }
    },
    {
      "cell_type": "markdown",
      "source": [
        "#Importing dependencies"
      ],
      "metadata": {
        "id": "lQn3GhDAzAhe"
      }
    },
    {
      "cell_type": "code",
      "source": [
        "# pip install keras"
      ],
      "metadata": {
        "id": "LbGV3pqjFoxA"
      },
      "execution_count": null,
      "outputs": []
    },
    {
      "cell_type": "code",
      "source": [
        "# pip install wandb"
      ],
      "metadata": {
        "id": "BsH5GYqX13Ng",
        "colab": {
          "base_uri": "https://localhost:8080/"
        },
        "outputId": "8edd1a0d-21e4-4937-a8d8-698a8d0443bb"
      },
      "execution_count": 12,
      "outputs": [
        {
          "output_type": "stream",
          "name": "stdout",
          "text": [
            "Collecting wandb\n",
            "  Downloading wandb-0.15.8-py3-none-any.whl (2.1 MB)\n",
            "\u001b[2K     \u001b[90m━━━━━━━━━━━━━━━━━━━━━━━━━━━━━━━━━━━━━━━━\u001b[0m \u001b[32m2.1/2.1 MB\u001b[0m \u001b[31m9.7 MB/s\u001b[0m eta \u001b[36m0:00:00\u001b[0m\n",
            "\u001b[?25hRequirement already satisfied: Click!=8.0.0,>=7.1 in /usr/local/lib/python3.10/dist-packages (from wandb) (8.1.6)\n",
            "Collecting GitPython!=3.1.29,>=1.0.0 (from wandb)\n",
            "  Downloading GitPython-3.1.32-py3-none-any.whl (188 kB)\n",
            "\u001b[2K     \u001b[90m━━━━━━━━━━━━━━━━━━━━━━━━━━━━━━━━━━━━━━\u001b[0m \u001b[32m188.5/188.5 kB\u001b[0m \u001b[31m13.8 MB/s\u001b[0m eta \u001b[36m0:00:00\u001b[0m\n",
            "\u001b[?25hRequirement already satisfied: requests<3,>=2.0.0 in /usr/local/lib/python3.10/dist-packages (from wandb) (2.31.0)\n",
            "Requirement already satisfied: psutil>=5.0.0 in /usr/local/lib/python3.10/dist-packages (from wandb) (5.9.5)\n",
            "Collecting sentry-sdk>=1.0.0 (from wandb)\n",
            "  Downloading sentry_sdk-1.29.2-py2.py3-none-any.whl (215 kB)\n",
            "\u001b[2K     \u001b[90m━━━━━━━━━━━━━━━━━━━━━━━━━━━━━━━━━━━━━━\u001b[0m \u001b[32m215.6/215.6 kB\u001b[0m \u001b[31m12.4 MB/s\u001b[0m eta \u001b[36m0:00:00\u001b[0m\n",
            "\u001b[?25hCollecting docker-pycreds>=0.4.0 (from wandb)\n",
            "  Downloading docker_pycreds-0.4.0-py2.py3-none-any.whl (9.0 kB)\n",
            "Requirement already satisfied: PyYAML in /usr/local/lib/python3.10/dist-packages (from wandb) (6.0.1)\n",
            "Collecting pathtools (from wandb)\n",
            "  Downloading pathtools-0.1.2.tar.gz (11 kB)\n",
            "  Preparing metadata (setup.py) ... \u001b[?25l\u001b[?25hdone\n",
            "Collecting setproctitle (from wandb)\n",
            "  Downloading setproctitle-1.3.2-cp310-cp310-manylinux_2_5_x86_64.manylinux1_x86_64.manylinux_2_17_x86_64.manylinux2014_x86_64.whl (30 kB)\n",
            "Requirement already satisfied: setuptools in /usr/local/lib/python3.10/dist-packages (from wandb) (67.7.2)\n",
            "Requirement already satisfied: appdirs>=1.4.3 in /usr/local/lib/python3.10/dist-packages (from wandb) (1.4.4)\n",
            "Requirement already satisfied: protobuf!=4.21.0,<5,>=3.19.0 in /usr/local/lib/python3.10/dist-packages (from wandb) (3.20.3)\n",
            "Requirement already satisfied: six>=1.4.0 in /usr/local/lib/python3.10/dist-packages (from docker-pycreds>=0.4.0->wandb) (1.16.0)\n",
            "Collecting gitdb<5,>=4.0.1 (from GitPython!=3.1.29,>=1.0.0->wandb)\n",
            "  Downloading gitdb-4.0.10-py3-none-any.whl (62 kB)\n",
            "\u001b[2K     \u001b[90m━━━━━━━━━━━━━━━━━━━━━━━━━━━━━━━━━━━━━━━━\u001b[0m \u001b[32m62.7/62.7 kB\u001b[0m \u001b[31m6.4 MB/s\u001b[0m eta \u001b[36m0:00:00\u001b[0m\n",
            "\u001b[?25hRequirement already satisfied: charset-normalizer<4,>=2 in /usr/local/lib/python3.10/dist-packages (from requests<3,>=2.0.0->wandb) (3.2.0)\n",
            "Requirement already satisfied: idna<4,>=2.5 in /usr/local/lib/python3.10/dist-packages (from requests<3,>=2.0.0->wandb) (3.4)\n",
            "Requirement already satisfied: urllib3<3,>=1.21.1 in /usr/local/lib/python3.10/dist-packages (from requests<3,>=2.0.0->wandb) (1.26.16)\n",
            "Requirement already satisfied: certifi>=2017.4.17 in /usr/local/lib/python3.10/dist-packages (from requests<3,>=2.0.0->wandb) (2023.7.22)\n",
            "Collecting smmap<6,>=3.0.1 (from gitdb<5,>=4.0.1->GitPython!=3.1.29,>=1.0.0->wandb)\n",
            "  Downloading smmap-5.0.0-py3-none-any.whl (24 kB)\n",
            "Building wheels for collected packages: pathtools\n",
            "  Building wheel for pathtools (setup.py) ... \u001b[?25l\u001b[?25hdone\n",
            "  Created wheel for pathtools: filename=pathtools-0.1.2-py3-none-any.whl size=8791 sha256=d5dc0b23351d31dc74eb1ac76a8f74e9fb3640ba16ec4e338a71b2b65f5c10ef\n",
            "  Stored in directory: /root/.cache/pip/wheels/e7/f3/22/152153d6eb222ee7a56ff8617d80ee5207207a8c00a7aab794\n",
            "Successfully built pathtools\n",
            "Installing collected packages: pathtools, smmap, setproctitle, sentry-sdk, docker-pycreds, gitdb, GitPython, wandb\n",
            "Successfully installed GitPython-3.1.32 docker-pycreds-0.4.0 gitdb-4.0.10 pathtools-0.1.2 sentry-sdk-1.29.2 setproctitle-1.3.2 smmap-5.0.0 wandb-0.15.8\n"
          ]
        }
      ]
    },
    {
      "cell_type": "code",
      "source": [
        "!wandb login"
      ],
      "metadata": {
        "colab": {
          "base_uri": "https://localhost:8080/"
        },
        "id": "GySDj-psSgjR",
        "outputId": "a259135e-a0f8-4f64-af99-94992da5760a"
      },
      "execution_count": 1,
      "outputs": [
        {
          "output_type": "stream",
          "name": "stderr",
          "text": [
            "wandb: Currently logged in as: humushtaq73 (thesocialnexus). Use `wandb login --relogin` to force relogin\n"
          ]
        }
      ]
    },
    {
      "cell_type": "code",
      "source": [
        "# install and import special package\n",
        "# !pip install split-folders"
      ],
      "metadata": {
        "id": "A7WRmwV2Cwgk"
      },
      "execution_count": 2,
      "outputs": []
    },
    {
      "cell_type": "code",
      "source": [],
      "metadata": {
        "id": "tiK9wnwqaye_"
      },
      "execution_count": 2,
      "outputs": []
    },
    {
      "cell_type": "code",
      "source": [
        "import os\n",
        "os.environ['TF_ENABLE_ONEDNN_OPTS'] = '1'"
      ],
      "metadata": {
        "id": "MqYlpA53JQLk"
      },
      "execution_count": 3,
      "outputs": []
    },
    {
      "cell_type": "code",
      "execution_count": 4,
      "metadata": {
        "id": "LDPu4iRD1uQ4",
        "colab": {
          "base_uri": "https://localhost:8080/"
        },
        "outputId": "89b5d68c-94c4-486f-e6b7-e7e9350f588c"
      },
      "outputs": [
        {
          "output_type": "execute_result",
          "data": {
            "text/plain": [
              "'2.13.0'"
            ]
          },
          "metadata": {},
          "execution_count": 4
        }
      ],
      "source": [
        "import pandas as pd\n",
        "import numpy as np\n",
        "import zipfile\n",
        "import os\n",
        "#Visualization tools\n",
        "import matplotlib\n",
        "from matplotlib import cm\n",
        "import matplotlib.pyplot as plt\n",
        "from IPython.display import Image\n",
        "import plotly.graph_objects as go\n",
        "\n",
        "import plotly\n",
        "import matplotlib.pyplot as plt\n",
        "import seaborn\n",
        "\n",
        "#File handling tools\n",
        "from PIL import Image\n",
        "import os\n",
        "import time\n",
        "import uuid\n",
        "import splitfolders\n",
        "import random\n",
        "import shutil\n",
        "#ML Modelling\n",
        "from keras.applications import MobileNetV2\n",
        "from keras.layers import GlobalAveragePooling2D\n",
        "from keras.models import Model\n",
        "from tensorflow.keras.models import Sequential\n",
        "from tensorflow.keras.layers import Conv2D, MaxPooling2D, Flatten, Dense, Dropout\n",
        "from sklearn.metrics import accuracy_score, confusion_matrix, classification_report, precision_recall_fscore_support\n",
        "import tensorflow as tf\n",
        "from tensorflow.keras.models import Sequential\n",
        "from tensorflow.keras.layers import Conv2D, MaxPooling2D, Flatten, Dense, Dropout\n",
        "from tensorflow.keras.preprocessing.image import ImageDataGenerator\n",
        "from tensorflow.keras.optimizers import Adam\n",
        "from sklearn.metrics import average_precision_score, classification_report\n",
        "from sklearn.model_selection import train_test_split\n",
        "from tensorflow.keras.preprocessing.image import ImageDataGenerator\n",
        "#Model Logging and Hyperparameter tuning\n",
        "import wandb\n",
        "from wandb.keras import WandbMetricsLogger, WandbModelCheckpoint\n",
        "# import required package\n",
        "from sklearn.metrics import (accuracy_score,\n",
        "                             confusion_matrix,\n",
        "                             ConfusionMatrixDisplay)\n",
        "from tensorflow.keras.models import load_model\n",
        "# !pip install Keras-Preprocessing\n",
        "from keras_preprocessing import image\n",
        "tf.__version__"
      ]
    },
    {
      "cell_type": "code",
      "source": [
        "def print_loading_bar(percentage, bar_length=40):\n",
        "    progress = int(bar_length * percentage / 100)\n",
        "    loading_bar = '[' + '=' * progress + ' ' * (bar_length - progress) + ']'\n",
        "    sys.stdout.write('\\r' + loading_bar + f' {percentage:.2f}%')\n",
        "    sys.stdout.flush()\n",
        "\n",
        "# Define paths\n",
        "zip_file_path = \"ML_Projects/Machine_Learning/The Social Nexus/mythesis/asl_data_archive.zip\"\n",
        "extract_path = \"ML_Projects/Machine_Learning/The Social Nexus/mythesis/\"\n",
        "\n",
        "# Get the total number of files in the ZIP archive\n",
        "with zipfile.ZipFile(zip_file_path, \"r\") as zip_ref:\n",
        "    total_files = len(zip_ref.namelist())\n",
        "\n",
        "# Initialize a counter for extracted files\n",
        "extracted_files = 0\n",
        "\n",
        "# Unzip the downloaded file and display loading bar\n",
        "with zipfile.ZipFile(zip_file_path, \"r\") as zip_ref:\n",
        "    for file in zip_ref.namelist():\n",
        "        zip_ref.extract(file, path=extract_path)\n",
        "        extracted_files += 1\n",
        "\n",
        "        # Calculate the percentage and display loading bar\n",
        "        progress_percentage = (extracted_files / total_files) * 100\n",
        "        print_loading_bar(progress_percentage)\n",
        "\n",
        "print(\"\\nExtraction complete.\")"
      ],
      "metadata": {
        "colab": {
          "base_uri": "https://localhost:8080/",
          "height": 332
        },
        "id": "M3FZCHkJIrJM",
        "outputId": "6e628cfe-4496-4457-8b85-46cf16103471"
      },
      "execution_count": 4,
      "outputs": [
        {
          "output_type": "error",
          "ename": "NameError",
          "evalue": "ignored",
          "traceback": [
            "\u001b[1;31m---------------------------------------------------------------------------\u001b[0m",
            "\u001b[1;31mNameError\u001b[0m                                 Traceback (most recent call last)",
            "Cell \u001b[1;32mIn[4], line 26\u001b[0m\n\u001b[0;32m     24\u001b[0m         \u001b[38;5;66;03m# Calculate the percentage and display loading bar\u001b[39;00m\n\u001b[0;32m     25\u001b[0m         progress_percentage \u001b[38;5;241m=\u001b[39m (extracted_files \u001b[38;5;241m/\u001b[39m total_files) \u001b[38;5;241m*\u001b[39m \u001b[38;5;241m100\u001b[39m\n\u001b[1;32m---> 26\u001b[0m         print_loading_bar(progress_percentage)\n\u001b[0;32m     28\u001b[0m \u001b[38;5;28mprint\u001b[39m(\u001b[38;5;124m\"\u001b[39m\u001b[38;5;130;01m\\n\u001b[39;00m\u001b[38;5;124mExtraction complete.\u001b[39m\u001b[38;5;124m\"\u001b[39m)\n",
            "Cell \u001b[1;32mIn[4], line 4\u001b[0m, in \u001b[0;36mprint_loading_bar\u001b[1;34m(percentage, bar_length)\u001b[0m\n\u001b[0;32m      2\u001b[0m progress \u001b[38;5;241m=\u001b[39m \u001b[38;5;28mint\u001b[39m(bar_length \u001b[38;5;241m*\u001b[39m percentage \u001b[38;5;241m/\u001b[39m \u001b[38;5;241m100\u001b[39m)\n\u001b[0;32m      3\u001b[0m loading_bar \u001b[38;5;241m=\u001b[39m \u001b[38;5;124m'\u001b[39m\u001b[38;5;124m[\u001b[39m\u001b[38;5;124m'\u001b[39m \u001b[38;5;241m+\u001b[39m \u001b[38;5;124m'\u001b[39m\u001b[38;5;124m=\u001b[39m\u001b[38;5;124m'\u001b[39m \u001b[38;5;241m*\u001b[39m progress \u001b[38;5;241m+\u001b[39m \u001b[38;5;124m'\u001b[39m\u001b[38;5;124m \u001b[39m\u001b[38;5;124m'\u001b[39m \u001b[38;5;241m*\u001b[39m (bar_length \u001b[38;5;241m-\u001b[39m progress) \u001b[38;5;241m+\u001b[39m \u001b[38;5;124m'\u001b[39m\u001b[38;5;124m]\u001b[39m\u001b[38;5;124m'\u001b[39m\n\u001b[1;32m----> 4\u001b[0m sys\u001b[38;5;241m.\u001b[39mstdout\u001b[38;5;241m.\u001b[39mwrite(\u001b[38;5;124m'\u001b[39m\u001b[38;5;130;01m\\r\u001b[39;00m\u001b[38;5;124m'\u001b[39m \u001b[38;5;241m+\u001b[39m loading_bar \u001b[38;5;241m+\u001b[39m \u001b[38;5;124mf\u001b[39m\u001b[38;5;124m'\u001b[39m\u001b[38;5;124m \u001b[39m\u001b[38;5;132;01m{\u001b[39;00mpercentage\u001b[38;5;132;01m:\u001b[39;00m\u001b[38;5;124m.2f\u001b[39m\u001b[38;5;132;01m}\u001b[39;00m\u001b[38;5;124m%\u001b[39m\u001b[38;5;124m'\u001b[39m)\n\u001b[0;32m      5\u001b[0m sys\u001b[38;5;241m.\u001b[39mstdout\u001b[38;5;241m.\u001b[39mflush()\n",
            "\u001b[1;31mNameError\u001b[0m: name 'sys' is not defined"
          ]
        }
      ]
    },
    {
      "cell_type": "markdown",
      "source": [
        "#Data Loading"
      ],
      "metadata": {
        "id": "A3UaZp-cXWUa"
      }
    },
    {
      "cell_type": "code",
      "source": [
        "path = \"ML_Projects/Machine_Learning/The Social Nexus/mythesis/ASL_Dataset\""
      ],
      "metadata": {
        "id": "tiZVf6YL2DbB"
      },
      "execution_count": 50,
      "outputs": []
    },
    {
      "cell_type": "code",
      "source": [
        "images_path = path + \"collectedimages\""
      ],
      "metadata": {
        "id": "n0dtp5_E10dV"
      },
      "execution_count": 51,
      "outputs": []
    },
    {
      "cell_type": "code",
      "source": [
        "os.path.join(dirData, dataType[1])"
      ],
      "metadata": {
        "colab": {
          "base_uri": "https://localhost:8080/"
        },
        "id": "nZeqij_LDC4L",
        "outputId": "f6523758-9e79-4215-953b-1006f46dd11b"
      },
      "execution_count": 52,
      "outputs": [
        {
          "output_type": "execute_result",
          "data": {
            "text/plain": [
              "'ML_Projects/Machine_Learning/The Social Nexus/mythesis/ASL_Dataset/ASL_Dataset\\\\Train'"
            ]
          },
          "metadata": {},
          "execution_count": 52
        }
      ]
    },
    {
      "cell_type": "code",
      "source": [
        "# remove 'nothing' and 'space' labels from datasets\n",
        "dirData = path\n",
        "dataType = ['Test', 'Train']\n",
        "delClass = ['Nothing', 'Space']\n",
        "\n",
        "for i in range(2):\n",
        "    temp = os.path.join(dirData, dataType[i])\n",
        "    for j in range(2):\n",
        "        temp2 = os.path.join(temp, delClass[j])\n",
        "        try:\n",
        "            shutil.rmtree(temp2)\n",
        "        except:\n",
        "            pass"
      ],
      "metadata": {
        "id": "1167byoc3Evg"
      },
      "execution_count": 54,
      "outputs": []
    },
    {
      "cell_type": "code",
      "source": [
        "os.listdir(os.path.join(dirData))"
      ],
      "metadata": {
        "colab": {
          "base_uri": "https://localhost:8080/"
        },
        "id": "DIiU0B5PNQ7s",
        "outputId": "82bd369c-6a3e-4bed-9ae9-36888b1968e4"
      },
      "execution_count": 63,
      "outputs": [
        {
          "output_type": "execute_result",
          "data": {
            "text/plain": [
              "['Test', 'Train']"
            ]
          },
          "metadata": {},
          "execution_count": 63
        }
      ]
    },
    {
      "cell_type": "code",
      "source": [
        "# Define paths\n",
        "source_dir = os.path.join(dirData,dataType[1])\n",
        "destination_dir = os.path.join(dirData)\n",
        "# input_folder_path = os.path.join(destination_dir, 'input')\n",
        "# os.makedirs(input_folder_path, exist_ok=True)\n",
        "# Rename 'Train' folder to 'input'\n",
        "try:\n",
        "    shutil.copytree(os.path.join(source_dir),\n",
        "                    os.path.join(destination_dir,'input'))\n",
        "except FileExistsError:\n",
        "    print(\"'input' folder already exists.\")\n",
        "except Exception as e:\n",
        "    print(f\"An error occurred: {e}\")"
      ],
      "metadata": {
        "colab": {
          "base_uri": "https://localhost:8080/"
        },
        "id": "QrvsUPayL36f",
        "outputId": "891affc5-c996-400c-b943-0b3331a35cfc"
      },
      "execution_count": 65,
      "outputs": [
        {
          "output_type": "stream",
          "name": "stdout",
          "text": [
            "'input' folder already exists.\n"
          ]
        }
      ]
    },
    {
      "cell_type": "code",
      "source": [
        "dirData"
      ],
      "metadata": {
        "colab": {
          "base_uri": "https://localhost:8080/"
        },
        "id": "3dEFLctmPLyj",
        "outputId": "d8c96ab8-e74a-4cdf-adc3-07bf49175114"
      },
      "execution_count": 78,
      "outputs": [
        {
          "output_type": "execute_result",
          "data": {
            "text/plain": [
              "'ML_Projects/Machine_Learning/The Social Nexus/mythesis/ASL_Dataset'"
            ]
          },
          "metadata": {},
          "execution_count": 78
        }
      ]
    },
    {
      "cell_type": "code",
      "source": [
        "os.listdir(os.path.join(dirData, 'Val'))"
      ],
      "metadata": {
        "colab": {
          "base_uri": "https://localhost:8080/",
          "height": 193
        },
        "id": "lzr5L338PF-_",
        "outputId": "10ccc778-8619-4ad8-b4c8-3c6dec9a3ae4"
      },
      "execution_count": 82,
      "outputs": [
        {
          "output_type": "error",
          "ename": "FileNotFoundError",
          "evalue": "ignored",
          "traceback": [
            "\u001b[1;31m---------------------------------------------------------------------------\u001b[0m",
            "\u001b[1;31mFileNotFoundError\u001b[0m                         Traceback (most recent call last)",
            "Cell \u001b[1;32mIn[82], line 1\u001b[0m\n\u001b[1;32m----> 1\u001b[0m os\u001b[38;5;241m.\u001b[39mlistdir(os\u001b[38;5;241m.\u001b[39mpath\u001b[38;5;241m.\u001b[39mjoin(dirData, \u001b[38;5;124m'\u001b[39m\u001b[38;5;124mVal\u001b[39m\u001b[38;5;124m'\u001b[39m))\n",
            "\u001b[1;31mFileNotFoundError\u001b[0m: [WinError 3] The system cannot find the path specified: 'ML_Projects/Machine_Learning/The Social Nexus/mythesis/ASL_Dataset\\\\Val'"
          ]
        }
      ]
    },
    {
      "cell_type": "markdown",
      "source": [
        "#Data Partition"
      ],
      "metadata": {
        "id": "ZEPZmuwvZiO7"
      }
    },
    {
      "cell_type": "code",
      "source": [
        "\n",
        "# split data training into two folders, named 'train' and 'val'\n",
        "\n",
        "splitfolders.ratio(os.path.join(dirData, 'input'),\n",
        "                    output = os.path.join(dirData, 'Val'),\n",
        "                    ratio = (0.70, 0.30))"
      ],
      "metadata": {
        "id": "iK28Ne3xDoqK"
      },
      "execution_count": 88,
      "outputs": []
    },
    {
      "cell_type": "code",
      "source": [
        "# # delete the folder named 'input'\n",
        "# try:\n",
        "#     shutil.rmtree(os.path.join(dirData, 'input'))\n",
        "# except:\n",
        "#     pass"
      ],
      "metadata": {
        "id": "jFzNZUF6IF5g"
      },
      "execution_count": 40,
      "outputs": []
    },
    {
      "cell_type": "code",
      "source": [
        "# move folder named 'test' and 'val'\n",
        "folderType = ['train', 'val']\n",
        "dataType = ['Train', 'Val']\n",
        "\n",
        "try:\n",
        "    for i in range(2):\n",
        "        temp = os.path.join(dirData, 'output')\n",
        "        os.rename(os.path.join(temp, folderType[i]),\n",
        "                  os.path.join(dirData, dataType[i]))\n",
        "    shutil.rmtree(os.path.join(dirData, 'output'))\n",
        "except:\n",
        "    pass"
      ],
      "metadata": {
        "id": "_4ZA0meWEOiy"
      },
      "execution_count": 89,
      "outputs": []
    },
    {
      "cell_type": "code",
      "source": [
        "# make sure to divide the datasets into 'Train', 'Val', and 'Test'\n",
        "os.listdir(dirData)"
      ],
      "metadata": {
        "colab": {
          "base_uri": "https://localhost:8080/"
        },
        "id": "2JVTqWJpEuAK",
        "outputId": "f08a8101-350c-4aa6-ecdf-af8e3f5317ca"
      },
      "execution_count": 90,
      "outputs": [
        {
          "output_type": "execute_result",
          "data": {
            "text/plain": [
              "['input', 'Test', 'Train', 'Val']"
            ]
          },
          "metadata": {},
          "execution_count": 90
        }
      ]
    },
    {
      "cell_type": "markdown",
      "source": [
        "## Assigning new path"
      ],
      "metadata": {
        "id": "uIXZnTlQaGVR"
      }
    },
    {
      "cell_type": "code",
      "source": [
        "path = \"ML_Projects/Machine_Learning/The Social Nexus/mythesis/ASL_Dataset/Val\""
      ],
      "metadata": {
        "id": "xI4ybH8PE_fk"
      },
      "execution_count": 5,
      "outputs": []
    },
    {
      "cell_type": "code",
      "source": [
        "dirData = path"
      ],
      "metadata": {
        "id": "UCJMZAvxYjBO"
      },
      "execution_count": 6,
      "outputs": []
    },
    {
      "cell_type": "code",
      "source": [
        "os.listdir(dirData)"
      ],
      "metadata": {
        "colab": {
          "base_uri": "https://localhost:8080/"
        },
        "id": "hOZgDwMRXPQQ",
        "outputId": "b3b7fb17-8039-4c5d-b1eb-372751abba91"
      },
      "execution_count": 7,
      "outputs": [
        {
          "output_type": "execute_result",
          "data": {
            "text/plain": [
              "['Test', 'Train', 'Val']"
            ]
          },
          "metadata": {},
          "execution_count": 7
        }
      ]
    },
    {
      "cell_type": "code",
      "source": [
        "# remember our data directory, now take the 'train' and 'val' paths\n",
        "dirTrain = os.path.join(dirData, 'Train')\n",
        "dirVal = os.path.join(dirData, 'Val')"
      ],
      "metadata": {
        "id": "pTh6Jk75XsRk"
      },
      "execution_count": 8,
      "outputs": []
    },
    {
      "cell_type": "code",
      "source": [
        "# make sure the number of labels matches\n",
        "if os.listdir(dirTrain) == os.listdir(dirVal):\n",
        "    labels = os.listdir(dirTrain)\n",
        "labels"
      ],
      "metadata": {
        "colab": {
          "base_uri": "https://localhost:8080/"
        },
        "id": "aPQJsFZJX8cJ",
        "outputId": "b182d710-ca0d-403d-cbfe-addeebc630c8"
      },
      "execution_count": 9,
      "outputs": [
        {
          "output_type": "execute_result",
          "data": {
            "text/plain": [
              "['A',\n",
              " 'B',\n",
              " 'C',\n",
              " 'D',\n",
              " 'E',\n",
              " 'F',\n",
              " 'G',\n",
              " 'H',\n",
              " 'I',\n",
              " 'J',\n",
              " 'K',\n",
              " 'L',\n",
              " 'M',\n",
              " 'N',\n",
              " 'O',\n",
              " 'P',\n",
              " 'Q',\n",
              " 'R',\n",
              " 'S',\n",
              " 'T',\n",
              " 'U',\n",
              " 'V',\n",
              " 'W',\n",
              " 'X',\n",
              " 'Y',\n",
              " 'Z']"
            ]
          },
          "metadata": {},
          "execution_count": 9
        }
      ]
    },
    {
      "cell_type": "code",
      "source": [
        "len(labels)"
      ],
      "metadata": {
        "colab": {
          "base_uri": "https://localhost:8080/"
        },
        "id": "QxAM_u_GX_tY",
        "outputId": "040dfd06-44a9-4996-91e3-91a8f75bc77b"
      },
      "execution_count": 10,
      "outputs": [
        {
          "output_type": "execute_result",
          "data": {
            "text/plain": [
              "26"
            ]
          },
          "metadata": {},
          "execution_count": 10
        }
      ]
    },
    {
      "cell_type": "markdown",
      "source": [
        "#Data Preprocessing\n",
        "Setting up Data Generator"
      ],
      "metadata": {
        "id": "BxLemsdTZYnk"
      }
    },
    {
      "cell_type": "code",
      "source": [
        "# settings new images for data training\n",
        "setTrain = ImageDataGenerator(rescale = 1./255,\n",
        "                              horizontal_flip = True, # remember to also build for right hand\n",
        "                              fill_mode = 'nearest',\n",
        "                              brightness_range = [0.6, 2.1],\n",
        "                              zoom_range = 0.32)"
      ],
      "metadata": {
        "id": "HhRmW8HrY7X6"
      },
      "execution_count": 11,
      "outputs": []
    },
    {
      "cell_type": "code",
      "source": [
        "# settings new images for data validation\n",
        "setVal = ImageDataGenerator(rescale = 1./255)"
      ],
      "metadata": {
        "id": "89pgOvOWZKR6"
      },
      "execution_count": 12,
      "outputs": []
    },
    {
      "cell_type": "code",
      "source": [
        "# generate new images for data training\n",
        "genTrain = setTrain.flow_from_directory(dirTrain,\n",
        "                                        target_size = (200, 200),\n",
        "                                        batch_size = 32,\n",
        "                                        class_mode = 'categorical',\n",
        "                                        seed = 250)\n",
        "\n",
        "# generate new images for data validation\n",
        "genVal = setVal.flow_from_directory(dirVal,\n",
        "                                    target_size = (200, 200),\n",
        "                                    batch_size = 32,\n",
        "                                    class_mode = 'categorical',\n",
        "                                    seed = 250)\n",
        "# does the label match? good!\n",
        "if genTrain.class_indices == genVal.class_indices:\n",
        "    print(genTrain.class_indices)"
      ],
      "metadata": {
        "colab": {
          "base_uri": "https://localhost:8080/"
        },
        "id": "dk4vgEbTZNd7",
        "outputId": "ad824792-6ba8-4d52-9b62-6dca892a7e96"
      },
      "execution_count": 13,
      "outputs": [
        {
          "output_type": "stream",
          "name": "stdout",
          "text": [
            "Found 107645 images belonging to 26 classes.\n",
            "Found 46143 images belonging to 26 classes.\n",
            "{'A': 0, 'B': 1, 'C': 2, 'D': 3, 'E': 4, 'F': 5, 'G': 6, 'H': 7, 'I': 8, 'J': 9, 'K': 10, 'L': 11, 'M': 12, 'N': 13, 'O': 14, 'P': 15, 'Q': 16, 'R': 17, 'S': 18, 'T': 19, 'U': 20, 'V': 21, 'W': 22, 'X': 23, 'Y': 24, 'Z': 25}\n"
          ]
        }
      ]
    },
    {
      "cell_type": "code",
      "source": [
        "# Set your image size and output shape\n",
        "IMAGE_SIZE = 200\n",
        "OUTPUT_SHAPE = len(genTrain.class_indices)  # Assuming this gives the number of classes"
      ],
      "metadata": {
        "id": "cK1OSmRCAbL7"
      },
      "execution_count": 14,
      "outputs": []
    },
    {
      "cell_type": "code",
      "source": [
        "modelpath = 'ML_Projects/Machine_Learning/The Social Nexus/mythesis/'"
      ],
      "metadata": {
        "id": "DQLTWBtbzel-"
      },
      "execution_count": 15,
      "outputs": []
    },
    {
      "cell_type": "markdown",
      "source": [
        "#MobileNetV2"
      ],
      "metadata": {
        "id": "b4Nn2unqbV--"
      }
    },
    {
      "cell_type": "markdown",
      "source": [
        "##Model Building"
      ],
      "metadata": {
        "id": "PvsqeVGOZnjc"
      }
    },
    {
      "cell_type": "code",
      "source": [
        "def mainModel():\n",
        "    base_model = MobileNetV2(weights='imagenet', include_top=False, input_shape=(200, 200, 3))\n",
        "\n",
        "    x = base_model.output\n",
        "    x = GlobalAveragePooling2D()(x)\n",
        "    x = Dense(512, activation='relu')(x)\n",
        "    x = Dropout(0.3)(x)\n",
        "    predictions = Dense(len(genTrain.class_indices), activation='softmax')(x)\n",
        "\n",
        "    model = Model(inputs=base_model.input, outputs=predictions)\n",
        "    return model\n",
        "\n",
        "# Show the model summary\n",
        "mobilenetv2_model = mainModel()\n",
        "mobilenetv2_model.summary()\n"
      ],
      "metadata": {
        "colab": {
          "base_uri": "https://localhost:8080/"
        },
        "id": "X_c24WpRaYWA",
        "outputId": "f9ab21fc-223c-4fd5-fc24-d64673785f03"
      },
      "execution_count": 123,
      "outputs": [
        {
          "output_type": "stream",
          "name": "stdout",
          "text": [
            "WARNING:tensorflow:`input_shape` is undefined or non-square, or `rows` is not in [96, 128, 160, 192, 224]. Weights for input shape (224, 224) will be loaded as the default.\n",
            "Downloading data from https://storage.googleapis.com/tensorflow/keras-applications/mobilenet_v2/mobilenet_v2_weights_tf_dim_ordering_tf_kernels_1.0_224_no_top.h5\n",
            "9406464/9406464 [==============================] - 3s 0us/step\n",
            "Model: \"model\"\n",
            "__________________________________________________________________________________________________\n",
            " Layer (type)                Output Shape                 Param #   Connected to                  \n",
            "==================================================================================================\n",
            " input_1 (InputLayer)        [(None, 200, 200, 3)]        0         []                            \n",
            "                                                                                                  \n",
            " Conv1 (Conv2D)              (None, 100, 100, 32)         864       ['input_1[0][0]']             \n",
            "                                                                                                  \n",
            " bn_Conv1 (BatchNormalizati  (None, 100, 100, 32)         128       ['Conv1[0][0]']               \n",
            " on)                                                                                              \n",
            "                                                                                                  \n",
            " Conv1_relu (ReLU)           (None, 100, 100, 32)         0         ['bn_Conv1[0][0]']            \n",
            "                                                                                                  \n",
            " expanded_conv_depthwise (D  (None, 100, 100, 32)         288       ['Conv1_relu[0][0]']          \n",
            " epthwiseConv2D)                                                                                  \n",
            "                                                                                                  \n",
            " expanded_conv_depthwise_BN  (None, 100, 100, 32)         128       ['expanded_conv_depthwise[0][0\n",
            "  (BatchNormalization)                                              ]']                           \n",
            "                                                                                                  \n",
            " expanded_conv_depthwise_re  (None, 100, 100, 32)         0         ['expanded_conv_depthwise_BN[0\n",
            " lu (ReLU)                                                          ][0]']                        \n",
            "                                                                                                  \n",
            " expanded_conv_project (Con  (None, 100, 100, 16)         512       ['expanded_conv_depthwise_relu\n",
            " v2D)                                                               [0][0]']                      \n",
            "                                                                                                  \n",
            " expanded_conv_project_BN (  (None, 100, 100, 16)         64        ['expanded_conv_project[0][0]'\n",
            " BatchNormalization)                                                ]                             \n",
            "                                                                                                  \n",
            " block_1_expand (Conv2D)     (None, 100, 100, 96)         1536      ['expanded_conv_project_BN[0][\n",
            "                                                                    0]']                          \n",
            "                                                                                                  \n",
            " block_1_expand_BN (BatchNo  (None, 100, 100, 96)         384       ['block_1_expand[0][0]']      \n",
            " rmalization)                                                                                     \n",
            "                                                                                                  \n",
            " block_1_expand_relu (ReLU)  (None, 100, 100, 96)         0         ['block_1_expand_BN[0][0]']   \n",
            "                                                                                                  \n",
            " block_1_pad (ZeroPadding2D  (None, 101, 101, 96)         0         ['block_1_expand_relu[0][0]'] \n",
            " )                                                                                                \n",
            "                                                                                                  \n",
            " block_1_depthwise (Depthwi  (None, 50, 50, 96)           864       ['block_1_pad[0][0]']         \n",
            " seConv2D)                                                                                        \n",
            "                                                                                                  \n",
            " block_1_depthwise_BN (Batc  (None, 50, 50, 96)           384       ['block_1_depthwise[0][0]']   \n",
            " hNormalization)                                                                                  \n",
            "                                                                                                  \n",
            " block_1_depthwise_relu (Re  (None, 50, 50, 96)           0         ['block_1_depthwise_BN[0][0]']\n",
            " LU)                                                                                              \n",
            "                                                                                                  \n",
            " block_1_project (Conv2D)    (None, 50, 50, 24)           2304      ['block_1_depthwise_relu[0][0]\n",
            "                                                                    ']                            \n",
            "                                                                                                  \n",
            " block_1_project_BN (BatchN  (None, 50, 50, 24)           96        ['block_1_project[0][0]']     \n",
            " ormalization)                                                                                    \n",
            "                                                                                                  \n",
            " block_2_expand (Conv2D)     (None, 50, 50, 144)          3456      ['block_1_project_BN[0][0]']  \n",
            "                                                                                                  \n",
            " block_2_expand_BN (BatchNo  (None, 50, 50, 144)          576       ['block_2_expand[0][0]']      \n",
            " rmalization)                                                                                     \n",
            "                                                                                                  \n",
            " block_2_expand_relu (ReLU)  (None, 50, 50, 144)          0         ['block_2_expand_BN[0][0]']   \n",
            "                                                                                                  \n",
            " block_2_depthwise (Depthwi  (None, 50, 50, 144)          1296      ['block_2_expand_relu[0][0]'] \n",
            " seConv2D)                                                                                        \n",
            "                                                                                                  \n",
            " block_2_depthwise_BN (Batc  (None, 50, 50, 144)          576       ['block_2_depthwise[0][0]']   \n",
            " hNormalization)                                                                                  \n",
            "                                                                                                  \n",
            " block_2_depthwise_relu (Re  (None, 50, 50, 144)          0         ['block_2_depthwise_BN[0][0]']\n",
            " LU)                                                                                              \n",
            "                                                                                                  \n",
            " block_2_project (Conv2D)    (None, 50, 50, 24)           3456      ['block_2_depthwise_relu[0][0]\n",
            "                                                                    ']                            \n",
            "                                                                                                  \n",
            " block_2_project_BN (BatchN  (None, 50, 50, 24)           96        ['block_2_project[0][0]']     \n",
            " ormalization)                                                                                    \n",
            "                                                                                                  \n",
            " block_2_add (Add)           (None, 50, 50, 24)           0         ['block_1_project_BN[0][0]',  \n",
            "                                                                     'block_2_project_BN[0][0]']  \n",
            "                                                                                                  \n",
            " block_3_expand (Conv2D)     (None, 50, 50, 144)          3456      ['block_2_add[0][0]']         \n",
            "                                                                                                  \n",
            " block_3_expand_BN (BatchNo  (None, 50, 50, 144)          576       ['block_3_expand[0][0]']      \n",
            " rmalization)                                                                                     \n",
            "                                                                                                  \n",
            " block_3_expand_relu (ReLU)  (None, 50, 50, 144)          0         ['block_3_expand_BN[0][0]']   \n",
            "                                                                                                  \n",
            " block_3_pad (ZeroPadding2D  (None, 51, 51, 144)          0         ['block_3_expand_relu[0][0]'] \n",
            " )                                                                                                \n",
            "                                                                                                  \n",
            " block_3_depthwise (Depthwi  (None, 25, 25, 144)          1296      ['block_3_pad[0][0]']         \n",
            " seConv2D)                                                                                        \n",
            "                                                                                                  \n",
            " block_3_depthwise_BN (Batc  (None, 25, 25, 144)          576       ['block_3_depthwise[0][0]']   \n",
            " hNormalization)                                                                                  \n",
            "                                                                                                  \n",
            " block_3_depthwise_relu (Re  (None, 25, 25, 144)          0         ['block_3_depthwise_BN[0][0]']\n",
            " LU)                                                                                              \n",
            "                                                                                                  \n",
            " block_3_project (Conv2D)    (None, 25, 25, 32)           4608      ['block_3_depthwise_relu[0][0]\n",
            "                                                                    ']                            \n",
            "                                                                                                  \n",
            " block_3_project_BN (BatchN  (None, 25, 25, 32)           128       ['block_3_project[0][0]']     \n",
            " ormalization)                                                                                    \n",
            "                                                                                                  \n",
            " block_4_expand (Conv2D)     (None, 25, 25, 192)          6144      ['block_3_project_BN[0][0]']  \n",
            "                                                                                                  \n",
            " block_4_expand_BN (BatchNo  (None, 25, 25, 192)          768       ['block_4_expand[0][0]']      \n",
            " rmalization)                                                                                     \n",
            "                                                                                                  \n",
            " block_4_expand_relu (ReLU)  (None, 25, 25, 192)          0         ['block_4_expand_BN[0][0]']   \n",
            "                                                                                                  \n",
            " block_4_depthwise (Depthwi  (None, 25, 25, 192)          1728      ['block_4_expand_relu[0][0]'] \n",
            " seConv2D)                                                                                        \n",
            "                                                                                                  \n",
            " block_4_depthwise_BN (Batc  (None, 25, 25, 192)          768       ['block_4_depthwise[0][0]']   \n",
            " hNormalization)                                                                                  \n",
            "                                                                                                  \n",
            " block_4_depthwise_relu (Re  (None, 25, 25, 192)          0         ['block_4_depthwise_BN[0][0]']\n",
            " LU)                                                                                              \n",
            "                                                                                                  \n",
            " block_4_project (Conv2D)    (None, 25, 25, 32)           6144      ['block_4_depthwise_relu[0][0]\n",
            "                                                                    ']                            \n",
            "                                                                                                  \n",
            " block_4_project_BN (BatchN  (None, 25, 25, 32)           128       ['block_4_project[0][0]']     \n",
            " ormalization)                                                                                    \n",
            "                                                                                                  \n",
            " block_4_add (Add)           (None, 25, 25, 32)           0         ['block_3_project_BN[0][0]',  \n",
            "                                                                     'block_4_project_BN[0][0]']  \n",
            "                                                                                                  \n",
            " block_5_expand (Conv2D)     (None, 25, 25, 192)          6144      ['block_4_add[0][0]']         \n",
            "                                                                                                  \n",
            " block_5_expand_BN (BatchNo  (None, 25, 25, 192)          768       ['block_5_expand[0][0]']      \n",
            " rmalization)                                                                                     \n",
            "                                                                                                  \n",
            " block_5_expand_relu (ReLU)  (None, 25, 25, 192)          0         ['block_5_expand_BN[0][0]']   \n",
            "                                                                                                  \n",
            " block_5_depthwise (Depthwi  (None, 25, 25, 192)          1728      ['block_5_expand_relu[0][0]'] \n",
            " seConv2D)                                                                                        \n",
            "                                                                                                  \n",
            " block_5_depthwise_BN (Batc  (None, 25, 25, 192)          768       ['block_5_depthwise[0][0]']   \n",
            " hNormalization)                                                                                  \n",
            "                                                                                                  \n",
            " block_5_depthwise_relu (Re  (None, 25, 25, 192)          0         ['block_5_depthwise_BN[0][0]']\n",
            " LU)                                                                                              \n",
            "                                                                                                  \n",
            " block_5_project (Conv2D)    (None, 25, 25, 32)           6144      ['block_5_depthwise_relu[0][0]\n",
            "                                                                    ']                            \n",
            "                                                                                                  \n",
            " block_5_project_BN (BatchN  (None, 25, 25, 32)           128       ['block_5_project[0][0]']     \n",
            " ormalization)                                                                                    \n",
            "                                                                                                  \n",
            " block_5_add (Add)           (None, 25, 25, 32)           0         ['block_4_add[0][0]',         \n",
            "                                                                     'block_5_project_BN[0][0]']  \n",
            "                                                                                                  \n",
            " block_6_expand (Conv2D)     (None, 25, 25, 192)          6144      ['block_5_add[0][0]']         \n",
            "                                                                                                  \n",
            " block_6_expand_BN (BatchNo  (None, 25, 25, 192)          768       ['block_6_expand[0][0]']      \n",
            " rmalization)                                                                                     \n",
            "                                                                                                  \n",
            " block_6_expand_relu (ReLU)  (None, 25, 25, 192)          0         ['block_6_expand_BN[0][0]']   \n",
            "                                                                                                  \n",
            " block_6_pad (ZeroPadding2D  (None, 27, 27, 192)          0         ['block_6_expand_relu[0][0]'] \n",
            " )                                                                                                \n",
            "                                                                                                  \n",
            " block_6_depthwise (Depthwi  (None, 13, 13, 192)          1728      ['block_6_pad[0][0]']         \n",
            " seConv2D)                                                                                        \n",
            "                                                                                                  \n",
            " block_6_depthwise_BN (Batc  (None, 13, 13, 192)          768       ['block_6_depthwise[0][0]']   \n",
            " hNormalization)                                                                                  \n",
            "                                                                                                  \n",
            " block_6_depthwise_relu (Re  (None, 13, 13, 192)          0         ['block_6_depthwise_BN[0][0]']\n",
            " LU)                                                                                              \n",
            "                                                                                                  \n",
            " block_6_project (Conv2D)    (None, 13, 13, 64)           12288     ['block_6_depthwise_relu[0][0]\n",
            "                                                                    ']                            \n",
            "                                                                                                  \n",
            " block_6_project_BN (BatchN  (None, 13, 13, 64)           256       ['block_6_project[0][0]']     \n",
            " ormalization)                                                                                    \n",
            "                                                                                                  \n",
            " block_7_expand (Conv2D)     (None, 13, 13, 384)          24576     ['block_6_project_BN[0][0]']  \n",
            "                                                                                                  \n",
            " block_7_expand_BN (BatchNo  (None, 13, 13, 384)          1536      ['block_7_expand[0][0]']      \n",
            " rmalization)                                                                                     \n",
            "                                                                                                  \n",
            " block_7_expand_relu (ReLU)  (None, 13, 13, 384)          0         ['block_7_expand_BN[0][0]']   \n",
            "                                                                                                  \n",
            " block_7_depthwise (Depthwi  (None, 13, 13, 384)          3456      ['block_7_expand_relu[0][0]'] \n",
            " seConv2D)                                                                                        \n",
            "                                                                                                  \n",
            " block_7_depthwise_BN (Batc  (None, 13, 13, 384)          1536      ['block_7_depthwise[0][0]']   \n",
            " hNormalization)                                                                                  \n",
            "                                                                                                  \n",
            " block_7_depthwise_relu (Re  (None, 13, 13, 384)          0         ['block_7_depthwise_BN[0][0]']\n",
            " LU)                                                                                              \n",
            "                                                                                                  \n",
            " block_7_project (Conv2D)    (None, 13, 13, 64)           24576     ['block_7_depthwise_relu[0][0]\n",
            "                                                                    ']                            \n",
            "                                                                                                  \n",
            " block_7_project_BN (BatchN  (None, 13, 13, 64)           256       ['block_7_project[0][0]']     \n",
            " ormalization)                                                                                    \n",
            "                                                                                                  \n",
            " block_7_add (Add)           (None, 13, 13, 64)           0         ['block_6_project_BN[0][0]',  \n",
            "                                                                     'block_7_project_BN[0][0]']  \n",
            "                                                                                                  \n",
            " block_8_expand (Conv2D)     (None, 13, 13, 384)          24576     ['block_7_add[0][0]']         \n",
            "                                                                                                  \n",
            " block_8_expand_BN (BatchNo  (None, 13, 13, 384)          1536      ['block_8_expand[0][0]']      \n",
            " rmalization)                                                                                     \n",
            "                                                                                                  \n",
            " block_8_expand_relu (ReLU)  (None, 13, 13, 384)          0         ['block_8_expand_BN[0][0]']   \n",
            "                                                                                                  \n",
            " block_8_depthwise (Depthwi  (None, 13, 13, 384)          3456      ['block_8_expand_relu[0][0]'] \n",
            " seConv2D)                                                                                        \n",
            "                                                                                                  \n",
            " block_8_depthwise_BN (Batc  (None, 13, 13, 384)          1536      ['block_8_depthwise[0][0]']   \n",
            " hNormalization)                                                                                  \n",
            "                                                                                                  \n",
            " block_8_depthwise_relu (Re  (None, 13, 13, 384)          0         ['block_8_depthwise_BN[0][0]']\n",
            " LU)                                                                                              \n",
            "                                                                                                  \n",
            " block_8_project (Conv2D)    (None, 13, 13, 64)           24576     ['block_8_depthwise_relu[0][0]\n",
            "                                                                    ']                            \n",
            "                                                                                                  \n",
            " block_8_project_BN (BatchN  (None, 13, 13, 64)           256       ['block_8_project[0][0]']     \n",
            " ormalization)                                                                                    \n",
            "                                                                                                  \n",
            " block_8_add (Add)           (None, 13, 13, 64)           0         ['block_7_add[0][0]',         \n",
            "                                                                     'block_8_project_BN[0][0]']  \n",
            "                                                                                                  \n",
            " block_9_expand (Conv2D)     (None, 13, 13, 384)          24576     ['block_8_add[0][0]']         \n",
            "                                                                                                  \n",
            " block_9_expand_BN (BatchNo  (None, 13, 13, 384)          1536      ['block_9_expand[0][0]']      \n",
            " rmalization)                                                                                     \n",
            "                                                                                                  \n",
            " block_9_expand_relu (ReLU)  (None, 13, 13, 384)          0         ['block_9_expand_BN[0][0]']   \n",
            "                                                                                                  \n",
            " block_9_depthwise (Depthwi  (None, 13, 13, 384)          3456      ['block_9_expand_relu[0][0]'] \n",
            " seConv2D)                                                                                        \n",
            "                                                                                                  \n",
            " block_9_depthwise_BN (Batc  (None, 13, 13, 384)          1536      ['block_9_depthwise[0][0]']   \n",
            " hNormalization)                                                                                  \n",
            "                                                                                                  \n",
            " block_9_depthwise_relu (Re  (None, 13, 13, 384)          0         ['block_9_depthwise_BN[0][0]']\n",
            " LU)                                                                                              \n",
            "                                                                                                  \n",
            " block_9_project (Conv2D)    (None, 13, 13, 64)           24576     ['block_9_depthwise_relu[0][0]\n",
            "                                                                    ']                            \n",
            "                                                                                                  \n",
            " block_9_project_BN (BatchN  (None, 13, 13, 64)           256       ['block_9_project[0][0]']     \n",
            " ormalization)                                                                                    \n",
            "                                                                                                  \n",
            " block_9_add (Add)           (None, 13, 13, 64)           0         ['block_8_add[0][0]',         \n",
            "                                                                     'block_9_project_BN[0][0]']  \n",
            "                                                                                                  \n",
            " block_10_expand (Conv2D)    (None, 13, 13, 384)          24576     ['block_9_add[0][0]']         \n",
            "                                                                                                  \n",
            " block_10_expand_BN (BatchN  (None, 13, 13, 384)          1536      ['block_10_expand[0][0]']     \n",
            " ormalization)                                                                                    \n",
            "                                                                                                  \n",
            " block_10_expand_relu (ReLU  (None, 13, 13, 384)          0         ['block_10_expand_BN[0][0]']  \n",
            " )                                                                                                \n",
            "                                                                                                  \n",
            " block_10_depthwise (Depthw  (None, 13, 13, 384)          3456      ['block_10_expand_relu[0][0]']\n",
            " iseConv2D)                                                                                       \n",
            "                                                                                                  \n",
            " block_10_depthwise_BN (Bat  (None, 13, 13, 384)          1536      ['block_10_depthwise[0][0]']  \n",
            " chNormalization)                                                                                 \n",
            "                                                                                                  \n",
            " block_10_depthwise_relu (R  (None, 13, 13, 384)          0         ['block_10_depthwise_BN[0][0]'\n",
            " eLU)                                                               ]                             \n",
            "                                                                                                  \n",
            " block_10_project (Conv2D)   (None, 13, 13, 96)           36864     ['block_10_depthwise_relu[0][0\n",
            "                                                                    ]']                           \n",
            "                                                                                                  \n",
            " block_10_project_BN (Batch  (None, 13, 13, 96)           384       ['block_10_project[0][0]']    \n",
            " Normalization)                                                                                   \n",
            "                                                                                                  \n",
            " block_11_expand (Conv2D)    (None, 13, 13, 576)          55296     ['block_10_project_BN[0][0]'] \n",
            "                                                                                                  \n",
            " block_11_expand_BN (BatchN  (None, 13, 13, 576)          2304      ['block_11_expand[0][0]']     \n",
            " ormalization)                                                                                    \n",
            "                                                                                                  \n",
            " block_11_expand_relu (ReLU  (None, 13, 13, 576)          0         ['block_11_expand_BN[0][0]']  \n",
            " )                                                                                                \n",
            "                                                                                                  \n",
            " block_11_depthwise (Depthw  (None, 13, 13, 576)          5184      ['block_11_expand_relu[0][0]']\n",
            " iseConv2D)                                                                                       \n",
            "                                                                                                  \n",
            " block_11_depthwise_BN (Bat  (None, 13, 13, 576)          2304      ['block_11_depthwise[0][0]']  \n",
            " chNormalization)                                                                                 \n",
            "                                                                                                  \n",
            " block_11_depthwise_relu (R  (None, 13, 13, 576)          0         ['block_11_depthwise_BN[0][0]'\n",
            " eLU)                                                               ]                             \n",
            "                                                                                                  \n",
            " block_11_project (Conv2D)   (None, 13, 13, 96)           55296     ['block_11_depthwise_relu[0][0\n",
            "                                                                    ]']                           \n",
            "                                                                                                  \n",
            " block_11_project_BN (Batch  (None, 13, 13, 96)           384       ['block_11_project[0][0]']    \n",
            " Normalization)                                                                                   \n",
            "                                                                                                  \n",
            " block_11_add (Add)          (None, 13, 13, 96)           0         ['block_10_project_BN[0][0]', \n",
            "                                                                     'block_11_project_BN[0][0]'] \n",
            "                                                                                                  \n",
            " block_12_expand (Conv2D)    (None, 13, 13, 576)          55296     ['block_11_add[0][0]']        \n",
            "                                                                                                  \n",
            " block_12_expand_BN (BatchN  (None, 13, 13, 576)          2304      ['block_12_expand[0][0]']     \n",
            " ormalization)                                                                                    \n",
            "                                                                                                  \n",
            " block_12_expand_relu (ReLU  (None, 13, 13, 576)          0         ['block_12_expand_BN[0][0]']  \n",
            " )                                                                                                \n",
            "                                                                                                  \n",
            " block_12_depthwise (Depthw  (None, 13, 13, 576)          5184      ['block_12_expand_relu[0][0]']\n",
            " iseConv2D)                                                                                       \n",
            "                                                                                                  \n",
            " block_12_depthwise_BN (Bat  (None, 13, 13, 576)          2304      ['block_12_depthwise[0][0]']  \n",
            " chNormalization)                                                                                 \n",
            "                                                                                                  \n",
            " block_12_depthwise_relu (R  (None, 13, 13, 576)          0         ['block_12_depthwise_BN[0][0]'\n",
            " eLU)                                                               ]                             \n",
            "                                                                                                  \n",
            " block_12_project (Conv2D)   (None, 13, 13, 96)           55296     ['block_12_depthwise_relu[0][0\n",
            "                                                                    ]']                           \n",
            "                                                                                                  \n",
            " block_12_project_BN (Batch  (None, 13, 13, 96)           384       ['block_12_project[0][0]']    \n",
            " Normalization)                                                                                   \n",
            "                                                                                                  \n",
            " block_12_add (Add)          (None, 13, 13, 96)           0         ['block_11_add[0][0]',        \n",
            "                                                                     'block_12_project_BN[0][0]'] \n",
            "                                                                                                  \n",
            " block_13_expand (Conv2D)    (None, 13, 13, 576)          55296     ['block_12_add[0][0]']        \n",
            "                                                                                                  \n",
            " block_13_expand_BN (BatchN  (None, 13, 13, 576)          2304      ['block_13_expand[0][0]']     \n",
            " ormalization)                                                                                    \n",
            "                                                                                                  \n",
            " block_13_expand_relu (ReLU  (None, 13, 13, 576)          0         ['block_13_expand_BN[0][0]']  \n",
            " )                                                                                                \n",
            "                                                                                                  \n",
            " block_13_pad (ZeroPadding2  (None, 15, 15, 576)          0         ['block_13_expand_relu[0][0]']\n",
            " D)                                                                                               \n",
            "                                                                                                  \n",
            " block_13_depthwise (Depthw  (None, 7, 7, 576)            5184      ['block_13_pad[0][0]']        \n",
            " iseConv2D)                                                                                       \n",
            "                                                                                                  \n",
            " block_13_depthwise_BN (Bat  (None, 7, 7, 576)            2304      ['block_13_depthwise[0][0]']  \n",
            " chNormalization)                                                                                 \n",
            "                                                                                                  \n",
            " block_13_depthwise_relu (R  (None, 7, 7, 576)            0         ['block_13_depthwise_BN[0][0]'\n",
            " eLU)                                                               ]                             \n",
            "                                                                                                  \n",
            " block_13_project (Conv2D)   (None, 7, 7, 160)            92160     ['block_13_depthwise_relu[0][0\n",
            "                                                                    ]']                           \n",
            "                                                                                                  \n",
            " block_13_project_BN (Batch  (None, 7, 7, 160)            640       ['block_13_project[0][0]']    \n",
            " Normalization)                                                                                   \n",
            "                                                                                                  \n",
            " block_14_expand (Conv2D)    (None, 7, 7, 960)            153600    ['block_13_project_BN[0][0]'] \n",
            "                                                                                                  \n",
            " block_14_expand_BN (BatchN  (None, 7, 7, 960)            3840      ['block_14_expand[0][0]']     \n",
            " ormalization)                                                                                    \n",
            "                                                                                                  \n",
            " block_14_expand_relu (ReLU  (None, 7, 7, 960)            0         ['block_14_expand_BN[0][0]']  \n",
            " )                                                                                                \n",
            "                                                                                                  \n",
            " block_14_depthwise (Depthw  (None, 7, 7, 960)            8640      ['block_14_expand_relu[0][0]']\n",
            " iseConv2D)                                                                                       \n",
            "                                                                                                  \n",
            " block_14_depthwise_BN (Bat  (None, 7, 7, 960)            3840      ['block_14_depthwise[0][0]']  \n",
            " chNormalization)                                                                                 \n",
            "                                                                                                  \n",
            " block_14_depthwise_relu (R  (None, 7, 7, 960)            0         ['block_14_depthwise_BN[0][0]'\n",
            " eLU)                                                               ]                             \n",
            "                                                                                                  \n",
            " block_14_project (Conv2D)   (None, 7, 7, 160)            153600    ['block_14_depthwise_relu[0][0\n",
            "                                                                    ]']                           \n",
            "                                                                                                  \n",
            " block_14_project_BN (Batch  (None, 7, 7, 160)            640       ['block_14_project[0][0]']    \n",
            " Normalization)                                                                                   \n",
            "                                                                                                  \n",
            " block_14_add (Add)          (None, 7, 7, 160)            0         ['block_13_project_BN[0][0]', \n",
            "                                                                     'block_14_project_BN[0][0]'] \n",
            "                                                                                                  \n",
            " block_15_expand (Conv2D)    (None, 7, 7, 960)            153600    ['block_14_add[0][0]']        \n",
            "                                                                                                  \n",
            " block_15_expand_BN (BatchN  (None, 7, 7, 960)            3840      ['block_15_expand[0][0]']     \n",
            " ormalization)                                                                                    \n",
            "                                                                                                  \n",
            " block_15_expand_relu (ReLU  (None, 7, 7, 960)            0         ['block_15_expand_BN[0][0]']  \n",
            " )                                                                                                \n",
            "                                                                                                  \n",
            " block_15_depthwise (Depthw  (None, 7, 7, 960)            8640      ['block_15_expand_relu[0][0]']\n",
            " iseConv2D)                                                                                       \n",
            "                                                                                                  \n",
            " block_15_depthwise_BN (Bat  (None, 7, 7, 960)            3840      ['block_15_depthwise[0][0]']  \n",
            " chNormalization)                                                                                 \n",
            "                                                                                                  \n",
            " block_15_depthwise_relu (R  (None, 7, 7, 960)            0         ['block_15_depthwise_BN[0][0]'\n",
            " eLU)                                                               ]                             \n",
            "                                                                                                  \n",
            " block_15_project (Conv2D)   (None, 7, 7, 160)            153600    ['block_15_depthwise_relu[0][0\n",
            "                                                                    ]']                           \n",
            "                                                                                                  \n",
            " block_15_project_BN (Batch  (None, 7, 7, 160)            640       ['block_15_project[0][0]']    \n",
            " Normalization)                                                                                   \n",
            "                                                                                                  \n",
            " block_15_add (Add)          (None, 7, 7, 160)            0         ['block_14_add[0][0]',        \n",
            "                                                                     'block_15_project_BN[0][0]'] \n",
            "                                                                                                  \n",
            " block_16_expand (Conv2D)    (None, 7, 7, 960)            153600    ['block_15_add[0][0]']        \n",
            "                                                                                                  \n",
            " block_16_expand_BN (BatchN  (None, 7, 7, 960)            3840      ['block_16_expand[0][0]']     \n",
            " ormalization)                                                                                    \n",
            "                                                                                                  \n",
            " block_16_expand_relu (ReLU  (None, 7, 7, 960)            0         ['block_16_expand_BN[0][0]']  \n",
            " )                                                                                                \n",
            "                                                                                                  \n",
            " block_16_depthwise (Depthw  (None, 7, 7, 960)            8640      ['block_16_expand_relu[0][0]']\n",
            " iseConv2D)                                                                                       \n",
            "                                                                                                  \n",
            " block_16_depthwise_BN (Bat  (None, 7, 7, 960)            3840      ['block_16_depthwise[0][0]']  \n",
            " chNormalization)                                                                                 \n",
            "                                                                                                  \n",
            " block_16_depthwise_relu (R  (None, 7, 7, 960)            0         ['block_16_depthwise_BN[0][0]'\n",
            " eLU)                                                               ]                             \n",
            "                                                                                                  \n",
            " block_16_project (Conv2D)   (None, 7, 7, 320)            307200    ['block_16_depthwise_relu[0][0\n",
            "                                                                    ]']                           \n",
            "                                                                                                  \n",
            " block_16_project_BN (Batch  (None, 7, 7, 320)            1280      ['block_16_project[0][0]']    \n",
            " Normalization)                                                                                   \n",
            "                                                                                                  \n",
            " Conv_1 (Conv2D)             (None, 7, 7, 1280)           409600    ['block_16_project_BN[0][0]'] \n",
            "                                                                                                  \n",
            " Conv_1_bn (BatchNormalizat  (None, 7, 7, 1280)           5120      ['Conv_1[0][0]']              \n",
            " ion)                                                                                             \n",
            "                                                                                                  \n",
            " out_relu (ReLU)             (None, 7, 7, 1280)           0         ['Conv_1_bn[0][0]']           \n",
            "                                                                                                  \n",
            " global_average_pooling2d (  (None, 1280)                 0         ['out_relu[0][0]']            \n",
            " GlobalAveragePooling2D)                                                                          \n",
            "                                                                                                  \n",
            " dense (Dense)               (None, 512)                  655872    ['global_average_pooling2d[0][\n",
            "                                                                    0]']                          \n",
            "                                                                                                  \n",
            " dropout (Dropout)           (None, 512)                  0         ['dense[0][0]']               \n",
            "                                                                                                  \n",
            " dense_1 (Dense)             (None, 26)                   13338     ['dropout[0][0]']             \n",
            "                                                                                                  \n",
            "==================================================================================================\n",
            "Total params: 2927194 (11.17 MB)\n",
            "Trainable params: 2893082 (11.04 MB)\n",
            "Non-trainable params: 34112 (133.25 KB)\n",
            "__________________________________________________________________________________________________\n"
          ]
        }
      ]
    },
    {
      "cell_type": "markdown",
      "source": [
        "## Training Model"
      ],
      "metadata": {
        "id": "AkGK5jTlqZrR"
      }
    },
    {
      "cell_type": "code",
      "source": [
        "# compile the model\n",
        "    # Add WandbMetricsLogger to log metrics and WandbModelCheckpoint to log model checkpoints\n",
        "np.random.seed(42)\n",
        "wandb.init(\n",
        "        project=\"handsignlanguage\",\n",
        "         config={\n",
        "            \"loss\": \"categorical_crossentropy\",\n",
        "            \"metric\": \"accuracy\",\n",
        "            \"epoch\": 25,\n",
        "            \"batch_size\": 32,\n",
        "        },\n",
        "        )\n",
        "config = wandb.config\n",
        "wandb_callbacks = [\n",
        "        WandbMetricsLogger(),\n",
        "        WandbModelCheckpoint(filepath=\"my_model_{epoch:02d}\"),\n",
        "    ]\n",
        "mobilenetv2_model.compile(loss = config.loss,\n",
        "              optimizer = tf.optimizers.Adam(learning_rate = 0.0015),\n",
        "              metrics = [config.metric])\n",
        "\n",
        "startTime = time.time()\n",
        "mobilenetv2_model.fit(genTrain,\n",
        "          batch_size = config.batch_size,\n",
        "          steps_per_epoch = 32,\n",
        "          epochs = 25,\n",
        "          validation_data = genVal,\n",
        "          validation_steps = 2,  # Number of batches from the validation dataset to use\n",
        "          verbose = 2,\n",
        "          callbacks=wandb_callbacks,\n",
        "          n_jobs=-1)\n",
        "finishTime = time.time()\n",
        "\n",
        "# calculate the time in minutes\n",
        "print(f'\\nThis model took {round((finishTime - startTime)/60, 2)} minutes to finish.')"
      ],
      "metadata": {
        "colab": {
          "base_uri": "https://localhost:8080/",
          "height": 1000,
          "referenced_widgets": [
            "20a160f0aa1f4069a58ae7389799cc43",
            "9caa21429e1847faba9ff9242310d285",
            "97c003a419494ee5b8022bf133d60121",
            "d99d50f96f75468aa369ab06b91a2833",
            "ec39917dcfaf4fb7ad971ab64538aa65",
            "ec917d7916d94d6b9478c1b0309b01c2",
            "035047552a4544909c8c530ec8dfbce9",
            "456f31d303214e2cb3b69acd708145e6",
            "2a3293174ed842ec9957fcf075e4633a",
            "f72c9880ea8b495693911fb56d0ca6ba",
            "0758108d98e14fa0805bd1902d0871eb",
            "df3a6ae19f5646cbb1d0c2ae35ce7b2c",
            "7b745b2d48d34a84ba099668c1f34f5d",
            "9b45c23454cd4c99aec1093974f48769",
            "4a753ca2d30141ae9a8a01f045ef50c8",
            "a5235c8e71d048d6a2f41d41ad595238"
          ]
        },
        "id": "9BXG7uXGbbNo",
        "outputId": "92f6db4e-2e98-4035-86b1-a370853ed34f"
      },
      "execution_count": 130,
      "outputs": [
        {
          "output_type": "display_data",
          "data": {
            "text/plain": [
              "<IPython.core.display.HTML object>"
            ],
            "text/html": [
              "Finishing last run (ID:qsenpse9) before initializing another..."
            ]
          },
          "metadata": {}
        },
        {
          "output_type": "display_data",
          "data": {
            "text/plain": [
              "<IPython.core.display.HTML object>"
            ],
            "text/html": [
              "Waiting for W&B process to finish... <strong style=\"color:green\">(success).</strong>"
            ]
          },
          "metadata": {}
        },
        {
          "output_type": "display_data",
          "data": {
            "text/plain": [
              "VBox(children=(Label(value='0.001 MB of 0.001 MB uploaded (0.000 MB deduped)\\r'), FloatProgress(value=1.0, max…"
            ],
            "application/vnd.jupyter.widget-view+json": {
              "version_major": 2,
              "version_minor": 0,
              "model_id": "20a160f0aa1f4069a58ae7389799cc43"
            }
          },
          "metadata": {}
        },
        {
          "output_type": "display_data",
          "data": {
            "text/plain": [
              "<IPython.core.display.HTML object>"
            ],
            "text/html": [
              " View run <strong style=\"color:#cdcd00\">fluent-galaxy-3</strong> at: <a href='https://wandb.ai/thesocialnexus/handsignlanguage/runs/qsenpse9' target=\"_blank\">https://wandb.ai/thesocialnexus/handsignlanguage/runs/qsenpse9</a><br/>Synced 4 W&B file(s), 0 media file(s), 0 artifact file(s) and 0 other file(s)"
            ]
          },
          "metadata": {}
        },
        {
          "output_type": "display_data",
          "data": {
            "text/plain": [
              "<IPython.core.display.HTML object>"
            ],
            "text/html": [
              "Find logs at: <code>.\\wandb\\run-20230810_140256-qsenpse9\\logs</code>"
            ]
          },
          "metadata": {}
        },
        {
          "output_type": "display_data",
          "data": {
            "text/plain": [
              "<IPython.core.display.HTML object>"
            ],
            "text/html": [
              "Successfully finished last run (ID:qsenpse9). Initializing new run:<br/>"
            ]
          },
          "metadata": {}
        },
        {
          "output_type": "display_data",
          "data": {
            "text/plain": [
              "VBox(children=(Label(value='Waiting for wandb.init()...\\r'), FloatProgress(value=0.016916666666899498, max=1.0…"
            ],
            "application/vnd.jupyter.widget-view+json": {
              "version_major": 2,
              "version_minor": 0,
              "model_id": "2a3293174ed842ec9957fcf075e4633a"
            }
          },
          "metadata": {}
        },
        {
          "output_type": "display_data",
          "data": {
            "text/plain": [
              "<IPython.core.display.HTML object>"
            ],
            "text/html": [
              "Tracking run with wandb version 0.15.8"
            ]
          },
          "metadata": {}
        },
        {
          "output_type": "display_data",
          "data": {
            "text/plain": [
              "<IPython.core.display.HTML object>"
            ],
            "text/html": [
              "Run data is saved locally in <code>C:\\Users\\humus\\wandb\\run-20230810_140328-4ui9dldz</code>"
            ]
          },
          "metadata": {}
        },
        {
          "output_type": "display_data",
          "data": {
            "text/plain": [
              "<IPython.core.display.HTML object>"
            ],
            "text/html": [
              "Syncing run <strong><a href='https://wandb.ai/thesocialnexus/handsignlanguage/runs/4ui9dldz' target=\"_blank\">eager-frog-4</a></strong> to <a href='https://wandb.ai/thesocialnexus/handsignlanguage' target=\"_blank\">Weights & Biases</a> (<a href='https://wandb.me/run' target=\"_blank\">docs</a>)<br/>"
            ]
          },
          "metadata": {}
        },
        {
          "output_type": "display_data",
          "data": {
            "text/plain": [
              "<IPython.core.display.HTML object>"
            ],
            "text/html": [
              " View project at <a href='https://wandb.ai/thesocialnexus/handsignlanguage' target=\"_blank\">https://wandb.ai/thesocialnexus/handsignlanguage</a>"
            ]
          },
          "metadata": {}
        },
        {
          "output_type": "display_data",
          "data": {
            "text/plain": [
              "<IPython.core.display.HTML object>"
            ],
            "text/html": [
              " View run at <a href='https://wandb.ai/thesocialnexus/handsignlanguage/runs/4ui9dldz' target=\"_blank\">https://wandb.ai/thesocialnexus/handsignlanguage/runs/4ui9dldz</a>"
            ]
          },
          "metadata": {}
        },
        {
          "output_type": "stream",
          "name": "stdout",
          "text": [
            "Epoch 1/25\n",
            "INFO:tensorflow:Assets written to: my_model_01\\assets\n"
          ]
        },
        {
          "output_type": "stream",
          "name": "stderr",
          "text": [
            "INFO:tensorflow:Assets written to: my_model_01\\assets\n",
            "\u001b[34m\u001b[1mwandb\u001b[0m: Adding directory to artifact (.\\my_model_01)... Done. 0.2s\n"
          ]
        },
        {
          "output_type": "stream",
          "name": "stdout",
          "text": [
            "32/32 - 109s - loss: 1.2675 - accuracy: 0.6318 - val_loss: 6.3991 - val_accuracy: 0.2656 - 109s/epoch - 3s/step\n",
            "Epoch 2/25\n",
            "INFO:tensorflow:Assets written to: my_model_02\\assets\n"
          ]
        },
        {
          "output_type": "stream",
          "name": "stderr",
          "text": [
            "INFO:tensorflow:Assets written to: my_model_02\\assets\n",
            "\u001b[34m\u001b[1mwandb\u001b[0m: Adding directory to artifact (.\\my_model_02)... Done. 0.2s\n"
          ]
        },
        {
          "output_type": "stream",
          "name": "stdout",
          "text": [
            "32/32 - 86s - loss: 0.4821 - accuracy: 0.8721 - val_loss: 12.5747 - val_accuracy: 0.1406 - 86s/epoch - 3s/step\n",
            "Epoch 3/25\n",
            "INFO:tensorflow:Assets written to: my_model_03\\assets\n"
          ]
        },
        {
          "output_type": "stream",
          "name": "stderr",
          "text": [
            "INFO:tensorflow:Assets written to: my_model_03\\assets\n",
            "\u001b[34m\u001b[1mwandb\u001b[0m: Adding directory to artifact (.\\my_model_03)... Done. 0.2s\n"
          ]
        },
        {
          "output_type": "stream",
          "name": "stdout",
          "text": [
            "32/32 - 88s - loss: 0.3878 - accuracy: 0.8965 - val_loss: 18.0131 - val_accuracy: 0.0781 - 88s/epoch - 3s/step\n",
            "Epoch 4/25\n",
            "INFO:tensorflow:Assets written to: my_model_04\\assets\n"
          ]
        },
        {
          "output_type": "stream",
          "name": "stderr",
          "text": [
            "INFO:tensorflow:Assets written to: my_model_04\\assets\n",
            "\u001b[34m\u001b[1mwandb\u001b[0m: Adding directory to artifact (.\\my_model_04)... Done. 0.2s\n"
          ]
        },
        {
          "output_type": "stream",
          "name": "stdout",
          "text": [
            "32/32 - 90s - loss: 0.1129 - accuracy: 0.9668 - val_loss: 20.3607 - val_accuracy: 0.1562 - 90s/epoch - 3s/step\n",
            "Epoch 5/25\n",
            "INFO:tensorflow:Assets written to: my_model_05\\assets\n"
          ]
        },
        {
          "output_type": "stream",
          "name": "stderr",
          "text": [
            "INFO:tensorflow:Assets written to: my_model_05\\assets\n",
            "\u001b[34m\u001b[1mwandb\u001b[0m: Adding directory to artifact (.\\my_model_05)... Done. 0.2s\n"
          ]
        },
        {
          "output_type": "stream",
          "name": "stdout",
          "text": [
            "32/32 - 93s - loss: 0.1047 - accuracy: 0.9688 - val_loss: 24.5866 - val_accuracy: 0.1406 - 93s/epoch - 3s/step\n",
            "Epoch 6/25\n",
            "INFO:tensorflow:Assets written to: my_model_06\\assets\n"
          ]
        },
        {
          "output_type": "stream",
          "name": "stderr",
          "text": [
            "INFO:tensorflow:Assets written to: my_model_06\\assets\n",
            "\u001b[34m\u001b[1mwandb\u001b[0m: Adding directory to artifact (.\\my_model_06)... Done. 0.1s\n"
          ]
        },
        {
          "output_type": "stream",
          "name": "stdout",
          "text": [
            "32/32 - 78s - loss: 0.1788 - accuracy: 0.9512 - val_loss: 16.8602 - val_accuracy: 0.2656 - 78s/epoch - 2s/step\n",
            "Epoch 7/25\n",
            "INFO:tensorflow:Assets written to: my_model_07\\assets\n"
          ]
        },
        {
          "output_type": "stream",
          "name": "stderr",
          "text": [
            "INFO:tensorflow:Assets written to: my_model_07\\assets\n",
            "\u001b[34m\u001b[1mwandb\u001b[0m: Adding directory to artifact (.\\my_model_07)... Done. 0.1s\n"
          ]
        },
        {
          "output_type": "stream",
          "name": "stdout",
          "text": [
            "32/32 - 68s - loss: 0.2420 - accuracy: 0.9324 - val_loss: 22.3828 - val_accuracy: 0.0469 - 68s/epoch - 2s/step\n",
            "Epoch 8/25\n",
            "INFO:tensorflow:Assets written to: my_model_08\\assets\n"
          ]
        },
        {
          "output_type": "stream",
          "name": "stderr",
          "text": [
            "INFO:tensorflow:Assets written to: my_model_08\\assets\n",
            "\u001b[34m\u001b[1mwandb\u001b[0m: Adding directory to artifact (.\\my_model_08)... Done. 0.1s\n"
          ]
        },
        {
          "output_type": "stream",
          "name": "stdout",
          "text": [
            "32/32 - 79s - loss: 0.2315 - accuracy: 0.9404 - val_loss: 12.8183 - val_accuracy: 0.2344 - 79s/epoch - 2s/step\n",
            "Epoch 9/25\n",
            "INFO:tensorflow:Assets written to: my_model_09\\assets\n"
          ]
        },
        {
          "output_type": "stream",
          "name": "stderr",
          "text": [
            "INFO:tensorflow:Assets written to: my_model_09\\assets\n",
            "\u001b[34m\u001b[1mwandb\u001b[0m: Adding directory to artifact (.\\my_model_09)... Done. 0.1s\n"
          ]
        },
        {
          "output_type": "stream",
          "name": "stdout",
          "text": [
            "32/32 - 76s - loss: 0.1249 - accuracy: 0.9678 - val_loss: 19.4592 - val_accuracy: 0.1250 - 76s/epoch - 2s/step\n",
            "Epoch 10/25\n",
            "INFO:tensorflow:Assets written to: my_model_10\\assets\n"
          ]
        },
        {
          "output_type": "stream",
          "name": "stderr",
          "text": [
            "INFO:tensorflow:Assets written to: my_model_10\\assets\n",
            "\u001b[34m\u001b[1mwandb\u001b[0m: Adding directory to artifact (.\\my_model_10)... Done. 0.1s\n"
          ]
        },
        {
          "output_type": "stream",
          "name": "stdout",
          "text": [
            "32/32 - 82s - loss: 0.1667 - accuracy: 0.9551 - val_loss: 23.3105 - val_accuracy: 0.1250 - 82s/epoch - 3s/step\n",
            "Epoch 11/25\n",
            "INFO:tensorflow:Assets written to: my_model_11\\assets\n"
          ]
        },
        {
          "output_type": "stream",
          "name": "stderr",
          "text": [
            "INFO:tensorflow:Assets written to: my_model_11\\assets\n",
            "\u001b[34m\u001b[1mwandb\u001b[0m: Adding directory to artifact (.\\my_model_11)... Done. 0.1s\n"
          ]
        },
        {
          "output_type": "stream",
          "name": "stdout",
          "text": [
            "32/32 - 70s - loss: 0.1461 - accuracy: 0.9668 - val_loss: 24.9485 - val_accuracy: 0.0781 - 70s/epoch - 2s/step\n",
            "Epoch 12/25\n",
            "INFO:tensorflow:Assets written to: my_model_12\\assets\n"
          ]
        },
        {
          "output_type": "stream",
          "name": "stderr",
          "text": [
            "INFO:tensorflow:Assets written to: my_model_12\\assets\n",
            "\u001b[34m\u001b[1mwandb\u001b[0m: Adding directory to artifact (.\\my_model_12)... Done. 0.1s\n"
          ]
        },
        {
          "output_type": "stream",
          "name": "stdout",
          "text": [
            "32/32 - 70s - loss: 0.1107 - accuracy: 0.9697 - val_loss: 21.6923 - val_accuracy: 0.1094 - 70s/epoch - 2s/step\n",
            "Epoch 13/25\n",
            "INFO:tensorflow:Assets written to: my_model_13\\assets\n"
          ]
        },
        {
          "output_type": "stream",
          "name": "stderr",
          "text": [
            "INFO:tensorflow:Assets written to: my_model_13\\assets\n",
            "\u001b[34m\u001b[1mwandb\u001b[0m: Adding directory to artifact (.\\my_model_13)... Done. 0.1s\n"
          ]
        },
        {
          "output_type": "stream",
          "name": "stdout",
          "text": [
            "32/32 - 71s - loss: 0.0499 - accuracy: 0.9863 - val_loss: 14.3049 - val_accuracy: 0.0938 - 71s/epoch - 2s/step\n",
            "Epoch 14/25\n",
            "INFO:tensorflow:Assets written to: my_model_14\\assets\n"
          ]
        },
        {
          "output_type": "stream",
          "name": "stderr",
          "text": [
            "INFO:tensorflow:Assets written to: my_model_14\\assets\n",
            "\u001b[34m\u001b[1mwandb\u001b[0m: Adding directory to artifact (.\\my_model_14)... Done. 0.1s\n"
          ]
        },
        {
          "output_type": "stream",
          "name": "stdout",
          "text": [
            "32/32 - 73s - loss: 0.0386 - accuracy: 0.9893 - val_loss: 8.2067 - val_accuracy: 0.3594 - 73s/epoch - 2s/step\n",
            "Epoch 15/25\n",
            "INFO:tensorflow:Assets written to: my_model_15\\assets\n"
          ]
        },
        {
          "output_type": "stream",
          "name": "stderr",
          "text": [
            "INFO:tensorflow:Assets written to: my_model_15\\assets\n",
            "\u001b[34m\u001b[1mwandb\u001b[0m: Adding directory to artifact (.\\my_model_15)... Done. 0.1s\n"
          ]
        },
        {
          "output_type": "stream",
          "name": "stdout",
          "text": [
            "32/32 - 71s - loss: 0.0368 - accuracy: 0.9902 - val_loss: 11.2216 - val_accuracy: 0.2812 - 71s/epoch - 2s/step\n",
            "Epoch 16/25\n",
            "INFO:tensorflow:Assets written to: my_model_16\\assets\n"
          ]
        },
        {
          "output_type": "stream",
          "name": "stderr",
          "text": [
            "INFO:tensorflow:Assets written to: my_model_16\\assets\n",
            "\u001b[34m\u001b[1mwandb\u001b[0m: Adding directory to artifact (.\\my_model_16)... Done. 0.1s\n"
          ]
        },
        {
          "output_type": "stream",
          "name": "stdout",
          "text": [
            "32/32 - 71s - loss: 0.1700 - accuracy: 0.9639 - val_loss: 13.3307 - val_accuracy: 0.3125 - 71s/epoch - 2s/step\n",
            "Epoch 17/25\n",
            "INFO:tensorflow:Assets written to: my_model_17\\assets\n"
          ]
        },
        {
          "output_type": "stream",
          "name": "stderr",
          "text": [
            "INFO:tensorflow:Assets written to: my_model_17\\assets\n",
            "\u001b[34m\u001b[1mwandb\u001b[0m: Adding directory to artifact (.\\my_model_17)... Done. 0.1s\n"
          ]
        },
        {
          "output_type": "stream",
          "name": "stdout",
          "text": [
            "32/32 - 71s - loss: 0.1157 - accuracy: 0.9727 - val_loss: 18.2782 - val_accuracy: 0.1250 - 71s/epoch - 2s/step\n",
            "Epoch 18/25\n",
            "INFO:tensorflow:Assets written to: my_model_18\\assets\n"
          ]
        },
        {
          "output_type": "stream",
          "name": "stderr",
          "text": [
            "INFO:tensorflow:Assets written to: my_model_18\\assets\n",
            "\u001b[34m\u001b[1mwandb\u001b[0m: Adding directory to artifact (.\\my_model_18)... Done. 0.1s\n"
          ]
        },
        {
          "output_type": "stream",
          "name": "stdout",
          "text": [
            "32/32 - 71s - loss: 0.1133 - accuracy: 0.9648 - val_loss: 14.3581 - val_accuracy: 0.1875 - 71s/epoch - 2s/step\n",
            "Epoch 19/25\n",
            "INFO:tensorflow:Assets written to: my_model_19\\assets\n"
          ]
        },
        {
          "output_type": "stream",
          "name": "stderr",
          "text": [
            "INFO:tensorflow:Assets written to: my_model_19\\assets\n",
            "\u001b[34m\u001b[1mwandb\u001b[0m: Adding directory to artifact (.\\my_model_19)... Done. 0.1s\n"
          ]
        },
        {
          "output_type": "stream",
          "name": "stdout",
          "text": [
            "32/32 - 70s - loss: 0.1536 - accuracy: 0.9551 - val_loss: 16.8758 - val_accuracy: 0.1250 - 70s/epoch - 2s/step\n",
            "Epoch 20/25\n",
            "INFO:tensorflow:Assets written to: my_model_20\\assets\n"
          ]
        },
        {
          "output_type": "stream",
          "name": "stderr",
          "text": [
            "INFO:tensorflow:Assets written to: my_model_20\\assets\n",
            "\u001b[34m\u001b[1mwandb\u001b[0m: Adding directory to artifact (.\\my_model_20)... Done. 0.1s\n"
          ]
        },
        {
          "output_type": "stream",
          "name": "stdout",
          "text": [
            "32/32 - 71s - loss: 0.2035 - accuracy: 0.9365 - val_loss: 32.1341 - val_accuracy: 0.0312 - 71s/epoch - 2s/step\n",
            "Epoch 21/25\n",
            "INFO:tensorflow:Assets written to: my_model_21\\assets\n"
          ]
        },
        {
          "output_type": "stream",
          "name": "stderr",
          "text": [
            "INFO:tensorflow:Assets written to: my_model_21\\assets\n",
            "\u001b[34m\u001b[1mwandb\u001b[0m: Adding directory to artifact (.\\my_model_21)... Done. 0.1s\n"
          ]
        },
        {
          "output_type": "stream",
          "name": "stdout",
          "text": [
            "32/32 - 73s - loss: 0.1159 - accuracy: 0.9600 - val_loss: 31.4234 - val_accuracy: 0.0469 - 73s/epoch - 2s/step\n",
            "Epoch 22/25\n",
            "INFO:tensorflow:Assets written to: my_model_22\\assets\n"
          ]
        },
        {
          "output_type": "stream",
          "name": "stderr",
          "text": [
            "INFO:tensorflow:Assets written to: my_model_22\\assets\n",
            "\u001b[34m\u001b[1mwandb\u001b[0m: Adding directory to artifact (.\\my_model_22)... Done. 0.1s\n"
          ]
        },
        {
          "output_type": "stream",
          "name": "stdout",
          "text": [
            "32/32 - 72s - loss: 0.0622 - accuracy: 0.9844 - val_loss: 16.4610 - val_accuracy: 0.1406 - 72s/epoch - 2s/step\n",
            "Epoch 23/25\n",
            "INFO:tensorflow:Assets written to: my_model_23\\assets\n"
          ]
        },
        {
          "output_type": "stream",
          "name": "stderr",
          "text": [
            "INFO:tensorflow:Assets written to: my_model_23\\assets\n",
            "\u001b[34m\u001b[1mwandb\u001b[0m: Adding directory to artifact (.\\my_model_23)... Done. 0.1s\n"
          ]
        },
        {
          "output_type": "stream",
          "name": "stdout",
          "text": [
            "32/32 - 74s - loss: 0.0687 - accuracy: 0.9746 - val_loss: 18.5089 - val_accuracy: 0.0469 - 74s/epoch - 2s/step\n",
            "Epoch 24/25\n",
            "INFO:tensorflow:Assets written to: my_model_24\\assets\n"
          ]
        },
        {
          "output_type": "stream",
          "name": "stderr",
          "text": [
            "INFO:tensorflow:Assets written to: my_model_24\\assets\n",
            "\u001b[34m\u001b[1mwandb\u001b[0m: Adding directory to artifact (.\\my_model_24)... Done. 0.1s\n"
          ]
        },
        {
          "output_type": "stream",
          "name": "stdout",
          "text": [
            "32/32 - 73s - loss: 0.1104 - accuracy: 0.9688 - val_loss: 18.2999 - val_accuracy: 0.0156 - 73s/epoch - 2s/step\n",
            "Epoch 25/25\n",
            "INFO:tensorflow:Assets written to: my_model_25\\assets\n"
          ]
        },
        {
          "output_type": "stream",
          "name": "stderr",
          "text": [
            "INFO:tensorflow:Assets written to: my_model_25\\assets\n",
            "\u001b[34m\u001b[1mwandb\u001b[0m: Adding directory to artifact (.\\my_model_25)... Done. 0.1s\n"
          ]
        },
        {
          "output_type": "stream",
          "name": "stdout",
          "text": [
            "32/32 - 72s - loss: 0.1160 - accuracy: 0.9727 - val_loss: 10.2308 - val_accuracy: 0.1719 - 72s/epoch - 2s/step\n",
            "\n",
            "This model took 32.06 minutes to finish.\n"
          ]
        }
      ]
    },
    {
      "cell_type": "code",
      "source": [
        "# Define the directory where you want to save the model\n",
        "model_save_path = modelpath+\"mobilenetv2_model.h5\"\n",
        "\n",
        "# Save the model in the specified directory\n",
        "# mobilenetv2_model.save(model_save_path)\n",
        "\n",
        "# Print a message to indicate that the model has been saved\n",
        "print(\"Trained model path has been saved.\")"
      ],
      "metadata": {
        "colab": {
          "base_uri": "https://localhost:8080/"
        },
        "id": "BVC2WclTqQR9",
        "outputId": "64702de9-d7d6-4aa5-ff2f-0feb2a15e3a2"
      },
      "execution_count": 17,
      "outputs": [
        {
          "output_type": "stream",
          "name": "stdout",
          "text": [
            "Trained model path has been saved.\n"
          ]
        }
      ]
    },
    {
      "cell_type": "code",
      "source": [
        "# Model Evaluation(on test split)"
      ],
      "metadata": {
        "id": "BJaWbbxnzwOx"
      },
      "execution_count": 137,
      "outputs": []
    },
    {
      "cell_type": "code",
      "source": [
        "# save model training history into several variables\n",
        "acc = mobilenetv2_model.history.history['accuracy']\n",
        "valAcc = mobilenetv2_model.history.history['val_accuracy']\n",
        "epoch = mobilenetv2_model.history.epoch\n",
        "\n",
        "# configure the visualization\n",
        "plt.subplots(figsize=(8, 4))\n",
        "plt.plot(epoch, acc, label = 'Data Training', color = 'b')\n",
        "plt.plot(epoch, valAcc, label = 'Data Validation', color = 'r')\n",
        "plt.xlabel('Epoch')\n",
        "plt.ylabel('Accuracy')\n",
        "plt.xlim([0, len(epoch)])\n",
        "plt.ylim([0, 1])\n",
        "plt.title('History Accuracy Graph')\n",
        "\n",
        "# and show it!\n",
        "plt.legend()\n",
        "plt.show()"
      ],
      "metadata": {
        "colab": {
          "base_uri": "https://localhost:8080/",
          "height": 408
        },
        "id": "WbVfhgrZ0H4p",
        "outputId": "9140ade8-b14b-4bc1-8ab7-ba1dad5a9716"
      },
      "execution_count": 139,
      "outputs": [
        {
          "output_type": "display_data",
          "data": {
            "text/plain": [
              "<Figure size 800x400 with 1 Axes>"
            ],
            "image/png": "[encoded data removed]"
          },
          "metadata": {}
        }
      ]
    },
    {
      "cell_type": "code",
      "source": [
        "# do the same thing for history loss graph\n",
        "loss = mobilenetv2_model.history.history['loss']\n",
        "valLoss = mobilenetv2_model.history.history['val_loss']\n",
        "\n",
        "# configure the visualization\n",
        "plt.subplots(figsize=(8, 4))\n",
        "plt.plot(epoch, loss, label = 'Data Training', color = 'b')\n",
        "plt.plot(epoch, valLoss, label = 'Data Validation', color = 'r')\n",
        "plt.xlabel('Epoch')\n",
        "plt.ylabel('Loss')\n",
        "plt.xlim([0, len(epoch)])\n",
        "plt.ylim([0, max(loss)])\n",
        "plt.title('History Loss Graph')\n",
        "\n",
        "# and show it!\n",
        "plt.legend()\n",
        "plt.show()"
      ],
      "metadata": {
        "colab": {
          "base_uri": "https://localhost:8080/",
          "height": 408
        },
        "id": "XRfSR-LK0R05",
        "outputId": "b751f305-e9c7-4851-ae93-0b7d91584456"
      },
      "execution_count": 140,
      "outputs": [
        {
          "output_type": "display_data",
          "data": {
            "text/plain": [
              "<Figure size 800x400 with 1 Axes>"
            ],
            "image/png": "[encoded data removed]"
          },
          "metadata": {}
        }
      ]
    },
    {
      "cell_type": "markdown",
      "source": [
        "##Evaluation on Test Set"
      ],
      "metadata": {
        "id": "eIJWqljv-Ng6"
      }
    },
    {
      "cell_type": "code",
      "source": [
        "# settings new images for data testing\n",
        "setTest = ImageDataGenerator(rescale = 1./255)"
      ],
      "metadata": {
        "id": "V1nI6_u40ZvI"
      },
      "execution_count": 48,
      "outputs": []
    },
    {
      "cell_type": "code",
      "source": [
        "# generate new images for data testing\n",
        "dirTest = os.path.join(dirData, 'Test')\n",
        "genTest = setTest.flow_from_directory(dirTest,\n",
        "                                       target_size = (200, 200),\n",
        "                                       batch_size = 32,\n",
        "                                       class_mode = 'categorical',\n",
        "                                       seed = 250)"
      ],
      "metadata": {
        "colab": {
          "base_uri": "https://localhost:8080/"
        },
        "id": "Y1CMDE5n0gVZ",
        "outputId": "46690521-4051-477e-ff4f-0d261245db9d"
      },
      "execution_count": 49,
      "outputs": [
        {
          "output_type": "stream",
          "name": "stdout",
          "text": [
            "Found 104 images belonging to 26 classes.\n"
          ]
        }
      ]
    },
    {
      "cell_type": "code",
      "source": [
        "# save all those labels\n",
        "y_test = genTest.classes\n",
        "y_test"
      ],
      "metadata": {
        "colab": {
          "base_uri": "https://localhost:8080/"
        },
        "id": "9UW2izNE0g8w",
        "outputId": "ebb6da7c-e161-4308-8be1-b18d0563e908"
      },
      "execution_count": 50,
      "outputs": [
        {
          "output_type": "execute_result",
          "data": {
            "text/plain": [
              "array([ 0,  0,  0,  0,  1,  1,  1,  1,  2,  2,  2,  2,  3,  3,  3,  3,  4,\n",
              "        4,  4,  4,  5,  5,  5,  5,  6,  6,  6,  6,  7,  7,  7,  7,  8,  8,\n",
              "        8,  8,  9,  9,  9,  9, 10, 10, 10, 10, 11, 11, 11, 11, 12, 12, 12,\n",
              "       12, 13, 13, 13, 13, 14, 14, 14, 14, 15, 15, 15, 15, 16, 16, 16, 16,\n",
              "       17, 17, 17, 17, 18, 18, 18, 18, 19, 19, 19, 19, 20, 20, 20, 20, 21,\n",
              "       21, 21, 21, 22, 22, 22, 22, 23, 23, 23, 23, 24, 24, 24, 24, 25, 25,\n",
              "       25, 25])"
            ]
          },
          "metadata": {},
          "execution_count": 50
        }
      ]
    },
    {
      "cell_type": "code",
      "source": [
        "loadedmnv2_model = tf.keras.models.load_model(modelpath+\"mobilenetv2_model.h5\")"
      ],
      "metadata": {
        "id": "6ye34r7yepSC"
      },
      "execution_count": 74,
      "outputs": []
    },
    {
      "cell_type": "code",
      "source": [
        "# do the prediction\n",
        "y_pred = []\n",
        "for i in genTest.class_indices:\n",
        "    # take the path of data test\n",
        "    labelTest = dirTest+'/'+i+'/'\n",
        "    for j in os.listdir(labelTest):\n",
        "        # save the label\n",
        "        x_pred = labelTest + j\n",
        "\n",
        "        # load image into matrix\n",
        "        img = image.load_img(x_pred, target_size = (200, 200))\n",
        "        x = image.img_to_array(img)\n",
        "        x = np.expand_dims(x, axis = 0)\n",
        "        matxImg = np.vstack([x])\n",
        "\n",
        "        # so what is the label?\n",
        "        predict = loadedmnv2_model.predict(matxImg, batch_size = 32)\n",
        "        predict = np.argmax(predict, axis = 1)\n",
        "        y_pred.append(predict[0])"
      ],
      "metadata": {
        "colab": {
          "base_uri": "https://localhost:8080/"
        },
        "id": "PrLeOCTo0jDk",
        "outputId": "334a391f-6e00-4d00-d2c0-b62956bc1004"
      },
      "execution_count": 75,
      "outputs": [
        {
          "output_type": "stream",
          "name": "stdout",
          "text": [
            "1/1 [==============================] - 1s 1s/step\n",
            "1/1 [==============================] - 0s 78ms/step\n",
            "1/1 [==============================] - 0s 81ms/step\n",
            "1/1 [==============================] - 0s 98ms/step\n",
            "1/1 [==============================] - 0s 69ms/step\n",
            "1/1 [==============================] - 0s 92ms/step\n",
            "1/1 [==============================] - 0s 105ms/step\n",
            "1/1 [==============================] - 0s 94ms/step\n",
            "1/1 [==============================] - 0s 100ms/step\n",
            "1/1 [==============================] - 0s 81ms/step\n",
            "1/1 [==============================] - 0s 75ms/step\n",
            "1/1 [==============================] - 0s 67ms/step\n",
            "1/1 [==============================] - 0s 105ms/step\n",
            "1/1 [==============================] - 0s 100ms/step\n",
            "1/1 [==============================] - 0s 104ms/step\n",
            "1/1 [==============================] - 0s 96ms/step\n",
            "1/1 [==============================] - 0s 112ms/step\n",
            "1/1 [==============================] - 0s 67ms/step\n",
            "1/1 [==============================] - 0s 101ms/step\n",
            "1/1 [==============================] - 0s 109ms/step\n",
            "1/1 [==============================] - 0s 85ms/step\n",
            "1/1 [==============================] - 0s 74ms/step\n",
            "1/1 [==============================] - 0s 108ms/step\n",
            "1/1 [==============================] - 0s 74ms/step\n",
            "1/1 [==============================] - 0s 90ms/step\n",
            "1/1 [==============================] - 0s 68ms/step\n",
            "1/1 [==============================] - 0s 87ms/step\n",
            "1/1 [==============================] - 0s 109ms/step\n",
            "1/1 [==============================] - 0s 80ms/step\n",
            "1/1 [==============================] - 0s 103ms/step\n",
            "1/1 [==============================] - 0s 94ms/step\n",
            "1/1 [==============================] - 0s 69ms/step\n",
            "1/1 [==============================] - 0s 102ms/step\n",
            "1/1 [==============================] - 0s 112ms/step\n",
            "1/1 [==============================] - 0s 80ms/step\n",
            "1/1 [==============================] - 0s 83ms/step\n",
            "1/1 [==============================] - 0s 67ms/step\n",
            "1/1 [==============================] - 0s 65ms/step\n",
            "1/1 [==============================] - 0s 62ms/step\n",
            "1/1 [==============================] - 0s 78ms/step\n",
            "1/1 [==============================] - 0s 82ms/step\n",
            "1/1 [==============================] - 0s 100ms/step\n",
            "1/1 [==============================] - 0s 91ms/step\n",
            "1/1 [==============================] - 0s 76ms/step\n",
            "1/1 [==============================] - 0s 72ms/step\n",
            "1/1 [==============================] - 0s 66ms/step\n",
            "1/1 [==============================] - 0s 86ms/step\n",
            "1/1 [==============================] - 0s 110ms/step\n",
            "1/1 [==============================] - 0s 116ms/step\n",
            "1/1 [==============================] - 0s 93ms/step\n",
            "1/1 [==============================] - 0s 93ms/step\n",
            "1/1 [==============================] - 0s 81ms/step\n",
            "1/1 [==============================] - 0s 60ms/step\n",
            "1/1 [==============================] - 0s 90ms/step\n",
            "1/1 [==============================] - 0s 102ms/step\n",
            "1/1 [==============================] - 0s 113ms/step\n",
            "1/1 [==============================] - 0s 96ms/step\n",
            "1/1 [==============================] - 0s 92ms/step\n",
            "1/1 [==============================] - 0s 68ms/step\n",
            "1/1 [==============================] - 0s 89ms/step\n",
            "1/1 [==============================] - 0s 81ms/step\n",
            "1/1 [==============================] - 0s 103ms/step\n",
            "1/1 [==============================] - 0s 97ms/step\n",
            "1/1 [==============================] - 0s 96ms/step\n",
            "1/1 [==============================] - 0s 85ms/step\n",
            "1/1 [==============================] - 0s 74ms/step\n",
            "1/1 [==============================] - 0s 86ms/step\n",
            "1/1 [==============================] - 0s 114ms/step\n",
            "1/1 [==============================] - 0s 100ms/step\n",
            "1/1 [==============================] - 0s 71ms/step\n",
            "1/1 [==============================] - 0s 122ms/step\n",
            "1/1 [==============================] - 0s 75ms/step\n",
            "1/1 [==============================] - 0s 82ms/step\n",
            "1/1 [==============================] - 0s 111ms/step\n",
            "1/1 [==============================] - 0s 104ms/step\n",
            "1/1 [==============================] - 0s 85ms/step\n",
            "1/1 [==============================] - 0s 110ms/step\n",
            "1/1 [==============================] - 0s 93ms/step\n",
            "1/1 [==============================] - 0s 63ms/step\n",
            "1/1 [==============================] - 0s 84ms/step\n",
            "1/1 [==============================] - 0s 111ms/step\n",
            "1/1 [==============================] - 0s 105ms/step\n",
            "1/1 [==============================] - 0s 87ms/step\n",
            "1/1 [==============================] - 0s 111ms/step\n",
            "1/1 [==============================] - 0s 68ms/step\n",
            "1/1 [==============================] - 0s 66ms/step\n",
            "1/1 [==============================] - 0s 93ms/step\n",
            "1/1 [==============================] - 0s 89ms/step\n",
            "1/1 [==============================] - 0s 84ms/step\n",
            "1/1 [==============================] - 0s 90ms/step\n",
            "1/1 [==============================] - 0s 108ms/step\n",
            "1/1 [==============================] - 0s 86ms/step\n",
            "1/1 [==============================] - 0s 77ms/step\n",
            "1/1 [==============================] - 0s 70ms/step\n",
            "1/1 [==============================] - 0s 95ms/step\n",
            "1/1 [==============================] - 0s 78ms/step\n",
            "1/1 [==============================] - 0s 92ms/step\n",
            "1/1 [==============================] - 0s 105ms/step\n",
            "1/1 [==============================] - 0s 73ms/step\n",
            "1/1 [==============================] - 0s 66ms/step\n",
            "1/1 [==============================] - 0s 101ms/step\n",
            "1/1 [==============================] - 0s 93ms/step\n",
            "1/1 [==============================] - 0s 75ms/step\n",
            "1/1 [==============================] - 0s 69ms/step\n"
          ]
        }
      ]
    },
    {
      "cell_type": "code",
      "source": [
        "# calculate the accuracy of the prediction\n",
        "acc_result = round(accuracy_score(y_pred, y_test), 2)\n",
        "print('Accuracy: ', acc_result)"
      ],
      "metadata": {
        "colab": {
          "base_uri": "https://localhost:8080/"
        },
        "id": "BCxrdXGu0lP9",
        "outputId": "3b07cf59-790f-4fce-d96d-0bb87b064d93"
      },
      "execution_count": 76,
      "outputs": [
        {
          "output_type": "stream",
          "name": "stdout",
          "text": [
            "Accuracy:  0.1\n"
          ]
        }
      ]
    },
    {
      "cell_type": "code",
      "source": [
        "# show the confusion matrix\n",
        "conMat = confusion_matrix(y_pred, y_test,\n",
        "                          labels = list(genTest.class_indices.values()))\n",
        "print(conMat)"
      ],
      "metadata": {
        "colab": {
          "base_uri": "https://localhost:8080/"
        },
        "id": "hbOBPJkc0wTT",
        "outputId": "8e3f11de-a96e-4cbe-9cac-f99b386a1efa"
      },
      "execution_count": 77,
      "outputs": [
        {
          "output_type": "stream",
          "name": "stdout",
          "text": [
            "[[0 0 0 0 0 0 0 0 0 0 0 0 0 0 0 0 0 0 0 0 0 0 0 0 0 0]\n",
            " [0 0 3 3 0 0 0 4 0 0 0 2 0 0 0 0 2 0 0 1 0 0 0 0 0 0]\n",
            " [0 0 0 0 0 0 0 0 0 0 0 0 0 0 0 0 0 0 0 0 0 0 0 0 0 0]\n",
            " [0 0 0 0 0 0 0 0 0 0 0 0 0 0 0 0 0 0 0 0 0 0 0 0 0 0]\n",
            " [0 0 1 1 0 0 0 0 1 0 0 0 0 0 0 0 0 0 0 0 0 0 0 0 0 0]\n",
            " [0 0 0 0 0 0 0 0 0 0 0 0 0 0 0 0 0 0 0 0 0 0 0 0 0 0]\n",
            " [0 0 0 0 0 0 4 0 0 0 0 2 0 0 0 0 0 0 0 0 1 0 1 0 0 0]\n",
            " [0 0 0 0 0 0 0 0 0 0 0 0 0 0 0 1 2 0 0 1 0 0 0 0 0 0]\n",
            " [0 0 0 0 0 0 0 0 0 0 0 0 0 0 0 0 0 0 0 0 0 0 0 0 0 0]\n",
            " [0 0 0 0 0 0 0 0 0 2 0 0 0 0 0 3 0 0 0 0 0 0 0 0 4 4]\n",
            " [0 0 0 0 0 0 0 0 0 0 0 0 0 0 0 0 0 0 0 0 0 0 0 0 0 0]\n",
            " [0 0 0 0 0 0 0 0 0 0 0 0 0 0 0 0 0 0 0 0 0 0 0 0 0 0]\n",
            " [4 4 0 0 4 4 0 0 3 2 4 0 4 4 4 0 0 4 4 2 3 4 3 4 0 0]\n",
            " [0 0 0 0 0 0 0 0 0 0 0 0 0 0 0 0 0 0 0 0 0 0 0 0 0 0]\n",
            " [0 0 0 0 0 0 0 0 0 0 0 0 0 0 0 0 0 0 0 0 0 0 0 0 0 0]\n",
            " [0 0 0 0 0 0 0 0 0 0 0 0 0 0 0 0 0 0 0 0 0 0 0 0 0 0]\n",
            " [0 0 0 0 0 0 0 0 0 0 0 0 0 0 0 0 0 0 0 0 0 0 0 0 0 0]\n",
            " [0 0 0 0 0 0 0 0 0 0 0 0 0 0 0 0 0 0 0 0 0 0 0 0 0 0]\n",
            " [0 0 0 0 0 0 0 0 0 0 0 0 0 0 0 0 0 0 0 0 0 0 0 0 0 0]\n",
            " [0 0 0 0 0 0 0 0 0 0 0 0 0 0 0 0 0 0 0 0 0 0 0 0 0 0]\n",
            " [0 0 0 0 0 0 0 0 0 0 0 0 0 0 0 0 0 0 0 0 0 0 0 0 0 0]\n",
            " [0 0 0 0 0 0 0 0 0 0 0 0 0 0 0 0 0 0 0 0 0 0 0 0 0 0]\n",
            " [0 0 0 0 0 0 0 0 0 0 0 0 0 0 0 0 0 0 0 0 0 0 0 0 0 0]\n",
            " [0 0 0 0 0 0 0 0 0 0 0 0 0 0 0 0 0 0 0 0 0 0 0 0 0 0]\n",
            " [0 0 0 0 0 0 0 0 0 0 0 0 0 0 0 0 0 0 0 0 0 0 0 0 0 0]\n",
            " [0 0 0 0 0 0 0 0 0 0 0 0 0 0 0 0 0 0 0 0 0 0 0 0 0 0]]\n"
          ]
        }
      ]
    },
    {
      "cell_type": "code",
      "source": [
        "# visualize the confusion matrix\n",
        "ConfusionMatrixDisplay(confusion_matrix = conMat,\n",
        "                       display_labels = list(genTest.class_indices.keys())).plot()\n",
        "plt.title('Confusion Matrix for CNN Model')"
      ],
      "metadata": {
        "colab": {
          "base_uri": "https://localhost:8080/",
          "height": 487
        },
        "id": "-SXlfeb_02Vv",
        "outputId": "226f1da2-cbfd-4ff3-cc36-da7a9729cb28"
      },
      "execution_count": 78,
      "outputs": [
        {
          "output_type": "execute_result",
          "data": {
            "text/plain": [
              "Text(0.5, 1.0, 'Confusion Matrix for CNN Model')"
            ]
          },
          "metadata": {},
          "execution_count": 78
        },
        {
          "output_type": "display_data",
          "data": {
            "text/plain": [
              "<Figure size 640x480 with 2 Axes>"
            ],
            "image/png": "[encoded data removed]"
          },
          "metadata": {}
        }
      ]
    },
    {
      "cell_type": "code",
      "source": [
        "label_mapping = {\n",
        "    'A': 0, 'B': 1, 'C': 2, 'D': 3, 'E': 4,\n",
        "    'F': 5, 'G': 6, 'H': 7, 'I': 8, 'J': 9,\n",
        "    'K': 10, 'L': 11, 'M': 12, 'N': 13, 'O': 14,\n",
        "    'P': 15, 'Q': 16, 'R': 17, 'S': 18, 'T': 19,\n",
        "    'U': 20, 'V': 21, 'W': 22, 'X': 23, 'Y': 24, 'Z': 25\n",
        "}"
      ],
      "metadata": {
        "id": "0S1HrOI79a23"
      },
      "execution_count": 79,
      "outputs": []
    },
    {
      "cell_type": "code",
      "source": [
        "mnv2_results = classification_report(y_pred, y_test,zero_division=1)"
      ],
      "metadata": {
        "id": "PjL5D92o8xJP"
      },
      "execution_count": 81,
      "outputs": []
    },
    {
      "cell_type": "code",
      "source": [
        "mnv2_results"
      ],
      "metadata": {
        "colab": {
          "base_uri": "https://localhost:8080/"
        },
        "id": "JnjMXaBafXad",
        "outputId": "ee121f84-19f8-4ac7-ec93-cc28fb090e0b"
      },
      "execution_count": 82,
      "outputs": [
        {
          "output_type": "execute_result",
          "data": {
            "text/plain": [
              "'              precision    recall  f1-score   support\\n\\n           0       0.00      1.00      0.00         0\\n           1       0.00      0.00      0.00        15\\n           2       0.00      1.00      0.00         0\\n           3       0.00      1.00      0.00         0\\n           4       0.00      0.00      0.00         3\\n           5       0.00      1.00      0.00         0\\n           6       1.00      0.50      0.67         8\\n           7       0.00      0.00      0.00         4\\n           8       0.00      1.00      0.00         0\\n           9       0.50      0.15      0.24        13\\n          10       0.00      1.00      0.00         0\\n          11       0.00      1.00      0.00         0\\n          12       1.00      0.07      0.12        61\\n          13       0.00      1.00      0.00         0\\n          14       0.00      1.00      0.00         0\\n          15       0.00      1.00      0.00         0\\n          16       0.00      1.00      0.00         0\\n          17       0.00      1.00      0.00         0\\n          18       0.00      1.00      0.00         0\\n          19       0.00      1.00      0.00         0\\n          20       0.00      1.00      0.00         0\\n          21       0.00      1.00      0.00         0\\n          22       0.00      1.00      0.00         0\\n          23       0.00      1.00      0.00         0\\n          24       0.00      1.00      0.00         0\\n          25       0.00      1.00      0.00         0\\n\\n    accuracy                           0.10       104\\n   macro avg       0.10      0.80      0.04       104\\nweighted avg       0.73      0.10      0.15       104\\n'"
            ]
          },
          "metadata": {},
          "execution_count": 82
        }
      ]
    },
    {
      "cell_type": "markdown",
      "source": [
        "# CNN"
      ],
      "metadata": {
        "id": "DbCMtXab9J4C"
      }
    },
    {
      "cell_type": "markdown",
      "source": [
        "##Building and training"
      ],
      "metadata": {
        "id": "j1WGgx5oGWph"
      }
    },
    {
      "cell_type": "code",
      "source": [
        "def create_cnn_model(input_shape=(IMAGE_SIZE, IMAGE_SIZE, 3), output_shape=OUTPUT_SHAPE):\n",
        "    print(\"Building CNN model.\")\n",
        "\n",
        "    # Setup the model layers\n",
        "    model = tf.keras.Sequential([\n",
        "        tf.keras.layers.Conv2D(filters=32, kernel_size=(3, 3), activation='relu', input_shape=input_shape),\n",
        "        tf.keras.layers.MaxPooling2D(pool_size=(2, 2)),\n",
        "        tf.keras.layers.Conv2D(filters=64, kernel_size=(3, 3), activation='relu'),\n",
        "        tf.keras.layers.MaxPooling2D(pool_size=(2, 2)),\n",
        "        tf.keras.layers.Conv2D(filters=128, kernel_size=(3, 3), activation='relu'),\n",
        "        tf.keras.layers.MaxPooling2D(pool_size=(2, 2)),\n",
        "        tf.keras.layers.Flatten(),\n",
        "        tf.keras.layers.Dense(units=256, activation='relu'),\n",
        "        tf.keras.layers.Dense(units=output_shape, activation='softmax')\n",
        "    ])\n",
        "\n",
        "    model.compile(\n",
        "        loss=tf.keras.losses.BinaryCrossentropy,\n",
        "        optimizer=tf.keras.optimizers.Adam(),\n",
        "        metrics=[\"accuracy\"]\n",
        "    )\n",
        "\n",
        "    return model\n",
        "\n",
        "# Create the CNN model\n",
        "cnn_model = create_cnn_model(input_shape=(IMAGE_SIZE, IMAGE_SIZE, 3), output_shape=OUTPUT_SHAPE)\n",
        "\n"
      ],
      "metadata": {
        "colab": {
          "base_uri": "https://localhost:8080/"
        },
        "id": "2XKh-QQ8-cFH",
        "outputId": "9822ca88-afab-4984-a83d-fe9c78789a72"
      },
      "execution_count": 24,
      "outputs": [
        {
          "output_type": "stream",
          "name": "stdout",
          "text": [
            "Building CNN model.\n"
          ]
        }
      ]
    },
    {
      "cell_type": "markdown",
      "source": [
        "Training Model"
      ],
      "metadata": {
        "id": "GUjZvrZSGiCB"
      }
    },
    {
      "cell_type": "code",
      "source": [
        "TF_ENABLE_ONEDNN_OPTS=1"
      ],
      "metadata": {
        "colab": {
          "base_uri": "https://localhost:8080/"
        },
        "id": "AXWpz0tuIw8Z",
        "outputId": "25287b5b-f857-4f75-dc01-c93f34d236a5"
      },
      "execution_count": 21,
      "outputs": [
        {
          "output_type": "stream",
          "name": "stderr",
          "text": [
            "'TF_ENABLE_ONEDNN_OPTS' is not recognized as an internal or external command,\n",
            "operable program or batch file.\n"
          ]
        }
      ]
    },
    {
      "cell_type": "code",
      "source": [
        "# Rest of your code\n",
        "np.random.seed(42)\n",
        "wandb.init(\n",
        "        project=\"handsignlanguage\",\n",
        "         config={\n",
        "            \"loss\": \"categorical_crossentropy\",\n",
        "            \"metric\": \"accuracy\",\n",
        "            \"epoch\": 6,\n",
        "            \"batch_size\": 32,\n",
        "        },\n",
        ")\n",
        "config = wandb.config\n",
        "wandb_callbacks = [\n",
        "        WandbMetricsLogger(),\n",
        "        WandbModelCheckpoint(filepath=\"my_model_{epoch:02d}\"),\n",
        "    ]\n",
        "cnn_model.compile(\n",
        "    loss=config.loss,\n",
        "    optimizer=tf.optimizers.Adam(learning_rate=0.0015),\n",
        "    metrics=[config.metric]\n",
        ")\n",
        "#Create early stopping callbacks\n",
        "early_stopping = tf.keras.callbacks.EarlyStopping(monitor=\"accuracy\",\n",
        "                                                  patience=3)\n",
        "startTime = time.time()\n",
        "cnn_model.fit(\n",
        "    genTrain,\n",
        "    batch_size=config.batch_size,\n",
        "    steps_per_epoch=32,\n",
        "    epochs=30,\n",
        "    validation_data=genVal,\n",
        "    validation_steps=2,\n",
        "    verbose=2,\n",
        "    callbacks=[wandb_callbacks, early_stopping])\n",
        "finishTime = time.time()\n",
        "\n",
        "# Calculate the time in minutes\n",
        "print(f'\\nThis model took {round((finishTime - startTime)/60, 2)} minutes to finish.')\n"
      ],
      "metadata": {
        "colab": {
          "base_uri": "https://localhost:8080/",
          "height": 1000,
          "referenced_widgets": [
            "34dbc689cf2e4fff874511a455971ebd",
            "f7066188faa244569c653427796d3b10",
            "c96765739a9c4700afaff6491cdbab92",
            "7e57b70636274da3a90d2cc6a7b329bb",
            "19ec5b25f96846edbc32279adc8f88c5",
            "03c9b07cedac44eabb15eb1bbc373f95",
            "8091c21cf6e2421684a56acb1c7666d6",
            "3a6fa784cf0b4045943b5628f2ae9ce5"
          ]
        },
        "id": "1zUj90ysFD6N",
        "outputId": "ff48263c-1b6c-40ce-cb6b-c5d2161d97bd"
      },
      "execution_count": 25,
      "outputs": [
        {
          "output_type": "display_data",
          "data": {
            "text/plain": [
              "<IPython.core.display.HTML object>"
            ],
            "text/html": [
              "Finishing last run (ID:uixultph) before initializing another..."
            ]
          },
          "metadata": {}
        },
        {
          "output_type": "display_data",
          "data": {
            "text/plain": [
              "<IPython.core.display.HTML object>"
            ],
            "text/html": [
              "Waiting for W&B process to finish... <strong style=\"color:green\">(success).</strong>"
            ]
          },
          "metadata": {}
        },
        {
          "output_type": "display_data",
          "data": {
            "text/plain": [
              "<IPython.core.display.HTML object>"
            ],
            "text/html": [
              "<style>\n",
              "    table.wandb td:nth-child(1) { padding: 0 10px; text-align: left ; width: auto;} td:nth-child(2) {text-align: left ; width: 100%}\n",
              "    .wandb-row { display: flex; flex-direction: row; flex-wrap: wrap; justify-content: flex-start; width: 100% }\n",
              "    .wandb-col { display: flex; flex-direction: column; flex-basis: 100%; flex: 1; padding: 10px; }\n",
              "    </style>\n",
              "<div class=\"wandb-row\"><div class=\"wandb-col\"><h3>Run history:</h3><br/><table class=\"wandb\"><tr><td>epoch/accuracy</td><td>▁</td></tr><tr><td>epoch/epoch</td><td>▁</td></tr><tr><td>epoch/learning_rate</td><td>▁</td></tr><tr><td>epoch/loss</td><td>▁</td></tr><tr><td>epoch/val_accuracy</td><td>▁</td></tr><tr><td>epoch/val_loss</td><td>▁</td></tr></table><br/></div><div class=\"wandb-col\"><h3>Run summary:</h3><br/><table class=\"wandb\"><tr><td>epoch/accuracy</td><td>0.04395</td></tr><tr><td>epoch/epoch</td><td>0</td></tr><tr><td>epoch/learning_rate</td><td>0.0015</td></tr><tr><td>epoch/loss</td><td>3.25748</td></tr><tr><td>epoch/val_accuracy</td><td>0.0</td></tr><tr><td>epoch/val_loss</td><td>3.2706</td></tr></table><br/></div></div>"
            ]
          },
          "metadata": {}
        },
        {
          "output_type": "display_data",
          "data": {
            "text/plain": [
              "<IPython.core.display.HTML object>"
            ],
            "text/html": [
              " View run <strong style=\"color:#cdcd00\">helpful-wave-9</strong> at: <a href='https://wandb.ai/thesocialnexus/handsignlanguage/runs/uixultph' target=\"_blank\">https://wandb.ai/thesocialnexus/handsignlanguage/runs/uixultph</a><br/>Synced 5 W&B file(s), 0 media file(s), 5 artifact file(s) and 0 other file(s)"
            ]
          },
          "metadata": {}
        },
        {
          "output_type": "display_data",
          "data": {
            "text/plain": [
              "<IPython.core.display.HTML object>"
            ],
            "text/html": [
              "Find logs at: <code>.\\wandb\\run-20230810_160612-uixultph\\logs</code>"
            ]
          },
          "metadata": {}
        },
        {
          "output_type": "display_data",
          "data": {
            "text/plain": [
              "<IPython.core.display.HTML object>"
            ],
            "text/html": [
              "Successfully finished last run (ID:uixultph). Initializing new run:<br/>"
            ]
          },
          "metadata": {}
        },
        {
          "output_type": "display_data",
          "data": {
            "text/plain": [
              "VBox(children=(Label(value='Waiting for wandb.init()...\\r'), FloatProgress(value=0.016916666666899498, max=1.0…"
            ],
            "application/vnd.jupyter.widget-view+json": {
              "version_major": 2,
              "version_minor": 0,
              "model_id": "34dbc689cf2e4fff874511a455971ebd"
            }
          },
          "metadata": {}
        },
        {
          "output_type": "display_data",
          "data": {
            "text/plain": [
              "<IPython.core.display.HTML object>"
            ],
            "text/html": [
              "Tracking run with wandb version 0.15.8"
            ]
          },
          "metadata": {}
        },
        {
          "output_type": "display_data",
          "data": {
            "text/plain": [
              "<IPython.core.display.HTML object>"
            ],
            "text/html": [
              "Run data is saved locally in <code>C:\\Users\\humus\\wandb\\run-20230810_161156-8o49l40o</code>"
            ]
          },
          "metadata": {}
        },
        {
          "output_type": "display_data",
          "data": {
            "text/plain": [
              "<IPython.core.display.HTML object>"
            ],
            "text/html": [
              "Syncing run <strong><a href='https://wandb.ai/thesocialnexus/handsignlanguage/runs/8o49l40o' target=\"_blank\">classic-sun-10</a></strong> to <a href='https://wandb.ai/thesocialnexus/handsignlanguage' target=\"_blank\">Weights & Biases</a> (<a href='https://wandb.me/run' target=\"_blank\">docs</a>)<br/>"
            ]
          },
          "metadata": {}
        },
        {
          "output_type": "display_data",
          "data": {
            "text/plain": [
              "<IPython.core.display.HTML object>"
            ],
            "text/html": [
              " View project at <a href='https://wandb.ai/thesocialnexus/handsignlanguage' target=\"_blank\">https://wandb.ai/thesocialnexus/handsignlanguage</a>"
            ]
          },
          "metadata": {}
        },
        {
          "output_type": "display_data",
          "data": {
            "text/plain": [
              "<IPython.core.display.HTML object>"
            ],
            "text/html": [
              " View run at <a href='https://wandb.ai/thesocialnexus/handsignlanguage/runs/8o49l40o' target=\"_blank\">https://wandb.ai/thesocialnexus/handsignlanguage/runs/8o49l40o</a>"
            ]
          },
          "metadata": {}
        },
        {
          "output_type": "stream",
          "name": "stdout",
          "text": [
            "Epoch 1/30\n",
            "INFO:tensorflow:Assets written to: my_model_01\\assets\n"
          ]
        },
        {
          "output_type": "stream",
          "name": "stderr",
          "text": [
            "INFO:tensorflow:Assets written to: my_model_01\\assets\n",
            "\u001b[34m\u001b[1mwandb\u001b[0m: Adding directory to artifact (.\\my_model_01)... Done. 0.7s\n"
          ]
        },
        {
          "output_type": "stream",
          "name": "stdout",
          "text": [
            "32/32 - 48s - loss: 3.6619 - accuracy: 0.0410 - val_loss: 3.2345 - val_accuracy: 0.1094 - 48s/epoch - 1s/step\n",
            "Epoch 2/30\n",
            "INFO:tensorflow:Assets written to: my_model_02\\assets\n"
          ]
        },
        {
          "output_type": "stream",
          "name": "stderr",
          "text": [
            "INFO:tensorflow:Assets written to: my_model_02\\assets\n",
            "\u001b[34m\u001b[1mwandb\u001b[0m: Adding directory to artifact (.\\my_model_02)... Done. 0.7s\n"
          ]
        },
        {
          "output_type": "stream",
          "name": "stdout",
          "text": [
            "32/32 - 46s - loss: 3.0594 - accuracy: 0.1143 - val_loss: 3.2001 - val_accuracy: 0.0469 - 46s/epoch - 1s/step\n",
            "Epoch 3/30\n",
            "INFO:tensorflow:Assets written to: my_model_03\\assets\n"
          ]
        },
        {
          "output_type": "stream",
          "name": "stderr",
          "text": [
            "INFO:tensorflow:Assets written to: my_model_03\\assets\n",
            "\u001b[34m\u001b[1mwandb\u001b[0m: Adding directory to artifact (.\\my_model_03)... Done. 0.8s\n"
          ]
        },
        {
          "output_type": "stream",
          "name": "stdout",
          "text": [
            "32/32 - 45s - loss: 2.8729 - accuracy: 0.1621 - val_loss: 2.6698 - val_accuracy: 0.2031 - 45s/epoch - 1s/step\n",
            "Epoch 4/30\n",
            "INFO:tensorflow:Assets written to: my_model_04\\assets\n"
          ]
        },
        {
          "output_type": "stream",
          "name": "stderr",
          "text": [
            "INFO:tensorflow:Assets written to: my_model_04\\assets\n",
            "\u001b[34m\u001b[1mwandb\u001b[0m: Adding directory to artifact (.\\my_model_04)... Done. 0.8s\n"
          ]
        },
        {
          "output_type": "stream",
          "name": "stdout",
          "text": [
            "32/32 - 45s - loss: 2.6411 - accuracy: 0.2285 - val_loss: 2.5823 - val_accuracy: 0.2344 - 45s/epoch - 1s/step\n",
            "Epoch 5/30\n",
            "INFO:tensorflow:Assets written to: my_model_05\\assets\n"
          ]
        },
        {
          "output_type": "stream",
          "name": "stderr",
          "text": [
            "INFO:tensorflow:Assets written to: my_model_05\\assets\n",
            "\u001b[34m\u001b[1mwandb\u001b[0m: Adding directory to artifact (.\\my_model_05)... Done. 0.8s\n"
          ]
        },
        {
          "output_type": "stream",
          "name": "stdout",
          "text": [
            "32/32 - 43s - loss: 2.4445 - accuracy: 0.2979 - val_loss: 2.3473 - val_accuracy: 0.2969 - 43s/epoch - 1s/step\n",
            "Epoch 6/30\n",
            "INFO:tensorflow:Assets written to: my_model_06\\assets\n"
          ]
        },
        {
          "output_type": "stream",
          "name": "stderr",
          "text": [
            "INFO:tensorflow:Assets written to: my_model_06\\assets\n",
            "\u001b[34m\u001b[1mwandb\u001b[0m: Adding directory to artifact (.\\my_model_06)... Done. 0.8s\n"
          ]
        },
        {
          "output_type": "stream",
          "name": "stdout",
          "text": [
            "32/32 - 45s - loss: 2.3012 - accuracy: 0.3008 - val_loss: 2.0769 - val_accuracy: 0.3438 - 45s/epoch - 1s/step\n",
            "Epoch 7/30\n",
            "INFO:tensorflow:Assets written to: my_model_07\\assets\n"
          ]
        },
        {
          "output_type": "stream",
          "name": "stderr",
          "text": [
            "INFO:tensorflow:Assets written to: my_model_07\\assets\n",
            "\u001b[34m\u001b[1mwandb\u001b[0m: Adding directory to artifact (.\\my_model_07)... Done. 0.7s\n"
          ]
        },
        {
          "output_type": "stream",
          "name": "stdout",
          "text": [
            "32/32 - 45s - loss: 1.9676 - accuracy: 0.3779 - val_loss: 1.7320 - val_accuracy: 0.4844 - 45s/epoch - 1s/step\n",
            "Epoch 8/30\n",
            "INFO:tensorflow:Assets written to: my_model_08\\assets\n"
          ]
        },
        {
          "output_type": "stream",
          "name": "stderr",
          "text": [
            "INFO:tensorflow:Assets written to: my_model_08\\assets\n",
            "\u001b[34m\u001b[1mwandb\u001b[0m: Adding directory to artifact (.\\my_model_08)... Done. 0.8s\n"
          ]
        },
        {
          "output_type": "stream",
          "name": "stdout",
          "text": [
            "32/32 - 46s - loss: 1.9221 - accuracy: 0.3975 - val_loss: 1.4662 - val_accuracy: 0.5312 - 46s/epoch - 1s/step\n",
            "Epoch 9/30\n",
            "INFO:tensorflow:Assets written to: my_model_09\\assets\n"
          ]
        },
        {
          "output_type": "stream",
          "name": "stderr",
          "text": [
            "INFO:tensorflow:Assets written to: my_model_09\\assets\n",
            "\u001b[34m\u001b[1mwandb\u001b[0m: Adding directory to artifact (.\\my_model_09)... Done. 0.8s\n"
          ]
        },
        {
          "output_type": "stream",
          "name": "stdout",
          "text": [
            "32/32 - 46s - loss: 1.7425 - accuracy: 0.4463 - val_loss: 1.2680 - val_accuracy: 0.5625 - 46s/epoch - 1s/step\n",
            "Epoch 10/30\n",
            "INFO:tensorflow:Assets written to: my_model_10\\assets\n"
          ]
        },
        {
          "output_type": "stream",
          "name": "stderr",
          "text": [
            "INFO:tensorflow:Assets written to: my_model_10\\assets\n",
            "\u001b[34m\u001b[1mwandb\u001b[0m: Adding directory to artifact (.\\my_model_10)... Done. 0.8s\n"
          ]
        },
        {
          "output_type": "stream",
          "name": "stdout",
          "text": [
            "32/32 - 45s - loss: 1.6195 - accuracy: 0.4873 - val_loss: 1.2464 - val_accuracy: 0.5781 - 45s/epoch - 1s/step\n",
            "Epoch 11/30\n",
            "INFO:tensorflow:Assets written to: my_model_11\\assets\n"
          ]
        },
        {
          "output_type": "stream",
          "name": "stderr",
          "text": [
            "INFO:tensorflow:Assets written to: my_model_11\\assets\n",
            "\u001b[34m\u001b[1mwandb\u001b[0m: Adding directory to artifact (.\\my_model_11)... Done. 0.8s\n"
          ]
        },
        {
          "output_type": "stream",
          "name": "stdout",
          "text": [
            "32/32 - 40s - loss: 1.5005 - accuracy: 0.5215 - val_loss: 1.0434 - val_accuracy: 0.6094 - 40s/epoch - 1s/step\n",
            "Epoch 12/30\n",
            "INFO:tensorflow:Assets written to: my_model_12\\assets\n"
          ]
        },
        {
          "output_type": "stream",
          "name": "stderr",
          "text": [
            "INFO:tensorflow:Assets written to: my_model_12\\assets\n",
            "\u001b[34m\u001b[1mwandb\u001b[0m: Adding directory to artifact (.\\my_model_12)... Done. 0.9s\n"
          ]
        },
        {
          "output_type": "stream",
          "name": "stdout",
          "text": [
            "32/32 - 45s - loss: 1.3371 - accuracy: 0.5693 - val_loss: 1.1414 - val_accuracy: 0.5938 - 45s/epoch - 1s/step\n",
            "Epoch 13/30\n",
            "INFO:tensorflow:Assets written to: my_model_13\\assets\n"
          ]
        },
        {
          "output_type": "stream",
          "name": "stderr",
          "text": [
            "INFO:tensorflow:Assets written to: my_model_13\\assets\n",
            "\u001b[34m\u001b[1mwandb\u001b[0m: Adding directory to artifact (.\\my_model_13)... Done. 0.8s\n"
          ]
        },
        {
          "output_type": "stream",
          "name": "stdout",
          "text": [
            "32/32 - 46s - loss: 1.2656 - accuracy: 0.5898 - val_loss: 0.8353 - val_accuracy: 0.7812 - 46s/epoch - 1s/step\n",
            "Epoch 14/30\n",
            "INFO:tensorflow:Assets written to: my_model_14\\assets\n"
          ]
        },
        {
          "output_type": "stream",
          "name": "stderr",
          "text": [
            "INFO:tensorflow:Assets written to: my_model_14\\assets\n",
            "\u001b[34m\u001b[1mwandb\u001b[0m: Adding directory to artifact (.\\my_model_14)... Done. 0.8s\n"
          ]
        },
        {
          "output_type": "stream",
          "name": "stdout",
          "text": [
            "32/32 - 45s - loss: 1.1989 - accuracy: 0.6141 - val_loss: 0.9306 - val_accuracy: 0.7031 - 45s/epoch - 1s/step\n",
            "Epoch 15/30\n",
            "INFO:tensorflow:Assets written to: my_model_15\\assets\n"
          ]
        },
        {
          "output_type": "stream",
          "name": "stderr",
          "text": [
            "INFO:tensorflow:Assets written to: my_model_15\\assets\n",
            "\u001b[34m\u001b[1mwandb\u001b[0m: Adding directory to artifact (.\\my_model_15)... Done. 1.0s\n"
          ]
        },
        {
          "output_type": "stream",
          "name": "stdout",
          "text": [
            "32/32 - 48s - loss: 1.1430 - accuracy: 0.6318 - val_loss: 0.7611 - val_accuracy: 0.6875 - 48s/epoch - 2s/step\n",
            "Epoch 16/30\n",
            "INFO:tensorflow:Assets written to: my_model_16\\assets\n"
          ]
        },
        {
          "output_type": "stream",
          "name": "stderr",
          "text": [
            "INFO:tensorflow:Assets written to: my_model_16\\assets\n",
            "\u001b[34m\u001b[1mwandb\u001b[0m: Adding directory to artifact (.\\my_model_16)... Done. 1.1s\n"
          ]
        },
        {
          "output_type": "stream",
          "name": "stdout",
          "text": [
            "32/32 - 46s - loss: 1.0619 - accuracy: 0.6562 - val_loss: 0.9094 - val_accuracy: 0.7031 - 46s/epoch - 1s/step\n",
            "Epoch 17/30\n",
            "INFO:tensorflow:Assets written to: my_model_17\\assets\n"
          ]
        },
        {
          "output_type": "stream",
          "name": "stderr",
          "text": [
            "INFO:tensorflow:Assets written to: my_model_17\\assets\n",
            "\u001b[34m\u001b[1mwandb\u001b[0m: Adding directory to artifact (.\\my_model_17)... Done. 0.8s\n"
          ]
        },
        {
          "output_type": "stream",
          "name": "stdout",
          "text": [
            "32/32 - 44s - loss: 0.9732 - accuracy: 0.6953 - val_loss: 0.6090 - val_accuracy: 0.7812 - 44s/epoch - 1s/step\n",
            "Epoch 18/30\n",
            "INFO:tensorflow:Assets written to: my_model_18\\assets\n"
          ]
        },
        {
          "output_type": "stream",
          "name": "stderr",
          "text": [
            "INFO:tensorflow:Assets written to: my_model_18\\assets\n",
            "\u001b[34m\u001b[1mwandb\u001b[0m: Adding directory to artifact (.\\my_model_18)... Done. 0.8s\n"
          ]
        },
        {
          "output_type": "stream",
          "name": "stdout",
          "text": [
            "32/32 - 42s - loss: 0.9163 - accuracy: 0.6973 - val_loss: 0.6841 - val_accuracy: 0.7969 - 42s/epoch - 1s/step\n",
            "Epoch 19/30\n",
            "INFO:tensorflow:Assets written to: my_model_19\\assets\n"
          ]
        },
        {
          "output_type": "stream",
          "name": "stderr",
          "text": [
            "INFO:tensorflow:Assets written to: my_model_19\\assets\n",
            "\u001b[34m\u001b[1mwandb\u001b[0m: Adding directory to artifact (.\\my_model_19)... Done. 1.1s\n"
          ]
        },
        {
          "output_type": "stream",
          "name": "stdout",
          "text": [
            "32/32 - 45s - loss: 0.9140 - accuracy: 0.6914 - val_loss: 0.9084 - val_accuracy: 0.7031 - 45s/epoch - 1s/step\n",
            "Epoch 20/30\n",
            "INFO:tensorflow:Assets written to: my_model_20\\assets\n"
          ]
        },
        {
          "output_type": "stream",
          "name": "stderr",
          "text": [
            "INFO:tensorflow:Assets written to: my_model_20\\assets\n",
            "\u001b[34m\u001b[1mwandb\u001b[0m: Adding directory to artifact (.\\my_model_20)... Done. 0.8s\n"
          ]
        },
        {
          "output_type": "stream",
          "name": "stdout",
          "text": [
            "32/32 - 46s - loss: 0.8941 - accuracy: 0.7021 - val_loss: 0.5880 - val_accuracy: 0.8281 - 46s/epoch - 1s/step\n",
            "Epoch 21/30\n",
            "INFO:tensorflow:Assets written to: my_model_21\\assets\n"
          ]
        },
        {
          "output_type": "stream",
          "name": "stderr",
          "text": [
            "INFO:tensorflow:Assets written to: my_model_21\\assets\n",
            "\u001b[34m\u001b[1mwandb\u001b[0m: Adding directory to artifact (.\\my_model_21)... Done. 0.8s\n"
          ]
        },
        {
          "output_type": "stream",
          "name": "stdout",
          "text": [
            "32/32 - 46s - loss: 0.9203 - accuracy: 0.6895 - val_loss: 0.5502 - val_accuracy: 0.7969 - 46s/epoch - 1s/step\n",
            "Epoch 22/30\n",
            "INFO:tensorflow:Assets written to: my_model_22\\assets\n"
          ]
        },
        {
          "output_type": "stream",
          "name": "stderr",
          "text": [
            "INFO:tensorflow:Assets written to: my_model_22\\assets\n",
            "\u001b[34m\u001b[1mwandb\u001b[0m: Adding directory to artifact (.\\my_model_22)... Done. 0.9s\n"
          ]
        },
        {
          "output_type": "stream",
          "name": "stdout",
          "text": [
            "32/32 - 45s - loss: 0.7603 - accuracy: 0.7363 - val_loss: 0.6845 - val_accuracy: 0.7656 - 45s/epoch - 1s/step\n",
            "Epoch 23/30\n",
            "INFO:tensorflow:Assets written to: my_model_23\\assets\n"
          ]
        },
        {
          "output_type": "stream",
          "name": "stderr",
          "text": [
            "INFO:tensorflow:Assets written to: my_model_23\\assets\n",
            "\u001b[34m\u001b[1mwandb\u001b[0m: Adding directory to artifact (.\\my_model_23)... Done. 0.9s\n"
          ]
        },
        {
          "output_type": "stream",
          "name": "stdout",
          "text": [
            "32/32 - 46s - loss: 0.7496 - accuracy: 0.7520 - val_loss: 0.5665 - val_accuracy: 0.8125 - 46s/epoch - 1s/step\n",
            "Epoch 24/30\n",
            "INFO:tensorflow:Assets written to: my_model_24\\assets\n"
          ]
        },
        {
          "output_type": "stream",
          "name": "stderr",
          "text": [
            "INFO:tensorflow:Assets written to: my_model_24\\assets\n",
            "\u001b[34m\u001b[1mwandb\u001b[0m: Adding directory to artifact (.\\my_model_24)... Done. 0.9s\n"
          ]
        },
        {
          "output_type": "stream",
          "name": "stdout",
          "text": [
            "32/32 - 41s - loss: 0.7116 - accuracy: 0.7686 - val_loss: 0.4227 - val_accuracy: 0.8750 - 41s/epoch - 1s/step\n",
            "Epoch 25/30\n",
            "INFO:tensorflow:Assets written to: my_model_25\\assets\n"
          ]
        },
        {
          "output_type": "stream",
          "name": "stderr",
          "text": [
            "INFO:tensorflow:Assets written to: my_model_25\\assets\n",
            "\u001b[34m\u001b[1mwandb\u001b[0m: Adding directory to artifact (.\\my_model_25)... Done. 0.8s\n"
          ]
        },
        {
          "output_type": "stream",
          "name": "stdout",
          "text": [
            "32/32 - 41s - loss: 0.7795 - accuracy: 0.7227 - val_loss: 0.4295 - val_accuracy: 0.8594 - 41s/epoch - 1s/step\n",
            "Epoch 26/30\n",
            "INFO:tensorflow:Assets written to: my_model_26\\assets\n"
          ]
        },
        {
          "output_type": "stream",
          "name": "stderr",
          "text": [
            "INFO:tensorflow:Assets written to: my_model_26\\assets\n",
            "\u001b[34m\u001b[1mwandb\u001b[0m: Adding directory to artifact (.\\my_model_26)... Done. 0.8s\n"
          ]
        },
        {
          "output_type": "stream",
          "name": "stdout",
          "text": [
            "32/32 - 43s - loss: 0.7130 - accuracy: 0.7656 - val_loss: 0.4032 - val_accuracy: 0.8438 - 43s/epoch - 1s/step\n",
            "Epoch 27/30\n",
            "INFO:tensorflow:Assets written to: my_model_27\\assets\n"
          ]
        },
        {
          "output_type": "stream",
          "name": "stderr",
          "text": [
            "INFO:tensorflow:Assets written to: my_model_27\\assets\n",
            "\u001b[34m\u001b[1mwandb\u001b[0m: Adding directory to artifact (.\\my_model_27)... Done. 0.7s\n"
          ]
        },
        {
          "output_type": "stream",
          "name": "stdout",
          "text": [
            "32/32 - 46s - loss: 0.6962 - accuracy: 0.7686 - val_loss: 0.4795 - val_accuracy: 0.8281 - 46s/epoch - 1s/step\n",
            "\n",
            "This model took 20.21 minutes to finish.\n"
          ]
        }
      ]
    },
    {
      "cell_type": "code",
      "source": [
        "# Define the directory where you want to save the model\n",
        "model_save_path = modelpath+\"cnn_model.h5\"\n",
        "\n",
        "# Save the model in the specified directory\n",
        "cnn_model.save(model_save_path)\n",
        "\n",
        "# Print a message to indicate that the model has been saved\n",
        "print(\"Trained model path has been saved.\")"
      ],
      "metadata": {
        "colab": {
          "base_uri": "https://localhost:8080/"
        },
        "id": "hHvMzwNDSUIy",
        "outputId": "c8bb6fa3-68d1-4633-9d54-4adf909b6b43"
      },
      "execution_count": 27,
      "outputs": [
        {
          "output_type": "stream",
          "name": "stderr",
          "text": [
            "C:\\Users\\humus\\ML_Projects\\env\\Lib\\site-packages\\keras\\src\\engine\\training.py:3000: UserWarning: You are saving your model as an HDF5 file via `model.save()`. This file format is considered legacy. We recommend using instead the native Keras format, e.g. `model.save('my_model.keras')`.\n",
            "  saving_api.save_model(\n"
          ]
        },
        {
          "output_type": "stream",
          "name": "stdout",
          "text": [
            "Trained model path has been saved.\n"
          ]
        }
      ]
    },
    {
      "cell_type": "markdown",
      "source": [
        "##Model Evaluation"
      ],
      "metadata": {
        "id": "Nqhx3s2DSlH2"
      }
    },
    {
      "cell_type": "code",
      "source": [
        "# do the prediction\n",
        "y_pred = []\n",
        "for i in genTest.class_indices:\n",
        "    # take the path of data test\n",
        "    labelTest = dirTest+'/'+i+'/'\n",
        "    for j in os.listdir(labelTest):\n",
        "        # save the label\n",
        "        x_pred = labelTest + j\n",
        "\n",
        "        # load image into matrix\n",
        "        img = image.load_img(x_pred, target_size = (200, 200))\n",
        "        x = image.img_to_array(img)\n",
        "        x = np.expand_dims(x, axis = 0)\n",
        "        matxImg = np.vstack([x])\n",
        "\n",
        "        # so what is the label?\n",
        "        predict = cnn_model.predict(matxImg, batch_size = 32)\n",
        "        predict = np.argmax(predict, axis = 1)\n",
        "        y_pred.append(predict[0])"
      ],
      "metadata": {
        "colab": {
          "base_uri": "https://localhost:8080/"
        },
        "id": "zx03qGq8Sv20",
        "outputId": "f7330f1e-7d27-4d5d-c60e-30f8ba22d536"
      },
      "execution_count": 83,
      "outputs": [
        {
          "output_type": "stream",
          "name": "stdout",
          "text": [
            "1/1 [==============================] - 0s 410ms/step\n",
            "1/1 [==============================] - 0s 48ms/step\n",
            "1/1 [==============================] - 0s 53ms/step\n",
            "1/1 [==============================] - 0s 59ms/step\n",
            "1/1 [==============================] - 0s 68ms/step\n",
            "1/1 [==============================] - 0s 80ms/step\n",
            "1/1 [==============================] - 0s 50ms/step\n",
            "1/1 [==============================] - 0s 59ms/step\n",
            "1/1 [==============================] - 0s 63ms/step\n",
            "1/1 [==============================] - 0s 76ms/step\n",
            "1/1 [==============================] - 0s 71ms/step\n",
            "1/1 [==============================] - 0s 67ms/step\n",
            "1/1 [==============================] - 0s 60ms/step\n",
            "1/1 [==============================] - 0s 53ms/step\n",
            "1/1 [==============================] - 0s 67ms/step\n",
            "1/1 [==============================] - 0s 53ms/step\n",
            "1/1 [==============================] - 0s 61ms/step\n",
            "1/1 [==============================] - 0s 71ms/step\n",
            "1/1 [==============================] - 0s 65ms/step\n",
            "1/1 [==============================] - 0s 56ms/step\n",
            "1/1 [==============================] - 0s 75ms/step\n",
            "1/1 [==============================] - 0s 56ms/step\n",
            "1/1 [==============================] - 0s 55ms/step\n",
            "1/1 [==============================] - 0s 58ms/step\n",
            "1/1 [==============================] - 0s 61ms/step\n",
            "1/1 [==============================] - 0s 58ms/step\n",
            "1/1 [==============================] - 0s 65ms/step\n",
            "1/1 [==============================] - 0s 79ms/step\n",
            "1/1 [==============================] - 0s 60ms/step\n",
            "1/1 [==============================] - 0s 61ms/step\n",
            "1/1 [==============================] - 0s 60ms/step\n",
            "1/1 [==============================] - 0s 56ms/step\n",
            "1/1 [==============================] - 0s 56ms/step\n",
            "1/1 [==============================] - 0s 57ms/step\n",
            "1/1 [==============================] - 0s 66ms/step\n",
            "1/1 [==============================] - 0s 78ms/step\n",
            "1/1 [==============================] - 0s 74ms/step\n",
            "1/1 [==============================] - 0s 52ms/step\n",
            "1/1 [==============================] - 0s 53ms/step\n",
            "1/1 [==============================] - 0s 63ms/step\n",
            "1/1 [==============================] - 0s 51ms/step\n",
            "1/1 [==============================] - 0s 54ms/step\n",
            "1/1 [==============================] - 0s 56ms/step\n",
            "1/1 [==============================] - 0s 74ms/step\n",
            "1/1 [==============================] - 0s 65ms/step\n",
            "1/1 [==============================] - 0s 72ms/step\n",
            "1/1 [==============================] - 0s 59ms/step\n",
            "1/1 [==============================] - 0s 56ms/step\n",
            "1/1 [==============================] - 0s 48ms/step\n",
            "1/1 [==============================] - 0s 58ms/step\n",
            "1/1 [==============================] - 0s 63ms/step\n",
            "1/1 [==============================] - 0s 57ms/step\n",
            "1/1 [==============================] - 0s 58ms/step\n",
            "1/1 [==============================] - 0s 63ms/step\n",
            "1/1 [==============================] - 0s 56ms/step\n",
            "1/1 [==============================] - 0s 51ms/step\n",
            "1/1 [==============================] - 0s 48ms/step\n",
            "1/1 [==============================] - 0s 50ms/step\n",
            "1/1 [==============================] - 0s 59ms/step\n",
            "1/1 [==============================] - 0s 51ms/step\n",
            "1/1 [==============================] - 0s 52ms/step\n",
            "1/1 [==============================] - 0s 63ms/step\n",
            "1/1 [==============================] - 0s 58ms/step\n",
            "1/1 [==============================] - 0s 59ms/step\n",
            "1/1 [==============================] - 0s 72ms/step\n",
            "1/1 [==============================] - 0s 50ms/step\n",
            "1/1 [==============================] - 0s 53ms/step\n",
            "1/1 [==============================] - 0s 52ms/step\n",
            "1/1 [==============================] - 0s 52ms/step\n",
            "1/1 [==============================] - 0s 51ms/step\n",
            "1/1 [==============================] - 0s 55ms/step\n",
            "1/1 [==============================] - 0s 52ms/step\n",
            "1/1 [==============================] - 0s 60ms/step\n",
            "1/1 [==============================] - 0s 52ms/step\n",
            "1/1 [==============================] - 0s 49ms/step\n",
            "1/1 [==============================] - 0s 52ms/step\n",
            "1/1 [==============================] - 0s 56ms/step\n",
            "1/1 [==============================] - 0s 54ms/step\n",
            "1/1 [==============================] - 0s 61ms/step\n",
            "1/1 [==============================] - 0s 63ms/step\n",
            "1/1 [==============================] - 0s 64ms/step\n",
            "1/1 [==============================] - 0s 51ms/step\n",
            "1/1 [==============================] - 0s 53ms/step\n",
            "1/1 [==============================] - 0s 60ms/step\n",
            "1/1 [==============================] - 0s 52ms/step\n",
            "1/1 [==============================] - 0s 67ms/step\n",
            "1/1 [==============================] - 0s 63ms/step\n",
            "1/1 [==============================] - 0s 55ms/step\n",
            "1/1 [==============================] - 0s 65ms/step\n",
            "1/1 [==============================] - 0s 69ms/step\n",
            "1/1 [==============================] - 0s 78ms/step\n",
            "1/1 [==============================] - 0s 58ms/step\n",
            "1/1 [==============================] - 0s 64ms/step\n",
            "1/1 [==============================] - 0s 55ms/step\n",
            "1/1 [==============================] - 0s 71ms/step\n",
            "1/1 [==============================] - 0s 55ms/step\n",
            "1/1 [==============================] - 0s 65ms/step\n",
            "1/1 [==============================] - 0s 64ms/step\n",
            "1/1 [==============================] - 0s 50ms/step\n",
            "1/1 [==============================] - 0s 56ms/step\n",
            "1/1 [==============================] - 0s 62ms/step\n",
            "1/1 [==============================] - 0s 51ms/step\n",
            "1/1 [==============================] - 0s 60ms/step\n",
            "1/1 [==============================] - 0s 59ms/step\n"
          ]
        }
      ]
    },
    {
      "cell_type": "code",
      "source": [
        "# calculate the accuracy of the prediction\n",
        "acc_result = round(accuracy_score(y_pred, y_test), 2)\n",
        "print('Accuracy: ', acc_result)"
      ],
      "metadata": {
        "colab": {
          "base_uri": "https://localhost:8080/"
        },
        "id": "q1vrPwYfd_FO",
        "outputId": "439789fe-3fcb-48e6-a4ca-2cb9f6d7a23d"
      },
      "execution_count": 84,
      "outputs": [
        {
          "output_type": "stream",
          "name": "stdout",
          "text": [
            "Accuracy:  0.92\n"
          ]
        }
      ]
    },
    {
      "cell_type": "code",
      "source": [
        "# show the confusion matrix\n",
        "conMat = confusion_matrix(y_pred, y_test,\n",
        "                          labels = list(genTest.class_indices.values()))\n",
        "print(conMat)"
      ],
      "metadata": {
        "colab": {
          "base_uri": "https://localhost:8080/"
        },
        "id": "1vAqfSX_eIvi",
        "outputId": "b8c445bf-decf-4855-bea6-201adc775963"
      },
      "execution_count": 85,
      "outputs": [
        {
          "output_type": "stream",
          "name": "stdout",
          "text": [
            "[[4 0 0 0 0 0 0 0 0 0 0 0 0 0 0 0 0 0 0 0 0 0 0 0 0 0]\n",
            " [0 4 0 0 0 0 0 0 0 0 0 0 0 0 0 0 0 0 0 0 0 0 0 0 0 0]\n",
            " [0 0 4 0 0 0 0 0 0 0 0 0 0 0 0 0 0 0 0 0 0 0 0 0 0 0]\n",
            " [0 0 0 4 0 0 0 0 0 0 0 0 0 0 0 0 0 0 0 0 0 0 0 0 0 0]\n",
            " [0 0 0 0 4 0 0 0 0 0 0 0 0 0 0 0 0 0 0 0 0 0 0 0 0 0]\n",
            " [0 0 0 0 0 4 0 0 0 0 0 0 0 0 0 0 0 0 0 0 0 0 0 0 0 0]\n",
            " [0 0 0 0 0 0 4 0 0 0 0 0 0 0 0 0 0 0 0 0 0 0 0 0 0 0]\n",
            " [0 0 0 0 0 0 0 4 0 0 0 0 0 0 0 0 0 0 0 0 0 0 0 0 0 0]\n",
            " [0 0 0 0 0 0 0 0 4 0 0 0 0 0 0 0 0 0 0 0 0 0 0 0 0 0]\n",
            " [0 0 0 0 0 0 0 0 0 4 0 0 0 0 0 0 0 0 0 0 0 0 0 0 0 0]\n",
            " [0 0 0 0 0 0 0 0 0 0 4 0 0 0 0 0 0 0 0 0 0 0 0 0 0 0]\n",
            " [0 0 0 0 0 0 0 0 0 0 0 4 0 0 0 0 0 0 0 0 0 0 0 0 0 0]\n",
            " [0 0 0 0 0 0 0 0 0 0 0 0 4 0 0 0 0 0 0 0 0 0 0 0 0 0]\n",
            " [0 0 0 0 0 0 0 0 0 0 0 0 0 4 0 0 0 0 0 0 0 0 0 0 0 0]\n",
            " [0 0 0 0 0 0 0 0 0 0 0 0 0 0 4 0 0 0 0 0 0 0 0 0 0 0]\n",
            " [0 0 0 0 0 0 0 0 0 0 0 0 0 0 0 4 0 0 0 0 0 0 0 0 0 0]\n",
            " [0 0 0 0 0 0 0 0 0 0 0 0 0 0 0 0 4 0 0 0 0 0 0 0 0 0]\n",
            " [0 0 0 0 0 0 0 0 0 0 0 0 0 0 0 0 0 4 0 0 0 0 0 0 0 0]\n",
            " [0 0 0 0 0 0 0 0 0 0 0 0 0 0 0 0 0 0 4 0 0 0 0 4 0 0]\n",
            " [0 0 0 0 0 0 0 0 0 0 0 0 0 0 0 0 0 0 0 4 0 0 0 0 0 0]\n",
            " [0 0 0 0 0 0 0 0 0 0 0 0 0 0 0 0 0 0 0 0 4 0 0 0 0 0]\n",
            " [0 0 0 0 0 0 0 0 0 0 0 0 0 0 0 0 0 0 0 0 0 0 0 0 0 0]\n",
            " [0 0 0 0 0 0 0 0 0 0 0 0 0 0 0 0 0 0 0 0 0 4 4 0 0 0]\n",
            " [0 0 0 0 0 0 0 0 0 0 0 0 0 0 0 0 0 0 0 0 0 0 0 0 0 0]\n",
            " [0 0 0 0 0 0 0 0 0 0 0 0 0 0 0 0 0 0 0 0 0 0 0 0 4 0]\n",
            " [0 0 0 0 0 0 0 0 0 0 0 0 0 0 0 0 0 0 0 0 0 0 0 0 0 4]]\n"
          ]
        }
      ]
    },
    {
      "cell_type": "code",
      "source": [
        "# visualize the confusion matrix\n",
        "ConfusionMatrixDisplay(confusion_matrix = conMat,\n",
        "                       display_labels = list(genTest.class_indices.keys())).plot()\n",
        "plt.title('Confusion Matrix for CNN Model')"
      ],
      "metadata": {
        "colab": {
          "base_uri": "https://localhost:8080/",
          "height": 487
        },
        "id": "S3W6ll-GeNVG",
        "outputId": "c2b84c7b-a100-4b27-d027-53a63e86fa6e"
      },
      "execution_count": 86,
      "outputs": [
        {
          "output_type": "execute_result",
          "data": {
            "text/plain": [
              "Text(0.5, 1.0, 'Confusion Matrix for CNN Model')"
            ]
          },
          "metadata": {},
          "execution_count": 86
        },
        {
          "output_type": "display_data",
          "data": {
            "text/plain": [
              "<Figure size 640x480 with 2 Axes>"
            ],
            "image/png": "[encoded data removed]"
          },
          "metadata": {}
        }
      ]
    },
    {
      "cell_type": "code",
      "source": [
        "cnn_results = classification_report(y_pred, y_test,zero_division=1)\n",
        "cnn_results"
      ],
      "metadata": {
        "colab": {
          "base_uri": "https://localhost:8080/"
        },
        "id": "O6RAaQ7KeNPT",
        "outputId": "ae567d39-7512-4aa7-999d-2a883f52bac8"
      },
      "execution_count": 87,
      "outputs": [
        {
          "output_type": "execute_result",
          "data": {
            "text/plain": [
              "'              precision    recall  f1-score   support\\n\\n           0       1.00      1.00      1.00         4\\n           1       1.00      1.00      1.00         4\\n           2       1.00      1.00      1.00         4\\n           3       1.00      1.00      1.00         4\\n           4       1.00      1.00      1.00         4\\n           5       1.00      1.00      1.00         4\\n           6       1.00      1.00      1.00         4\\n           7       1.00      1.00      1.00         4\\n           8       1.00      1.00      1.00         4\\n           9       1.00      1.00      1.00         4\\n          10       1.00      1.00      1.00         4\\n          11       1.00      1.00      1.00         4\\n          12       1.00      1.00      1.00         4\\n          13       1.00      1.00      1.00         4\\n          14       1.00      1.00      1.00         4\\n          15       1.00      1.00      1.00         4\\n          16       1.00      1.00      1.00         4\\n          17       1.00      1.00      1.00         4\\n          18       1.00      0.50      0.67         8\\n          19       1.00      1.00      1.00         4\\n          20       1.00      1.00      1.00         4\\n          21       0.00      1.00      0.00         0\\n          22       1.00      0.50      0.67         8\\n          23       0.00      1.00      0.00         0\\n          24       1.00      1.00      1.00         4\\n          25       1.00      1.00      1.00         4\\n\\n    accuracy                           0.92       104\\n   macro avg       0.92      0.96      0.90       104\\nweighted avg       1.00      0.92      0.95       104\\n'"
            ]
          },
          "metadata": {},
          "execution_count": 87
        }
      ]
    },
    {
      "cell_type": "markdown",
      "source": [
        "#Xception inspired"
      ],
      "metadata": {
        "id": "IMhyP9ZI4b3g"
      }
    },
    {
      "cell_type": "markdown",
      "source": [
        "##Building and training"
      ],
      "metadata": {
        "id": "j-oe715S-rUe"
      }
    },
    {
      "cell_type": "code",
      "source": [
        "from tensorflow.keras.layers import Input, Conv2D, SeparableConv2D, BatchNormalization, MaxPooling2D, GlobalAveragePooling2D, Dense, Dropout\n",
        "from tensorflow.keras.models import Model\n",
        "from tensorflow.keras.optimizers import Adam\n",
        "\n",
        "def xception_like_model(input_shape, num_classes):\n",
        "    inputs = Input(shape=input_shape)\n",
        "\n",
        "    # Entry Flow\n",
        "    x = Conv2D(32, (3, 3), strides=(2, 2), padding='same', activation='relu')(inputs)\n",
        "    x = BatchNormalization()(x)\n",
        "    x = Conv2D(64, (3, 3), padding='same', activation='relu')(x)\n",
        "    x = BatchNormalization()(x)\n",
        "\n",
        "    # Middle Flow\n",
        "    for _ in range(8):  # You can adjust the number of middle flow blocks\n",
        "        residual = x\n",
        "        x = SeparableConv2D(128, (3, 3), padding='same', activation='relu')(x)\n",
        "        x = BatchNormalization()(x)\n",
        "        x = SeparableConv2D(128, (3, 3), padding='same', activation='relu')(x)\n",
        "        x = BatchNormalization()(x)\n",
        "        x = SeparableConv2D(128, (3, 3), padding='same', activation='relu')(x)\n",
        "        x = BatchNormalization()(x)\n",
        "        x = MaxPooling2D((3, 3), strides=(2, 2), padding='same')(x)\n",
        "        residual = Conv2D(128, (1, 1), strides=(2, 2), padding='same')(residual)\n",
        "        x = tf.keras.layers.add([x, residual])\n",
        "\n",
        "    # Exit Flow\n",
        "    residual = Conv2D(256, (1, 1), strides=(2, 2), padding='same')(x)\n",
        "    x = SeparableConv2D(256, (3, 3), padding='same', activation='relu')(x)\n",
        "    x = BatchNormalization()(x)\n",
        "    x = SeparableConv2D(256, (3, 3), padding='same', activation='relu')(x)\n",
        "    x = BatchNormalization()(x)\n",
        "    x = MaxPooling2D((3, 3), strides=(2, 2), padding='same')(x)\n",
        "    x = tf.keras.layers.add([x, residual])\n",
        "    x = SeparableConv2D(728, (3, 3), padding='same', activation='relu')(x)\n",
        "    x = BatchNormalization()(x)\n",
        "    x = SeparableConv2D(728, (3, 3), padding='same', activation='relu')(x)\n",
        "    x = BatchNormalization()(x)\n",
        "    x = MaxPooling2D((3, 3), strides=(2, 2), padding='same')(x)\n",
        "\n",
        "    # Final layers\n",
        "    x = GlobalAveragePooling2D()(x)\n",
        "    x = Dense(512, activation='relu')(x)\n",
        "    x = Dropout(0.5)(x)\n",
        "    outputs = Dense(num_classes, activation='softmax')(x)\n",
        "\n",
        "    model = Model(inputs, outputs)\n",
        "    return model\n",
        "\n",
        "# Define input shape and number of classes\n",
        "input_shape = (200, 200, 3)  # Adjust according to your data\n",
        "num_classes = 26  # Adjust based on the number of classes in your classification task\n",
        "\n",
        "# Create the model\n",
        "model = xception_like_model(input_shape, num_classes)\n",
        "\n",
        "# Compile the model\n",
        "model.compile(optimizer=Adam(lr=0.001), loss='categorical_crossentropy', metrics=['accuracy'])\n",
        "\n",
        "# Display model summary\n",
        "model.summary()"
      ],
      "metadata": {
        "colab": {
          "base_uri": "https://localhost:8080/"
        },
        "id": "sscQ0UUgIGDW",
        "outputId": "171bf26e-2948-44be-a818-e12b1d2190cd"
      },
      "execution_count": 40,
      "outputs": [
        {
          "output_type": "stream",
          "name": "stderr",
          "text": [
            "WARNING:absl:`lr` is deprecated in Keras optimizer, please use `learning_rate` or use the legacy optimizer, e.g.,tf.keras.optimizers.legacy.Adam.\n"
          ]
        },
        {
          "output_type": "stream",
          "name": "stdout",
          "text": [
            "Model: \"model_1\"\n",
            "__________________________________________________________________________________________________\n",
            " Layer (type)                Output Shape                 Param #   Connected to                  \n",
            "==================================================================================================\n",
            " input_2 (InputLayer)        [(None, 200, 200, 3)]        0         []                            \n",
            "                                                                                                  \n",
            " conv2d_11 (Conv2D)          (None, 100, 100, 32)         896       ['input_2[0][0]']             \n",
            "                                                                                                  \n",
            " batch_normalization_30 (Ba  (None, 100, 100, 32)         128       ['conv2d_11[0][0]']           \n",
            " tchNormalization)                                                                                \n",
            "                                                                                                  \n",
            " conv2d_12 (Conv2D)          (None, 100, 100, 64)         18496     ['batch_normalization_30[0][0]\n",
            "                                                                    ']                            \n",
            "                                                                                                  \n",
            " batch_normalization_31 (Ba  (None, 100, 100, 64)         256       ['conv2d_12[0][0]']           \n",
            " tchNormalization)                                                                                \n",
            "                                                                                                  \n",
            " separable_conv2d_28 (Separ  (None, 100, 100, 128)        8896      ['batch_normalization_31[0][0]\n",
            " ableConv2D)                                                        ']                            \n",
            "                                                                                                  \n",
            " batch_normalization_32 (Ba  (None, 100, 100, 128)        512       ['separable_conv2d_28[0][0]'] \n",
            " tchNormalization)                                                                                \n",
            "                                                                                                  \n",
            " separable_conv2d_29 (Separ  (None, 100, 100, 128)        17664     ['batch_normalization_32[0][0]\n",
            " ableConv2D)                                                        ']                            \n",
            "                                                                                                  \n",
            " batch_normalization_33 (Ba  (None, 100, 100, 128)        512       ['separable_conv2d_29[0][0]'] \n",
            " tchNormalization)                                                                                \n",
            "                                                                                                  \n",
            " separable_conv2d_30 (Separ  (None, 100, 100, 128)        17664     ['batch_normalization_33[0][0]\n",
            " ableConv2D)                                                        ']                            \n",
            "                                                                                                  \n",
            " batch_normalization_34 (Ba  (None, 100, 100, 128)        512       ['separable_conv2d_30[0][0]'] \n",
            " tchNormalization)                                                                                \n",
            "                                                                                                  \n",
            " max_pooling2d_10 (MaxPooli  (None, 50, 50, 128)          0         ['batch_normalization_34[0][0]\n",
            " ng2D)                                                              ']                            \n",
            "                                                                                                  \n",
            " conv2d_13 (Conv2D)          (None, 50, 50, 128)          8320      ['batch_normalization_31[0][0]\n",
            "                                                                    ']                            \n",
            "                                                                                                  \n",
            " add_9 (Add)                 (None, 50, 50, 128)          0         ['max_pooling2d_10[0][0]',    \n",
            "                                                                     'conv2d_13[0][0]']           \n",
            "                                                                                                  \n",
            " separable_conv2d_31 (Separ  (None, 50, 50, 128)          17664     ['add_9[0][0]']               \n",
            " ableConv2D)                                                                                      \n",
            "                                                                                                  \n",
            " batch_normalization_35 (Ba  (None, 50, 50, 128)          512       ['separable_conv2d_31[0][0]'] \n",
            " tchNormalization)                                                                                \n",
            "                                                                                                  \n",
            " separable_conv2d_32 (Separ  (None, 50, 50, 128)          17664     ['batch_normalization_35[0][0]\n",
            " ableConv2D)                                                        ']                            \n",
            "                                                                                                  \n",
            " batch_normalization_36 (Ba  (None, 50, 50, 128)          512       ['separable_conv2d_32[0][0]'] \n",
            " tchNormalization)                                                                                \n",
            "                                                                                                  \n",
            " separable_conv2d_33 (Separ  (None, 50, 50, 128)          17664     ['batch_normalization_36[0][0]\n",
            " ableConv2D)                                                        ']                            \n",
            "                                                                                                  \n",
            " batch_normalization_37 (Ba  (None, 50, 50, 128)          512       ['separable_conv2d_33[0][0]'] \n",
            " tchNormalization)                                                                                \n",
            "                                                                                                  \n",
            " max_pooling2d_11 (MaxPooli  (None, 25, 25, 128)          0         ['batch_normalization_37[0][0]\n",
            " ng2D)                                                              ']                            \n",
            "                                                                                                  \n",
            " conv2d_14 (Conv2D)          (None, 25, 25, 128)          16512     ['add_9[0][0]']               \n",
            "                                                                                                  \n",
            " add_10 (Add)                (None, 25, 25, 128)          0         ['max_pooling2d_11[0][0]',    \n",
            "                                                                     'conv2d_14[0][0]']           \n",
            "                                                                                                  \n",
            " separable_conv2d_34 (Separ  (None, 25, 25, 128)          17664     ['add_10[0][0]']              \n",
            " ableConv2D)                                                                                      \n",
            "                                                                                                  \n",
            " batch_normalization_38 (Ba  (None, 25, 25, 128)          512       ['separable_conv2d_34[0][0]'] \n",
            " tchNormalization)                                                                                \n",
            "                                                                                                  \n",
            " separable_conv2d_35 (Separ  (None, 25, 25, 128)          17664     ['batch_normalization_38[0][0]\n",
            " ableConv2D)                                                        ']                            \n",
            "                                                                                                  \n",
            " batch_normalization_39 (Ba  (None, 25, 25, 128)          512       ['separable_conv2d_35[0][0]'] \n",
            " tchNormalization)                                                                                \n",
            "                                                                                                  \n",
            " separable_conv2d_36 (Separ  (None, 25, 25, 128)          17664     ['batch_normalization_39[0][0]\n",
            " ableConv2D)                                                        ']                            \n",
            "                                                                                                  \n",
            " batch_normalization_40 (Ba  (None, 25, 25, 128)          512       ['separable_conv2d_36[0][0]'] \n",
            " tchNormalization)                                                                                \n",
            "                                                                                                  \n",
            " max_pooling2d_12 (MaxPooli  (None, 13, 13, 128)          0         ['batch_normalization_40[0][0]\n",
            " ng2D)                                                              ']                            \n",
            "                                                                                                  \n",
            " conv2d_15 (Conv2D)          (None, 13, 13, 128)          16512     ['add_10[0][0]']              \n",
            "                                                                                                  \n",
            " add_11 (Add)                (None, 13, 13, 128)          0         ['max_pooling2d_12[0][0]',    \n",
            "                                                                     'conv2d_15[0][0]']           \n",
            "                                                                                                  \n",
            " separable_conv2d_37 (Separ  (None, 13, 13, 128)          17664     ['add_11[0][0]']              \n",
            " ableConv2D)                                                                                      \n",
            "                                                                                                  \n",
            " batch_normalization_41 (Ba  (None, 13, 13, 128)          512       ['separable_conv2d_37[0][0]'] \n",
            " tchNormalization)                                                                                \n",
            "                                                                                                  \n",
            " separable_conv2d_38 (Separ  (None, 13, 13, 128)          17664     ['batch_normalization_41[0][0]\n",
            " ableConv2D)                                                        ']                            \n",
            "                                                                                                  \n",
            " batch_normalization_42 (Ba  (None, 13, 13, 128)          512       ['separable_conv2d_38[0][0]'] \n",
            " tchNormalization)                                                                                \n",
            "                                                                                                  \n",
            " separable_conv2d_39 (Separ  (None, 13, 13, 128)          17664     ['batch_normalization_42[0][0]\n",
            " ableConv2D)                                                        ']                            \n",
            "                                                                                                  \n",
            " batch_normalization_43 (Ba  (None, 13, 13, 128)          512       ['separable_conv2d_39[0][0]'] \n",
            " tchNormalization)                                                                                \n",
            "                                                                                                  \n",
            " max_pooling2d_13 (MaxPooli  (None, 7, 7, 128)            0         ['batch_normalization_43[0][0]\n",
            " ng2D)                                                              ']                            \n",
            "                                                                                                  \n",
            " conv2d_16 (Conv2D)          (None, 7, 7, 128)            16512     ['add_11[0][0]']              \n",
            "                                                                                                  \n",
            " add_12 (Add)                (None, 7, 7, 128)            0         ['max_pooling2d_13[0][0]',    \n",
            "                                                                     'conv2d_16[0][0]']           \n",
            "                                                                                                  \n",
            " separable_conv2d_40 (Separ  (None, 7, 7, 128)            17664     ['add_12[0][0]']              \n",
            " ableConv2D)                                                                                      \n",
            "                                                                                                  \n",
            " batch_normalization_44 (Ba  (None, 7, 7, 128)            512       ['separable_conv2d_40[0][0]'] \n",
            " tchNormalization)                                                                                \n",
            "                                                                                                  \n",
            " separable_conv2d_41 (Separ  (None, 7, 7, 128)            17664     ['batch_normalization_44[0][0]\n",
            " ableConv2D)                                                        ']                            \n",
            "                                                                                                  \n",
            " batch_normalization_45 (Ba  (None, 7, 7, 128)            512       ['separable_conv2d_41[0][0]'] \n",
            " tchNormalization)                                                                                \n",
            "                                                                                                  \n",
            " separable_conv2d_42 (Separ  (None, 7, 7, 128)            17664     ['batch_normalization_45[0][0]\n",
            " ableConv2D)                                                        ']                            \n",
            "                                                                                                  \n",
            " batch_normalization_46 (Ba  (None, 7, 7, 128)            512       ['separable_conv2d_42[0][0]'] \n",
            " tchNormalization)                                                                                \n",
            "                                                                                                  \n",
            " max_pooling2d_14 (MaxPooli  (None, 4, 4, 128)            0         ['batch_normalization_46[0][0]\n",
            " ng2D)                                                              ']                            \n",
            "                                                                                                  \n",
            " conv2d_17 (Conv2D)          (None, 4, 4, 128)            16512     ['add_12[0][0]']              \n",
            "                                                                                                  \n",
            " add_13 (Add)                (None, 4, 4, 128)            0         ['max_pooling2d_14[0][0]',    \n",
            "                                                                     'conv2d_17[0][0]']           \n",
            "                                                                                                  \n",
            " separable_conv2d_43 (Separ  (None, 4, 4, 128)            17664     ['add_13[0][0]']              \n",
            " ableConv2D)                                                                                      \n",
            "                                                                                                  \n",
            " batch_normalization_47 (Ba  (None, 4, 4, 128)            512       ['separable_conv2d_43[0][0]'] \n",
            " tchNormalization)                                                                                \n",
            "                                                                                                  \n",
            " separable_conv2d_44 (Separ  (None, 4, 4, 128)            17664     ['batch_normalization_47[0][0]\n",
            " ableConv2D)                                                        ']                            \n",
            "                                                                                                  \n",
            " batch_normalization_48 (Ba  (None, 4, 4, 128)            512       ['separable_conv2d_44[0][0]'] \n",
            " tchNormalization)                                                                                \n",
            "                                                                                                  \n",
            " separable_conv2d_45 (Separ  (None, 4, 4, 128)            17664     ['batch_normalization_48[0][0]\n",
            " ableConv2D)                                                        ']                            \n",
            "                                                                                                  \n",
            " batch_normalization_49 (Ba  (None, 4, 4, 128)            512       ['separable_conv2d_45[0][0]'] \n",
            " tchNormalization)                                                                                \n",
            "                                                                                                  \n",
            " max_pooling2d_15 (MaxPooli  (None, 2, 2, 128)            0         ['batch_normalization_49[0][0]\n",
            " ng2D)                                                              ']                            \n",
            "                                                                                                  \n",
            " conv2d_18 (Conv2D)          (None, 2, 2, 128)            16512     ['add_13[0][0]']              \n",
            "                                                                                                  \n",
            " add_14 (Add)                (None, 2, 2, 128)            0         ['max_pooling2d_15[0][0]',    \n",
            "                                                                     'conv2d_18[0][0]']           \n",
            "                                                                                                  \n",
            " separable_conv2d_46 (Separ  (None, 2, 2, 128)            17664     ['add_14[0][0]']              \n",
            " ableConv2D)                                                                                      \n",
            "                                                                                                  \n",
            " batch_normalization_50 (Ba  (None, 2, 2, 128)            512       ['separable_conv2d_46[0][0]'] \n",
            " tchNormalization)                                                                                \n",
            "                                                                                                  \n",
            " separable_conv2d_47 (Separ  (None, 2, 2, 128)            17664     ['batch_normalization_50[0][0]\n",
            " ableConv2D)                                                        ']                            \n",
            "                                                                                                  \n",
            " batch_normalization_51 (Ba  (None, 2, 2, 128)            512       ['separable_conv2d_47[0][0]'] \n",
            " tchNormalization)                                                                                \n",
            "                                                                                                  \n",
            " separable_conv2d_48 (Separ  (None, 2, 2, 128)            17664     ['batch_normalization_51[0][0]\n",
            " ableConv2D)                                                        ']                            \n",
            "                                                                                                  \n",
            " batch_normalization_52 (Ba  (None, 2, 2, 128)            512       ['separable_conv2d_48[0][0]'] \n",
            " tchNormalization)                                                                                \n",
            "                                                                                                  \n",
            " max_pooling2d_16 (MaxPooli  (None, 1, 1, 128)            0         ['batch_normalization_52[0][0]\n",
            " ng2D)                                                              ']                            \n",
            "                                                                                                  \n",
            " conv2d_19 (Conv2D)          (None, 1, 1, 128)            16512     ['add_14[0][0]']              \n",
            "                                                                                                  \n",
            " add_15 (Add)                (None, 1, 1, 128)            0         ['max_pooling2d_16[0][0]',    \n",
            "                                                                     'conv2d_19[0][0]']           \n",
            "                                                                                                  \n",
            " separable_conv2d_49 (Separ  (None, 1, 1, 128)            17664     ['add_15[0][0]']              \n",
            " ableConv2D)                                                                                      \n",
            "                                                                                                  \n",
            " batch_normalization_53 (Ba  (None, 1, 1, 128)            512       ['separable_conv2d_49[0][0]'] \n",
            " tchNormalization)                                                                                \n",
            "                                                                                                  \n",
            " separable_conv2d_50 (Separ  (None, 1, 1, 128)            17664     ['batch_normalization_53[0][0]\n",
            " ableConv2D)                                                        ']                            \n",
            "                                                                                                  \n",
            " batch_normalization_54 (Ba  (None, 1, 1, 128)            512       ['separable_conv2d_50[0][0]'] \n",
            " tchNormalization)                                                                                \n",
            "                                                                                                  \n",
            " separable_conv2d_51 (Separ  (None, 1, 1, 128)            17664     ['batch_normalization_54[0][0]\n",
            " ableConv2D)                                                        ']                            \n",
            "                                                                                                  \n",
            " batch_normalization_55 (Ba  (None, 1, 1, 128)            512       ['separable_conv2d_51[0][0]'] \n",
            " tchNormalization)                                                                                \n",
            "                                                                                                  \n",
            " max_pooling2d_17 (MaxPooli  (None, 1, 1, 128)            0         ['batch_normalization_55[0][0]\n",
            " ng2D)                                                              ']                            \n",
            "                                                                                                  \n",
            " conv2d_20 (Conv2D)          (None, 1, 1, 128)            16512     ['add_15[0][0]']              \n",
            "                                                                                                  \n",
            " add_16 (Add)                (None, 1, 1, 128)            0         ['max_pooling2d_17[0][0]',    \n",
            "                                                                     'conv2d_20[0][0]']           \n",
            "                                                                                                  \n",
            " separable_conv2d_52 (Separ  (None, 1, 1, 256)            34176     ['add_16[0][0]']              \n",
            " ableConv2D)                                                                                      \n",
            "                                                                                                  \n",
            " batch_normalization_56 (Ba  (None, 1, 1, 256)            1024      ['separable_conv2d_52[0][0]'] \n",
            " tchNormalization)                                                                                \n",
            "                                                                                                  \n",
            " separable_conv2d_53 (Separ  (None, 1, 1, 256)            68096     ['batch_normalization_56[0][0]\n",
            " ableConv2D)                                                        ']                            \n",
            "                                                                                                  \n",
            " batch_normalization_57 (Ba  (None, 1, 1, 256)            1024      ['separable_conv2d_53[0][0]'] \n",
            " tchNormalization)                                                                                \n",
            "                                                                                                  \n",
            " max_pooling2d_18 (MaxPooli  (None, 1, 1, 256)            0         ['batch_normalization_57[0][0]\n",
            " ng2D)                                                              ']                            \n",
            "                                                                                                  \n",
            " conv2d_21 (Conv2D)          (None, 1, 1, 256)            33024     ['add_16[0][0]']              \n",
            "                                                                                                  \n",
            " add_17 (Add)                (None, 1, 1, 256)            0         ['max_pooling2d_18[0][0]',    \n",
            "                                                                     'conv2d_21[0][0]']           \n",
            "                                                                                                  \n",
            " separable_conv2d_54 (Separ  (None, 1, 1, 728)            189400    ['add_17[0][0]']              \n",
            " ableConv2D)                                                                                      \n",
            "                                                                                                  \n",
            " batch_normalization_58 (Ba  (None, 1, 1, 728)            2912      ['separable_conv2d_54[0][0]'] \n",
            " tchNormalization)                                                                                \n",
            "                                                                                                  \n",
            " separable_conv2d_55 (Separ  (None, 1, 1, 728)            537264    ['batch_normalization_58[0][0]\n",
            " ableConv2D)                                                        ']                            \n",
            "                                                                                                  \n",
            " batch_normalization_59 (Ba  (None, 1, 1, 728)            2912      ['separable_conv2d_55[0][0]'] \n",
            " tchNormalization)                                                                                \n",
            "                                                                                                  \n",
            " max_pooling2d_19 (MaxPooli  (None, 1, 1, 728)            0         ['batch_normalization_59[0][0]\n",
            " ng2D)                                                              ']                            \n",
            "                                                                                                  \n",
            " global_average_pooling2d_1  (None, 728)                  0         ['max_pooling2d_19[0][0]']    \n",
            "  (GlobalAveragePooling2D)                                                                        \n",
            "                                                                                                  \n",
            " dense_2 (Dense)             (None, 512)                  373248    ['global_average_pooling2d_1[0\n",
            "                                                                    ][0]']                        \n",
            "                                                                                                  \n",
            " dropout_1 (Dropout)         (None, 512)                  0         ['dense_2[0][0]']             \n",
            "                                                                                                  \n",
            " dense_3 (Dense)             (None, 26)                   13338     ['dropout_1[0][0]']           \n",
            "                                                                                                  \n",
            "==================================================================================================\n",
            "Total params: 1827554 (6.97 MB)\n",
            "Trainable params: 1817282 (6.93 MB)\n",
            "Non-trainable params: 10272 (40.12 KB)\n",
            "__________________________________________________________________________________________________\n"
          ]
        }
      ]
    },
    {
      "cell_type": "code",
      "source": [
        "np.random.seed(42)\n",
        "wandb.init(project=\"handsignlanguage\",\n",
        "         config={\n",
        "            \"loss\": \"categorical_crossentropy\",\n",
        "            \"metric\": \"accuracy\",\n",
        "            \"epoch\": 40,\n",
        "            \"batch_size\": 32,\n",
        "        },)\n",
        "config = wandb.config\n",
        "wandb_callbacks = [\n",
        "        WandbMetricsLogger(),\n",
        "        WandbModelCheckpoint(filepath=\"my_model_{epoch:02d}\"),\n",
        "    ]\n",
        "early_stopping = tf.keras.callbacks.EarlyStopping(monitor=\"accuracy\", patience=10)\n",
        "\n",
        "# Start training\n",
        "startTime = time.time()\n",
        "model.fit(\n",
        "    genTrain,\n",
        "    batch_size=32,\n",
        "    steps_per_epoch=32,\n",
        "    epochs=40,\n",
        "    validation_data=genVal,\n",
        "    validation_steps=2,\n",
        "    verbose=2,\n",
        "    callbacks=[wandb_callbacks,early_stopping])\n",
        "finishTime = time.time()\n",
        "\n",
        "# Calculate the time in minutes\n",
        "print(f'\\nThis model took {round((finishTime - startTime) / 60, 2)} minutes to finish.')"
      ],
      "metadata": {
        "colab": {
          "base_uri": "https://localhost:8080/",
          "height": 1000,
          "referenced_widgets": [
            "e544b7a44fc94a39bd1bfa03d76a8b74",
            "06fd3fcaa6c043fbbead6d04f64b7896",
            "48a690ee25644733bcdcf5a26f68220a",
            "16e48a59098b45b299d81ad87efe4079",
            "f3902160424145d293cb2faf7b71999a",
            "0e583904790f4720bdc7129b845acf44",
            "4a9344c1296d4dfbb869d4bafa74060d",
            "14c2edd11d964bd3b28716d20b266a06",
            "c0a917e0fb5f48b98a60d4dacaf00d79",
            "3a3988594c034ce6a88aaa4c9021d0bd",
            "9747a8ec45784c0fae961f527cf4035d",
            "383c0f41f628423b89b25912fc0505c8",
            "ca58c54e398b49d781fbfc0c56956f19",
            "d0c7205dc9c647faac3aa4257c9a3b63",
            "5cd6de22fa9f455a9cbf09d31276f4c0",
            "9546553692b245feacade9b1cb6b9513"
          ]
        },
        "id": "B4yhm-d1IMJj",
        "outputId": "0413e5ec-bf6a-4f08-8251-4e17d20a9bf9"
      },
      "execution_count": 41,
      "outputs": [
        {
          "output_type": "display_data",
          "data": {
            "text/plain": [
              "<IPython.core.display.HTML object>"
            ],
            "text/html": [
              "Finishing last run (ID:dbq8h4jz) before initializing another..."
            ]
          },
          "metadata": {}
        },
        {
          "output_type": "display_data",
          "data": {
            "text/plain": [
              "<IPython.core.display.HTML object>"
            ],
            "text/html": [
              "Waiting for W&B process to finish... <strong style=\"color:green\">(success).</strong>"
            ]
          },
          "metadata": {}
        },
        {
          "output_type": "display_data",
          "data": {
            "text/plain": [
              "VBox(children=(Label(value='952.335 MB of 952.335 MB uploaded (9.780 MB deduped)\\r'), FloatProgress(value=1.0,…"
            ],
            "application/vnd.jupyter.widget-view+json": {
              "version_major": 2,
              "version_minor": 0,
              "model_id": "e544b7a44fc94a39bd1bfa03d76a8b74"
            }
          },
          "metadata": {}
        },
        {
          "output_type": "display_data",
          "data": {
            "text/plain": [
              "<IPython.core.display.HTML object>"
            ],
            "text/html": [
              "<style>\n",
              "    table.wandb td:nth-child(1) { padding: 0 10px; text-align: left ; width: auto;} td:nth-child(2) {text-align: left ; width: 100%}\n",
              "    .wandb-row { display: flex; flex-direction: row; flex-wrap: wrap; justify-content: flex-start; width: 100% }\n",
              "    .wandb-col { display: flex; flex-direction: column; flex-basis: 100%; flex: 1; padding: 10px; }\n",
              "    </style>\n",
              "<div class=\"wandb-row\"><div class=\"wandb-col\"><h3>Run history:</h3><br/><table class=\"wandb\"><tr><td>epoch/accuracy</td><td>▁▁▂▃▃▄▄▅▅▅▆▆▆▆▆▆▇▇▇▇▇█▇█▇▇▇█████████████</td></tr><tr><td>epoch/epoch</td><td>▁▁▁▂▂▂▂▂▂▃▃▃▃▃▄▄▄▄▄▄▅▅▅▅▅▅▆▆▆▆▆▇▇▇▇▇▇███</td></tr><tr><td>epoch/learning_rate</td><td>▁▁▁▁▁▁▁▁▁▁▁▁▁▁▁▁▁▁▁▁▁▁▁▁▁▁▁▁▁▁▁▁▁▁▁▁▁▁▁▁</td></tr><tr><td>epoch/loss</td><td>█▇▆▅▅▄▄▄▃▃▃▃▂▂▂▂▂▂▂▂▂▁▂▁▂▂▁▁▁▁▁▁▁▁▁▁▁▁▁▁</td></tr><tr><td>epoch/val_accuracy</td><td>▁▁▁▁▁▁▁▁▁▁▁▁▁▁▁▁▁▂▃█▄▇▅▆▅▃▃▆▆▇▅█▇▇▆█▇█▂▅</td></tr><tr><td>epoch/val_loss</td><td>▄▄▄▄▄▄▄▄▄▄▄▄▄▄▄▆▆▅▃▁▃▁▂▂▃▄▇▂▂▁▃▁▂▁▃▁▁▁█▄</td></tr></table><br/></div><div class=\"wandb-col\"><h3>Run summary:</h3><br/><table class=\"wandb\"><tr><td>epoch/accuracy</td><td>0.90625</td></tr><tr><td>epoch/epoch</td><td>39</td></tr><tr><td>epoch/learning_rate</td><td>0.001</td></tr><tr><td>epoch/loss</td><td>0.27721</td></tr><tr><td>epoch/val_accuracy</td><td>0.48438</td></tr><tr><td>epoch/val_loss</td><td>3.21508</td></tr></table><br/></div></div>"
            ]
          },
          "metadata": {}
        },
        {
          "output_type": "display_data",
          "data": {
            "text/plain": [
              "<IPython.core.display.HTML object>"
            ],
            "text/html": [
              " View run <strong style=\"color:#cdcd00\">splendid-plasma-19</strong> at: <a href='https://wandb.ai/thesocialnexus/handsignlanguage/runs/dbq8h4jz' target=\"_blank\">https://wandb.ai/thesocialnexus/handsignlanguage/runs/dbq8h4jz</a><br/>Synced 5 W&B file(s), 0 media file(s), 200 artifact file(s) and 0 other file(s)"
            ]
          },
          "metadata": {}
        },
        {
          "output_type": "display_data",
          "data": {
            "text/plain": [
              "<IPython.core.display.HTML object>"
            ],
            "text/html": [
              "Find logs at: <code>.\\wandb\\run-20230811_025357-dbq8h4jz\\logs</code>"
            ]
          },
          "metadata": {}
        },
        {
          "output_type": "display_data",
          "data": {
            "text/plain": [
              "<IPython.core.display.HTML object>"
            ],
            "text/html": [
              "Successfully finished last run (ID:dbq8h4jz). Initializing new run:<br/>"
            ]
          },
          "metadata": {}
        },
        {
          "output_type": "display_data",
          "data": {
            "text/plain": [
              "VBox(children=(Label(value='Waiting for wandb.init()...\\r'), FloatProgress(value=0.016666666666666666, max=1.0…"
            ],
            "application/vnd.jupyter.widget-view+json": {
              "version_major": 2,
              "version_minor": 0,
              "model_id": "c0a917e0fb5f48b98a60d4dacaf00d79"
            }
          },
          "metadata": {}
        },
        {
          "output_type": "display_data",
          "data": {
            "text/plain": [
              "<IPython.core.display.HTML object>"
            ],
            "text/html": [
              "Tracking run with wandb version 0.15.8"
            ]
          },
          "metadata": {}
        },
        {
          "output_type": "display_data",
          "data": {
            "text/plain": [
              "<IPython.core.display.HTML object>"
            ],
            "text/html": [
              "Run data is saved locally in <code>C:\\Users\\humus\\wandb\\run-20230811_034744-qmhid1y5</code>"
            ]
          },
          "metadata": {}
        },
        {
          "output_type": "display_data",
          "data": {
            "text/plain": [
              "<IPython.core.display.HTML object>"
            ],
            "text/html": [
              "Syncing run <strong><a href='https://wandb.ai/thesocialnexus/handsignlanguage/runs/qmhid1y5' target=\"_blank\">silver-frog-20</a></strong> to <a href='https://wandb.ai/thesocialnexus/handsignlanguage' target=\"_blank\">Weights & Biases</a> (<a href='https://wandb.me/run' target=\"_blank\">docs</a>)<br/>"
            ]
          },
          "metadata": {}
        },
        {
          "output_type": "display_data",
          "data": {
            "text/plain": [
              "<IPython.core.display.HTML object>"
            ],
            "text/html": [
              " View project at <a href='https://wandb.ai/thesocialnexus/handsignlanguage' target=\"_blank\">https://wandb.ai/thesocialnexus/handsignlanguage</a>"
            ]
          },
          "metadata": {}
        },
        {
          "output_type": "display_data",
          "data": {
            "text/plain": [
              "<IPython.core.display.HTML object>"
            ],
            "text/html": [
              " View run at <a href='https://wandb.ai/thesocialnexus/handsignlanguage/runs/qmhid1y5' target=\"_blank\">https://wandb.ai/thesocialnexus/handsignlanguage/runs/qmhid1y5</a>"
            ]
          },
          "metadata": {}
        },
        {
          "output_type": "stream",
          "name": "stdout",
          "text": [
            "Epoch 1/40\n",
            "INFO:tensorflow:Assets written to: my_model_01\\assets\n"
          ]
        },
        {
          "output_type": "stream",
          "name": "stderr",
          "text": [
            "INFO:tensorflow:Assets written to: my_model_01\\assets\n",
            "\u001b[34m\u001b[1mwandb\u001b[0m: Adding directory to artifact (.\\my_model_01)... Done. 0.1s\n"
          ]
        },
        {
          "output_type": "stream",
          "name": "stdout",
          "text": [
            "32/32 - 106s - loss: 3.2848 - accuracy: 0.0537 - val_loss: 3.2580 - val_accuracy: 0.0469 - 106s/epoch - 3s/step\n",
            "Epoch 2/40\n",
            "INFO:tensorflow:Assets written to: my_model_02\\assets\n"
          ]
        },
        {
          "output_type": "stream",
          "name": "stderr",
          "text": [
            "INFO:tensorflow:Assets written to: my_model_02\\assets\n",
            "\u001b[34m\u001b[1mwandb\u001b[0m: Adding directory to artifact (.\\my_model_02)... Done. 0.1s\n"
          ]
        },
        {
          "output_type": "stream",
          "name": "stdout",
          "text": [
            "32/32 - 79s - loss: 3.0973 - accuracy: 0.1084 - val_loss: 3.2598 - val_accuracy: 0.0469 - 79s/epoch - 2s/step\n",
            "Epoch 3/40\n",
            "INFO:tensorflow:Assets written to: my_model_03\\assets\n"
          ]
        },
        {
          "output_type": "stream",
          "name": "stderr",
          "text": [
            "INFO:tensorflow:Assets written to: my_model_03\\assets\n",
            "\u001b[34m\u001b[1mwandb\u001b[0m: Adding directory to artifact (.\\my_model_03)... Done. 0.1s\n"
          ]
        },
        {
          "output_type": "stream",
          "name": "stdout",
          "text": [
            "32/32 - 82s - loss: 2.6830 - accuracy: 0.1689 - val_loss: 3.2628 - val_accuracy: 0.0312 - 82s/epoch - 3s/step\n",
            "Epoch 4/40\n",
            "INFO:tensorflow:Assets written to: my_model_04\\assets\n"
          ]
        },
        {
          "output_type": "stream",
          "name": "stderr",
          "text": [
            "INFO:tensorflow:Assets written to: my_model_04\\assets\n",
            "\u001b[34m\u001b[1mwandb\u001b[0m: Adding directory to artifact (.\\my_model_04)... Done. 0.1s\n"
          ]
        },
        {
          "output_type": "stream",
          "name": "stdout",
          "text": [
            "32/32 - 84s - loss: 2.2536 - accuracy: 0.2646 - val_loss: 3.2736 - val_accuracy: 0.0312 - 84s/epoch - 3s/step\n",
            "Epoch 5/40\n",
            "INFO:tensorflow:Assets written to: my_model_05\\assets\n"
          ]
        },
        {
          "output_type": "stream",
          "name": "stderr",
          "text": [
            "INFO:tensorflow:Assets written to: my_model_05\\assets\n",
            "\u001b[34m\u001b[1mwandb\u001b[0m: Adding directory to artifact (.\\my_model_05)... Done. 0.1s\n"
          ]
        },
        {
          "output_type": "stream",
          "name": "stdout",
          "text": [
            "32/32 - 85s - loss: 1.9953 - accuracy: 0.3213 - val_loss: 3.2700 - val_accuracy: 0.0469 - 85s/epoch - 3s/step\n",
            "Epoch 6/40\n",
            "INFO:tensorflow:Assets written to: my_model_06\\assets\n"
          ]
        },
        {
          "output_type": "stream",
          "name": "stderr",
          "text": [
            "INFO:tensorflow:Assets written to: my_model_06\\assets\n",
            "\u001b[34m\u001b[1mwandb\u001b[0m: Adding directory to artifact (.\\my_model_06)... Done. 0.1s\n"
          ]
        },
        {
          "output_type": "stream",
          "name": "stdout",
          "text": [
            "32/32 - 87s - loss: 1.6955 - accuracy: 0.4180 - val_loss: 3.2767 - val_accuracy: 0.0469 - 87s/epoch - 3s/step\n",
            "Epoch 7/40\n",
            "INFO:tensorflow:Assets written to: my_model_07\\assets\n"
          ]
        },
        {
          "output_type": "stream",
          "name": "stderr",
          "text": [
            "INFO:tensorflow:Assets written to: my_model_07\\assets\n",
            "\u001b[34m\u001b[1mwandb\u001b[0m: Adding directory to artifact (.\\my_model_07)... Done. 0.1s\n"
          ]
        },
        {
          "output_type": "stream",
          "name": "stdout",
          "text": [
            "32/32 - 79s - loss: 1.5109 - accuracy: 0.4600 - val_loss: 3.2618 - val_accuracy: 0.0000e+00 - 79s/epoch - 2s/step\n",
            "Epoch 8/40\n",
            "INFO:tensorflow:Assets written to: my_model_08\\assets\n"
          ]
        },
        {
          "output_type": "stream",
          "name": "stderr",
          "text": [
            "INFO:tensorflow:Assets written to: my_model_08\\assets\n",
            "\u001b[34m\u001b[1mwandb\u001b[0m: Adding directory to artifact (.\\my_model_08)... Done. 0.1s\n"
          ]
        },
        {
          "output_type": "stream",
          "name": "stdout",
          "text": [
            "32/32 - 79s - loss: 1.4411 - accuracy: 0.4844 - val_loss: 3.3413 - val_accuracy: 0.0156 - 79s/epoch - 2s/step\n",
            "Epoch 9/40\n",
            "INFO:tensorflow:Assets written to: my_model_09\\assets\n"
          ]
        },
        {
          "output_type": "stream",
          "name": "stderr",
          "text": [
            "INFO:tensorflow:Assets written to: my_model_09\\assets\n",
            "\u001b[34m\u001b[1mwandb\u001b[0m: Adding directory to artifact (.\\my_model_09)... Done. 0.1s\n"
          ]
        },
        {
          "output_type": "stream",
          "name": "stdout",
          "text": [
            "32/32 - 78s - loss: 1.1580 - accuracy: 0.5801 - val_loss: 3.2715 - val_accuracy: 0.0000e+00 - 78s/epoch - 2s/step\n",
            "Epoch 10/40\n",
            "INFO:tensorflow:Assets written to: my_model_10\\assets\n"
          ]
        },
        {
          "output_type": "stream",
          "name": "stderr",
          "text": [
            "INFO:tensorflow:Assets written to: my_model_10\\assets\n",
            "\u001b[34m\u001b[1mwandb\u001b[0m: Adding directory to artifact (.\\my_model_10)... Done. 0.2s\n"
          ]
        },
        {
          "output_type": "stream",
          "name": "stdout",
          "text": [
            "32/32 - 81s - loss: 1.1614 - accuracy: 0.6006 - val_loss: 3.2722 - val_accuracy: 0.0625 - 81s/epoch - 3s/step\n",
            "Epoch 11/40\n",
            "INFO:tensorflow:Assets written to: my_model_11\\assets\n"
          ]
        },
        {
          "output_type": "stream",
          "name": "stderr",
          "text": [
            "INFO:tensorflow:Assets written to: my_model_11\\assets\n",
            "\u001b[34m\u001b[1mwandb\u001b[0m: Adding directory to artifact (.\\my_model_11)... Done. 0.1s\n"
          ]
        },
        {
          "output_type": "stream",
          "name": "stdout",
          "text": [
            "32/32 - 84s - loss: 1.0322 - accuracy: 0.6436 - val_loss: 3.2777 - val_accuracy: 0.0938 - 84s/epoch - 3s/step\n",
            "Epoch 12/40\n",
            "INFO:tensorflow:Assets written to: my_model_12\\assets\n"
          ]
        },
        {
          "output_type": "stream",
          "name": "stderr",
          "text": [
            "INFO:tensorflow:Assets written to: my_model_12\\assets\n",
            "\u001b[34m\u001b[1mwandb\u001b[0m: Adding directory to artifact (.\\my_model_12)... Done. 0.1s\n"
          ]
        },
        {
          "output_type": "stream",
          "name": "stdout",
          "text": [
            "32/32 - 87s - loss: 1.0287 - accuracy: 0.6299 - val_loss: 3.3094 - val_accuracy: 0.1094 - 87s/epoch - 3s/step\n",
            "Epoch 13/40\n",
            "INFO:tensorflow:Assets written to: my_model_13\\assets\n"
          ]
        },
        {
          "output_type": "stream",
          "name": "stderr",
          "text": [
            "INFO:tensorflow:Assets written to: my_model_13\\assets\n",
            "\u001b[34m\u001b[1mwandb\u001b[0m: Adding directory to artifact (.\\my_model_13)... Done. 0.1s\n"
          ]
        },
        {
          "output_type": "stream",
          "name": "stdout",
          "text": [
            "32/32 - 87s - loss: 0.9067 - accuracy: 0.6807 - val_loss: 3.3088 - val_accuracy: 0.0312 - 87s/epoch - 3s/step\n",
            "Epoch 14/40\n",
            "INFO:tensorflow:Assets written to: my_model_14\\assets\n"
          ]
        },
        {
          "output_type": "stream",
          "name": "stderr",
          "text": [
            "INFO:tensorflow:Assets written to: my_model_14\\assets\n",
            "\u001b[34m\u001b[1mwandb\u001b[0m: Adding directory to artifact (.\\my_model_14)... Done. 0.1s\n"
          ]
        },
        {
          "output_type": "stream",
          "name": "stdout",
          "text": [
            "32/32 - 83s - loss: 0.9491 - accuracy: 0.6768 - val_loss: 3.2861 - val_accuracy: 0.0625 - 83s/epoch - 3s/step\n",
            "Epoch 15/40\n",
            "INFO:tensorflow:Assets written to: my_model_15\\assets\n"
          ]
        },
        {
          "output_type": "stream",
          "name": "stderr",
          "text": [
            "INFO:tensorflow:Assets written to: my_model_15\\assets\n",
            "\u001b[34m\u001b[1mwandb\u001b[0m: Adding directory to artifact (.\\my_model_15)... Done. 0.1s\n"
          ]
        },
        {
          "output_type": "stream",
          "name": "stdout",
          "text": [
            "32/32 - 90s - loss: 0.8404 - accuracy: 0.6924 - val_loss: 3.3831 - val_accuracy: 0.0156 - 90s/epoch - 3s/step\n",
            "Epoch 16/40\n",
            "INFO:tensorflow:Assets written to: my_model_16\\assets\n"
          ]
        },
        {
          "output_type": "stream",
          "name": "stderr",
          "text": [
            "INFO:tensorflow:Assets written to: my_model_16\\assets\n",
            "\u001b[34m\u001b[1mwandb\u001b[0m: Adding directory to artifact (.\\my_model_16)... Done. 0.1s\n"
          ]
        },
        {
          "output_type": "stream",
          "name": "stdout",
          "text": [
            "32/32 - 88s - loss: 0.6543 - accuracy: 0.7725 - val_loss: 3.4630 - val_accuracy: 0.0625 - 88s/epoch - 3s/step\n",
            "Epoch 17/40\n",
            "INFO:tensorflow:Assets written to: my_model_17\\assets\n"
          ]
        },
        {
          "output_type": "stream",
          "name": "stderr",
          "text": [
            "INFO:tensorflow:Assets written to: my_model_17\\assets\n",
            "\u001b[34m\u001b[1mwandb\u001b[0m: Adding directory to artifact (.\\my_model_17)... Done. 0.1s\n"
          ]
        },
        {
          "output_type": "stream",
          "name": "stdout",
          "text": [
            "32/32 - 87s - loss: 0.5830 - accuracy: 0.7949 - val_loss: 2.8341 - val_accuracy: 0.0938 - 87s/epoch - 3s/step\n",
            "Epoch 18/40\n",
            "INFO:tensorflow:Assets written to: my_model_18\\assets\n"
          ]
        },
        {
          "output_type": "stream",
          "name": "stderr",
          "text": [
            "INFO:tensorflow:Assets written to: my_model_18\\assets\n",
            "\u001b[34m\u001b[1mwandb\u001b[0m: Adding directory to artifact (.\\my_model_18)... Done. 0.1s\n"
          ]
        },
        {
          "output_type": "stream",
          "name": "stdout",
          "text": [
            "32/32 - 88s - loss: 0.5448 - accuracy: 0.8057 - val_loss: 3.1863 - val_accuracy: 0.1406 - 88s/epoch - 3s/step\n",
            "Epoch 19/40\n",
            "INFO:tensorflow:Assets written to: my_model_19\\assets\n"
          ]
        },
        {
          "output_type": "stream",
          "name": "stderr",
          "text": [
            "INFO:tensorflow:Assets written to: my_model_19\\assets\n",
            "\u001b[34m\u001b[1mwandb\u001b[0m: Adding directory to artifact (.\\my_model_19)... Done. 0.1s\n"
          ]
        },
        {
          "output_type": "stream",
          "name": "stdout",
          "text": [
            "32/32 - 87s - loss: 0.7177 - accuracy: 0.7666 - val_loss: 1.3165 - val_accuracy: 0.5625 - 87s/epoch - 3s/step\n",
            "Epoch 20/40\n",
            "INFO:tensorflow:Assets written to: my_model_20\\assets\n"
          ]
        },
        {
          "output_type": "stream",
          "name": "stderr",
          "text": [
            "INFO:tensorflow:Assets written to: my_model_20\\assets\n",
            "\u001b[34m\u001b[1mwandb\u001b[0m: Adding directory to artifact (.\\my_model_20)... Done. 0.1s\n"
          ]
        },
        {
          "output_type": "stream",
          "name": "stdout",
          "text": [
            "32/32 - 87s - loss: 0.6052 - accuracy: 0.7930 - val_loss: 0.4247 - val_accuracy: 0.8906 - 87s/epoch - 3s/step\n",
            "Epoch 21/40\n",
            "INFO:tensorflow:Assets written to: my_model_21\\assets\n"
          ]
        },
        {
          "output_type": "stream",
          "name": "stderr",
          "text": [
            "INFO:tensorflow:Assets written to: my_model_21\\assets\n",
            "\u001b[34m\u001b[1mwandb\u001b[0m: Adding directory to artifact (.\\my_model_21)... Done. 0.1s\n"
          ]
        },
        {
          "output_type": "stream",
          "name": "stdout",
          "text": [
            "32/32 - 83s - loss: 0.5446 - accuracy: 0.8145 - val_loss: 0.4911 - val_accuracy: 0.7969 - 83s/epoch - 3s/step\n",
            "Epoch 22/40\n",
            "INFO:tensorflow:Assets written to: my_model_22\\assets\n"
          ]
        },
        {
          "output_type": "stream",
          "name": "stderr",
          "text": [
            "INFO:tensorflow:Assets written to: my_model_22\\assets\n",
            "\u001b[34m\u001b[1mwandb\u001b[0m: Adding directory to artifact (.\\my_model_22)... Done. 0.1s\n"
          ]
        },
        {
          "output_type": "stream",
          "name": "stdout",
          "text": [
            "32/32 - 84s - loss: 0.5607 - accuracy: 0.8008 - val_loss: 1.9985 - val_accuracy: 0.4531 - 84s/epoch - 3s/step\n",
            "Epoch 23/40\n",
            "INFO:tensorflow:Assets written to: my_model_23\\assets\n"
          ]
        },
        {
          "output_type": "stream",
          "name": "stderr",
          "text": [
            "INFO:tensorflow:Assets written to: my_model_23\\assets\n",
            "\u001b[34m\u001b[1mwandb\u001b[0m: Adding directory to artifact (.\\my_model_23)... Done. 0.1s\n"
          ]
        },
        {
          "output_type": "stream",
          "name": "stdout",
          "text": [
            "32/32 - 82s - loss: 0.5261 - accuracy: 0.8252 - val_loss: 0.9320 - val_accuracy: 0.6719 - 82s/epoch - 3s/step\n",
            "Epoch 24/40\n",
            "INFO:tensorflow:Assets written to: my_model_24\\assets\n"
          ]
        },
        {
          "output_type": "stream",
          "name": "stderr",
          "text": [
            "INFO:tensorflow:Assets written to: my_model_24\\assets\n",
            "\u001b[34m\u001b[1mwandb\u001b[0m: Adding directory to artifact (.\\my_model_24)... Done. 0.1s\n"
          ]
        },
        {
          "output_type": "stream",
          "name": "stdout",
          "text": [
            "32/32 - 87s - loss: 0.4593 - accuracy: 0.8291 - val_loss: 0.4167 - val_accuracy: 0.8750 - 87s/epoch - 3s/step\n",
            "Epoch 25/40\n",
            "INFO:tensorflow:Assets written to: my_model_25\\assets\n"
          ]
        },
        {
          "output_type": "stream",
          "name": "stderr",
          "text": [
            "INFO:tensorflow:Assets written to: my_model_25\\assets\n",
            "\u001b[34m\u001b[1mwandb\u001b[0m: Adding directory to artifact (.\\my_model_25)... Done. 0.1s\n"
          ]
        },
        {
          "output_type": "stream",
          "name": "stdout",
          "text": [
            "32/32 - 87s - loss: 0.4699 - accuracy: 0.8438 - val_loss: 5.5963 - val_accuracy: 0.2188 - 87s/epoch - 3s/step\n",
            "Epoch 26/40\n",
            "INFO:tensorflow:Assets written to: my_model_26\\assets\n"
          ]
        },
        {
          "output_type": "stream",
          "name": "stderr",
          "text": [
            "INFO:tensorflow:Assets written to: my_model_26\\assets\n",
            "\u001b[34m\u001b[1mwandb\u001b[0m: Adding directory to artifact (.\\my_model_26)... Done. 0.1s\n"
          ]
        },
        {
          "output_type": "stream",
          "name": "stdout",
          "text": [
            "32/32 - 88s - loss: 0.3757 - accuracy: 0.8682 - val_loss: 0.3778 - val_accuracy: 0.8281 - 88s/epoch - 3s/step\n",
            "Epoch 27/40\n",
            "INFO:tensorflow:Assets written to: my_model_27\\assets\n"
          ]
        },
        {
          "output_type": "stream",
          "name": "stderr",
          "text": [
            "INFO:tensorflow:Assets written to: my_model_27\\assets\n",
            "\u001b[34m\u001b[1mwandb\u001b[0m: Adding directory to artifact (.\\my_model_27)... Done. 0.1s\n"
          ]
        },
        {
          "output_type": "stream",
          "name": "stdout",
          "text": [
            "32/32 - 83s - loss: 0.4483 - accuracy: 0.8516 - val_loss: 2.4815 - val_accuracy: 0.4844 - 83s/epoch - 3s/step\n",
            "Epoch 28/40\n",
            "INFO:tensorflow:Assets written to: my_model_28\\assets\n"
          ]
        },
        {
          "output_type": "stream",
          "name": "stderr",
          "text": [
            "INFO:tensorflow:Assets written to: my_model_28\\assets\n",
            "\u001b[34m\u001b[1mwandb\u001b[0m: Adding directory to artifact (.\\my_model_28)... Done. 0.1s\n"
          ]
        },
        {
          "output_type": "stream",
          "name": "stdout",
          "text": [
            "32/32 - 82s - loss: 0.3745 - accuracy: 0.8672 - val_loss: 0.9259 - val_accuracy: 0.6562 - 82s/epoch - 3s/step\n",
            "Epoch 29/40\n",
            "INFO:tensorflow:Assets written to: my_model_29\\assets\n"
          ]
        },
        {
          "output_type": "stream",
          "name": "stderr",
          "text": [
            "INFO:tensorflow:Assets written to: my_model_29\\assets\n",
            "\u001b[34m\u001b[1mwandb\u001b[0m: Adding directory to artifact (.\\my_model_29)... Done. 0.1s\n"
          ]
        },
        {
          "output_type": "stream",
          "name": "stdout",
          "text": [
            "32/32 - 87s - loss: 0.4045 - accuracy: 0.8691 - val_loss: 1.1034 - val_accuracy: 0.6875 - 87s/epoch - 3s/step\n",
            "Epoch 30/40\n",
            "INFO:tensorflow:Assets written to: my_model_30\\assets\n"
          ]
        },
        {
          "output_type": "stream",
          "name": "stderr",
          "text": [
            "INFO:tensorflow:Assets written to: my_model_30\\assets\n",
            "\u001b[34m\u001b[1mwandb\u001b[0m: Adding directory to artifact (.\\my_model_30)... Done. 0.1s\n"
          ]
        },
        {
          "output_type": "stream",
          "name": "stdout",
          "text": [
            "32/32 - 88s - loss: 0.3478 - accuracy: 0.8770 - val_loss: 0.3593 - val_accuracy: 0.9062 - 88s/epoch - 3s/step\n",
            "Epoch 31/40\n",
            "INFO:tensorflow:Assets written to: my_model_31\\assets\n"
          ]
        },
        {
          "output_type": "stream",
          "name": "stderr",
          "text": [
            "INFO:tensorflow:Assets written to: my_model_31\\assets\n",
            "\u001b[34m\u001b[1mwandb\u001b[0m: Adding directory to artifact (.\\my_model_31)... Done. 0.1s\n"
          ]
        },
        {
          "output_type": "stream",
          "name": "stdout",
          "text": [
            "32/32 - 88s - loss: 0.3145 - accuracy: 0.8945 - val_loss: 0.5570 - val_accuracy: 0.7969 - 88s/epoch - 3s/step\n",
            "Epoch 32/40\n",
            "INFO:tensorflow:Assets written to: my_model_32\\assets\n"
          ]
        },
        {
          "output_type": "stream",
          "name": "stderr",
          "text": [
            "INFO:tensorflow:Assets written to: my_model_32\\assets\n",
            "\u001b[34m\u001b[1mwandb\u001b[0m: Adding directory to artifact (.\\my_model_32)... Done. 0.1s\n"
          ]
        },
        {
          "output_type": "stream",
          "name": "stdout",
          "text": [
            "32/32 - 87s - loss: 0.3679 - accuracy: 0.8760 - val_loss: 1.9143 - val_accuracy: 0.6094 - 87s/epoch - 3s/step\n",
            "Epoch 33/40\n",
            "INFO:tensorflow:Assets written to: my_model_33\\assets\n"
          ]
        },
        {
          "output_type": "stream",
          "name": "stderr",
          "text": [
            "INFO:tensorflow:Assets written to: my_model_33\\assets\n",
            "\u001b[34m\u001b[1mwandb\u001b[0m: Adding directory to artifact (.\\my_model_33)... Done. 0.1s\n"
          ]
        },
        {
          "output_type": "stream",
          "name": "stdout",
          "text": [
            "32/32 - 86s - loss: 0.3345 - accuracy: 0.8965 - val_loss: 1.5750 - val_accuracy: 0.7188 - 86s/epoch - 3s/step\n",
            "Epoch 34/40\n",
            "INFO:tensorflow:Assets written to: my_model_34\\assets\n"
          ]
        },
        {
          "output_type": "stream",
          "name": "stderr",
          "text": [
            "INFO:tensorflow:Assets written to: my_model_34\\assets\n",
            "\u001b[34m\u001b[1mwandb\u001b[0m: Adding directory to artifact (.\\my_model_34)... Done. 0.1s\n"
          ]
        },
        {
          "output_type": "stream",
          "name": "stdout",
          "text": [
            "32/32 - 83s - loss: 0.3147 - accuracy: 0.8945 - val_loss: 1.1277 - val_accuracy: 0.6562 - 83s/epoch - 3s/step\n",
            "Epoch 35/40\n",
            "INFO:tensorflow:Assets written to: my_model_35\\assets\n"
          ]
        },
        {
          "output_type": "stream",
          "name": "stderr",
          "text": [
            "INFO:tensorflow:Assets written to: my_model_35\\assets\n",
            "\u001b[34m\u001b[1mwandb\u001b[0m: Adding directory to artifact (.\\my_model_35)... Done. 0.1s\n"
          ]
        },
        {
          "output_type": "stream",
          "name": "stdout",
          "text": [
            "32/32 - 82s - loss: 0.3463 - accuracy: 0.8809 - val_loss: 0.0696 - val_accuracy: 0.9688 - 82s/epoch - 3s/step\n",
            "Epoch 36/40\n",
            "INFO:tensorflow:Assets written to: my_model_36\\assets\n"
          ]
        },
        {
          "output_type": "stream",
          "name": "stderr",
          "text": [
            "INFO:tensorflow:Assets written to: my_model_36\\assets\n",
            "\u001b[34m\u001b[1mwandb\u001b[0m: Adding directory to artifact (.\\my_model_36)... Done. 0.1s\n"
          ]
        },
        {
          "output_type": "stream",
          "name": "stdout",
          "text": [
            "32/32 - 87s - loss: 0.3917 - accuracy: 0.8760 - val_loss: 0.6087 - val_accuracy: 0.8125 - 87s/epoch - 3s/step\n",
            "Epoch 37/40\n",
            "INFO:tensorflow:Assets written to: my_model_37\\assets\n"
          ]
        },
        {
          "output_type": "stream",
          "name": "stderr",
          "text": [
            "INFO:tensorflow:Assets written to: my_model_37\\assets\n",
            "\u001b[34m\u001b[1mwandb\u001b[0m: Adding directory to artifact (.\\my_model_37)... Done. 0.1s\n"
          ]
        },
        {
          "output_type": "stream",
          "name": "stdout",
          "text": [
            "32/32 - 88s - loss: 0.3622 - accuracy: 0.8867 - val_loss: 0.9985 - val_accuracy: 0.6719 - 88s/epoch - 3s/step\n",
            "Epoch 38/40\n",
            "INFO:tensorflow:Assets written to: my_model_38\\assets\n"
          ]
        },
        {
          "output_type": "stream",
          "name": "stderr",
          "text": [
            "INFO:tensorflow:Assets written to: my_model_38\\assets\n",
            "\u001b[34m\u001b[1mwandb\u001b[0m: Adding directory to artifact (.\\my_model_38)... Done. 0.1s\n"
          ]
        },
        {
          "output_type": "stream",
          "name": "stdout",
          "text": [
            "32/32 - 87s - loss: 0.3425 - accuracy: 0.8906 - val_loss: 0.7970 - val_accuracy: 0.7812 - 87s/epoch - 3s/step\n",
            "Epoch 39/40\n",
            "INFO:tensorflow:Assets written to: my_model_39\\assets\n"
          ]
        },
        {
          "output_type": "stream",
          "name": "stderr",
          "text": [
            "INFO:tensorflow:Assets written to: my_model_39\\assets\n",
            "\u001b[34m\u001b[1mwandb\u001b[0m: Adding directory to artifact (.\\my_model_39)... Done. 0.1s\n"
          ]
        },
        {
          "output_type": "stream",
          "name": "stdout",
          "text": [
            "32/32 - 88s - loss: 0.2960 - accuracy: 0.9014 - val_loss: 0.2540 - val_accuracy: 0.8750 - 88s/epoch - 3s/step\n",
            "Epoch 40/40\n",
            "INFO:tensorflow:Assets written to: my_model_40\\assets\n"
          ]
        },
        {
          "output_type": "stream",
          "name": "stderr",
          "text": [
            "INFO:tensorflow:Assets written to: my_model_40\\assets\n",
            "\u001b[34m\u001b[1mwandb\u001b[0m: Adding directory to artifact (.\\my_model_40)... Done. 0.1s\n"
          ]
        },
        {
          "output_type": "stream",
          "name": "stdout",
          "text": [
            "32/32 - 85s - loss: 0.2948 - accuracy: 0.9062 - val_loss: 1.8345 - val_accuracy: 0.5938 - 85s/epoch - 3s/step\n",
            "\n",
            "This model took 57.93 minutes to finish.\n"
          ]
        }
      ]
    },
    {
      "cell_type": "code",
      "source": [
        "# Define the directory where you want to save the model\n",
        "model_save_path = modelpath+\"second_run_xception_inspired_model.h5\"\n",
        "\n",
        "# Save the model in the specified directory\n",
        "model.save(model_save_path)\n",
        "\n",
        "# Print a message to indicate that the model has been saved\n",
        "print(\"Trained model path has been saved.\")"
      ],
      "metadata": {
        "colab": {
          "base_uri": "https://localhost:8080/"
        },
        "id": "Z_8_Z3ZzmRP2",
        "outputId": "3a1664c9-34b4-404c-b9ac-58960e0b999c"
      },
      "execution_count": 43,
      "outputs": [
        {
          "output_type": "stream",
          "name": "stdout",
          "text": [
            "Trained model path has been saved.\n"
          ]
        }
      ]
    },
    {
      "cell_type": "markdown",
      "source": [
        "##Model Evaluation"
      ],
      "metadata": {
        "id": "dYEw962Z-nti"
      }
    },
    {
      "cell_type": "code",
      "source": [
        "# do the prediction\n",
        "y_pred = []\n",
        "for i in genTest.class_indices:\n",
        "    # take the path of data test\n",
        "    labelTest = dirTest+'/'+i+'/'\n",
        "    for j in os.listdir(labelTest):\n",
        "        # save the label\n",
        "        x_pred = labelTest + j\n",
        "\n",
        "        # load image into matrix\n",
        "        img = image.load_img(x_pred, target_size = (200, 200))\n",
        "        x = image.img_to_array(img)\n",
        "        x = np.expand_dims(x, axis = 0)\n",
        "        matxImg = np.vstack([x])\n",
        "\n",
        "        # so what is the label?\n",
        "        predict = model.predict(matxImg, batch_size = 32)\n",
        "        predict = np.argmax(predict, axis = 1)\n",
        "        y_pred.append(predict[0])"
      ],
      "metadata": {
        "colab": {
          "base_uri": "https://localhost:8080/"
        },
        "id": "15ANwKkTJXE0",
        "outputId": "cfcc67ad-f19a-4b4a-81a4-460a2115502b"
      },
      "execution_count": 51,
      "outputs": [
        {
          "output_type": "stream",
          "name": "stdout",
          "text": [
            "1/1 [==============================] - 0s 114ms/step\n",
            "1/1 [==============================] - 0s 133ms/step\n",
            "1/1 [==============================] - 0s 83ms/step\n",
            "1/1 [==============================] - 0s 70ms/step\n",
            "1/1 [==============================] - 0s 109ms/step\n",
            "1/1 [==============================] - 0s 86ms/step\n",
            "1/1 [==============================] - 0s 66ms/step\n",
            "1/1 [==============================] - 0s 70ms/step\n",
            "1/1 [==============================] - 0s 63ms/step\n",
            "1/1 [==============================] - 0s 70ms/step\n",
            "1/1 [==============================] - 0s 76ms/step\n",
            "1/1 [==============================] - 0s 85ms/step\n",
            "1/1 [==============================] - 0s 92ms/step\n",
            "1/1 [==============================] - 0s 103ms/step\n",
            "1/1 [==============================] - 0s 106ms/step\n",
            "1/1 [==============================] - 0s 103ms/step\n",
            "1/1 [==============================] - 0s 91ms/step\n",
            "1/1 [==============================] - 0s 83ms/step\n",
            "1/1 [==============================] - 0s 73ms/step\n",
            "1/1 [==============================] - 0s 78ms/step\n",
            "1/1 [==============================] - 0s 95ms/step\n",
            "1/1 [==============================] - 0s 99ms/step\n",
            "1/1 [==============================] - 0s 120ms/step\n",
            "1/1 [==============================] - 0s 82ms/step\n",
            "1/1 [==============================] - 0s 100ms/step\n",
            "1/1 [==============================] - 0s 140ms/step\n",
            "1/1 [==============================] - 0s 87ms/step\n",
            "1/1 [==============================] - 0s 112ms/step\n",
            "1/1 [==============================] - 0s 96ms/step\n",
            "1/1 [==============================] - 0s 75ms/step\n",
            "1/1 [==============================] - 0s 109ms/step\n",
            "1/1 [==============================] - 0s 93ms/step\n",
            "1/1 [==============================] - 0s 134ms/step\n",
            "1/1 [==============================] - 0s 111ms/step\n",
            "1/1 [==============================] - 0s 118ms/step\n",
            "1/1 [==============================] - 0s 77ms/step\n",
            "1/1 [==============================] - 0s 102ms/step\n",
            "1/1 [==============================] - 0s 108ms/step\n",
            "1/1 [==============================] - 0s 107ms/step\n",
            "1/1 [==============================] - 0s 94ms/step\n",
            "1/1 [==============================] - 0s 102ms/step\n",
            "1/1 [==============================] - 0s 75ms/step\n",
            "1/1 [==============================] - 0s 81ms/step\n",
            "1/1 [==============================] - 0s 88ms/step\n",
            "1/1 [==============================] - 0s 119ms/step\n",
            "1/1 [==============================] - 0s 112ms/step\n",
            "1/1 [==============================] - 0s 88ms/step\n",
            "1/1 [==============================] - 0s 112ms/step\n",
            "1/1 [==============================] - 0s 94ms/step\n",
            "1/1 [==============================] - 0s 106ms/step\n",
            "1/1 [==============================] - 0s 107ms/step\n",
            "1/1 [==============================] - 0s 92ms/step\n",
            "1/1 [==============================] - 0s 78ms/step\n",
            "1/1 [==============================] - 0s 74ms/step\n",
            "1/1 [==============================] - 0s 77ms/step\n",
            "1/1 [==============================] - 0s 85ms/step\n",
            "1/1 [==============================] - 0s 60ms/step\n",
            "1/1 [==============================] - 0s 86ms/step\n",
            "1/1 [==============================] - 0s 94ms/step\n",
            "1/1 [==============================] - 0s 92ms/step\n",
            "1/1 [==============================] - 0s 114ms/step\n",
            "1/1 [==============================] - 0s 73ms/step\n",
            "1/1 [==============================] - 0s 79ms/step\n",
            "1/1 [==============================] - 0s 107ms/step\n",
            "1/1 [==============================] - 0s 114ms/step\n",
            "1/1 [==============================] - 0s 92ms/step\n",
            "1/1 [==============================] - 0s 100ms/step\n",
            "1/1 [==============================] - 0s 97ms/step\n",
            "1/1 [==============================] - 0s 73ms/step\n",
            "1/1 [==============================] - 0s 114ms/step\n",
            "1/1 [==============================] - 0s 113ms/step\n",
            "1/1 [==============================] - 0s 95ms/step\n",
            "1/1 [==============================] - 0s 111ms/step\n",
            "1/1 [==============================] - 0s 84ms/step\n",
            "1/1 [==============================] - 0s 84ms/step\n",
            "1/1 [==============================] - 0s 70ms/step\n",
            "1/1 [==============================] - 0s 88ms/step\n",
            "1/1 [==============================] - 0s 108ms/step\n",
            "1/1 [==============================] - 0s 77ms/step\n",
            "1/1 [==============================] - 0s 120ms/step\n",
            "1/1 [==============================] - 0s 109ms/step\n",
            "1/1 [==============================] - 0s 96ms/step\n",
            "1/1 [==============================] - 0s 107ms/step\n",
            "1/1 [==============================] - 0s 98ms/step\n",
            "1/1 [==============================] - 0s 99ms/step\n",
            "1/1 [==============================] - 0s 79ms/step\n",
            "1/1 [==============================] - 0s 120ms/step\n",
            "1/1 [==============================] - 0s 112ms/step\n",
            "1/1 [==============================] - 0s 94ms/step\n",
            "1/1 [==============================] - 0s 104ms/step\n",
            "1/1 [==============================] - 0s 88ms/step\n",
            "1/1 [==============================] - 0s 80ms/step\n",
            "1/1 [==============================] - 0s 92ms/step\n",
            "1/1 [==============================] - 0s 72ms/step\n",
            "1/1 [==============================] - 0s 91ms/step\n",
            "1/1 [==============================] - 0s 120ms/step\n",
            "1/1 [==============================] - 0s 85ms/step\n",
            "1/1 [==============================] - 0s 102ms/step\n",
            "1/1 [==============================] - 0s 113ms/step\n",
            "1/1 [==============================] - 0s 116ms/step\n",
            "1/1 [==============================] - 0s 83ms/step\n",
            "1/1 [==============================] - 0s 137ms/step\n",
            "1/1 [==============================] - 0s 79ms/step\n",
            "1/1 [==============================] - 0s 84ms/step\n"
          ]
        }
      ]
    },
    {
      "cell_type": "code",
      "source": [
        "# calculate the accuracy of the prediction\n",
        "acc_result = round(accuracy_score(y_pred, y_test), 2)\n",
        "print('Accuracy: ', acc_result)"
      ],
      "metadata": {
        "colab": {
          "base_uri": "https://localhost:8080/"
        },
        "id": "8xpvenpQmfhw",
        "outputId": "3ed7b43e-03c5-4243-8694-6ae61be714a6"
      },
      "execution_count": 53,
      "outputs": [
        {
          "output_type": "stream",
          "name": "stdout",
          "text": [
            "Accuracy:  0.04\n"
          ]
        }
      ]
    },
    {
      "cell_type": "code",
      "source": [
        "# show the confusion matrix\n",
        "conMat = confusion_matrix(y_pred, y_test,\n",
        "                          labels = list(genTest.class_indices.values()))\n",
        "print(conMat)"
      ],
      "metadata": {
        "colab": {
          "base_uri": "https://localhost:8080/"
        },
        "id": "zz9ieHiWnOMR",
        "outputId": "4e7faf9c-7f07-475b-f182-81de7ef8f8ef"
      },
      "execution_count": 54,
      "outputs": [
        {
          "output_type": "stream",
          "name": "stdout",
          "text": [
            "[[0 0 0 0 0 0 0 0 0 0 0 0 0 0 0 0 0 0 0 0 0 0 0 0 0 0]\n",
            " [0 0 0 0 0 0 0 0 0 0 0 0 0 0 0 0 0 0 0 0 0 0 0 0 0 0]\n",
            " [0 0 0 0 0 0 0 0 0 0 0 0 0 0 0 0 0 0 0 0 0 0 0 0 0 0]\n",
            " [0 0 0 0 0 0 0 0 0 0 0 0 0 0 0 0 0 0 0 0 0 0 0 0 0 0]\n",
            " [0 0 0 0 0 0 0 0 0 0 0 0 0 0 0 0 0 0 0 0 0 0 0 0 0 0]\n",
            " [0 0 0 0 0 0 0 0 0 0 0 0 0 0 0 0 0 0 0 0 0 0 0 0 0 0]\n",
            " [0 0 0 0 0 0 0 0 0 0 0 0 0 0 0 0 0 0 0 0 0 0 0 0 0 0]\n",
            " [0 0 0 0 0 0 0 0 0 0 0 0 0 0 0 0 0 0 0 0 0 0 0 0 0 0]\n",
            " [0 0 0 0 0 0 0 0 0 0 0 0 0 0 0 0 0 0 0 0 0 0 0 0 0 0]\n",
            " [0 0 0 0 0 0 0 0 0 0 0 0 0 0 0 0 0 0 0 0 0 0 0 0 0 0]\n",
            " [0 0 0 0 0 0 0 0 0 0 0 0 0 0 0 0 0 0 0 0 0 0 0 0 0 0]\n",
            " [0 0 0 0 0 0 0 0 0 0 0 0 0 0 0 0 0 0 0 0 0 0 0 0 0 0]\n",
            " [0 0 0 0 0 0 0 0 0 0 0 0 0 0 0 0 0 0 0 0 0 0 0 0 0 0]\n",
            " [0 0 0 0 0 0 0 0 0 0 0 0 0 0 0 0 0 0 0 0 0 0 0 0 0 0]\n",
            " [0 0 0 0 0 0 0 0 0 0 0 0 0 0 0 0 0 0 0 0 0 0 0 0 0 0]\n",
            " [4 4 4 4 4 4 4 4 4 4 4 4 4 4 4 4 4 4 4 4 4 4 4 4 4 4]\n",
            " [0 0 0 0 0 0 0 0 0 0 0 0 0 0 0 0 0 0 0 0 0 0 0 0 0 0]\n",
            " [0 0 0 0 0 0 0 0 0 0 0 0 0 0 0 0 0 0 0 0 0 0 0 0 0 0]\n",
            " [0 0 0 0 0 0 0 0 0 0 0 0 0 0 0 0 0 0 0 0 0 0 0 0 0 0]\n",
            " [0 0 0 0 0 0 0 0 0 0 0 0 0 0 0 0 0 0 0 0 0 0 0 0 0 0]\n",
            " [0 0 0 0 0 0 0 0 0 0 0 0 0 0 0 0 0 0 0 0 0 0 0 0 0 0]\n",
            " [0 0 0 0 0 0 0 0 0 0 0 0 0 0 0 0 0 0 0 0 0 0 0 0 0 0]\n",
            " [0 0 0 0 0 0 0 0 0 0 0 0 0 0 0 0 0 0 0 0 0 0 0 0 0 0]\n",
            " [0 0 0 0 0 0 0 0 0 0 0 0 0 0 0 0 0 0 0 0 0 0 0 0 0 0]\n",
            " [0 0 0 0 0 0 0 0 0 0 0 0 0 0 0 0 0 0 0 0 0 0 0 0 0 0]\n",
            " [0 0 0 0 0 0 0 0 0 0 0 0 0 0 0 0 0 0 0 0 0 0 0 0 0 0]]\n"
          ]
        }
      ]
    },
    {
      "cell_type": "code",
      "source": [
        "model_results = classification_report(y_pred, y_test,zero_division=1)"
      ],
      "metadata": {
        "id": "WW1EyahnngjP"
      },
      "execution_count": 55,
      "outputs": []
    },
    {
      "cell_type": "code",
      "source": [
        "model_results"
      ],
      "metadata": {
        "colab": {
          "base_uri": "https://localhost:8080/"
        },
        "id": "0cm5tcGR3P1e",
        "outputId": "f0788408-799e-4462-973e-6deea6a0c260"
      },
      "execution_count": 56,
      "outputs": [
        {
          "output_type": "execute_result",
          "data": {
            "text/plain": [
              "'              precision    recall  f1-score   support\\n\\n           0       0.00      1.00      0.00         0\\n           1       0.00      1.00      0.00         0\\n           2       0.00      1.00      0.00         0\\n           3       0.00      1.00      0.00         0\\n           4       0.00      1.00      0.00         0\\n           5       0.00      1.00      0.00         0\\n           6       0.00      1.00      0.00         0\\n           7       0.00      1.00      0.00         0\\n           8       0.00      1.00      0.00         0\\n           9       0.00      1.00      0.00         0\\n          10       0.00      1.00      0.00         0\\n          11       0.00      1.00      0.00         0\\n          12       0.00      1.00      0.00         0\\n          13       0.00      1.00      0.00         0\\n          14       0.00      1.00      0.00         0\\n          15       1.00      0.04      0.07       104\\n          16       0.00      1.00      0.00         0\\n          17       0.00      1.00      0.00         0\\n          18       0.00      1.00      0.00         0\\n          19       0.00      1.00      0.00         0\\n          20       0.00      1.00      0.00         0\\n          21       0.00      1.00      0.00         0\\n          22       0.00      1.00      0.00         0\\n          23       0.00      1.00      0.00         0\\n          24       0.00      1.00      0.00         0\\n          25       0.00      1.00      0.00         0\\n\\n    accuracy                           0.04       104\\n   macro avg       0.04      0.96      0.00       104\\nweighted avg       1.00      0.04      0.07       104\\n'"
            ]
          },
          "metadata": {},
          "execution_count": 56
        }
      ]
    },
    {
      "cell_type": "code",
      "source": [],
      "metadata": {
        "id": "J9GKkI4k3Q3J"
      },
      "execution_count": null,
      "outputs": []
    }
  ]
}