{
  "cells": [
    {
      "cell_type": "markdown",
      "metadata": {
        "id": "view-in-github",
        "colab_type": "text"
      },
      "source": [
        "<a href=\"https://colab.research.google.com/github/husnain77/ASL-Hand-Sing-Language-Detection/blob/main/AirQuality.ipynb\" target=\"_parent\"><img src=\"https://colab.research.google.com/assets/colab-badge.svg\" alt=\"Open In Colab\"/></a>"
      ]
    },
    {
      "cell_type": "markdown",
      "metadata": {
        "id": "rpSQJSj5i3qW"
      },
      "source": [
        "# Articial Intelligence and Machine Learning - Coursework 1 - 1st diet\n",
        "## Air quality dataset\n",
        "# Student Name: Ahmed-MalikIbrar-S2267644\n",
        "\n",
        "I confirm that the material contained within the submitted coursework is all my own work unless otherwise stated below.\n",
        "\n",
        "---"
      ]
    },
    {
      "cell_type": "code",
      "source": [
        "# @title Loading Dependecies\n",
        "import pandas as pd # used for data loading/manipulation\n",
        "import numpy as np # used for algebric data manipulation\n",
        "import matplotlib.pyplot as plt # used for data visualisation\n",
        "import seaborn as sns # used for data visualization\n",
        "from datetime import datetime # used to extract hour and week features from date\n",
        "from sklearn.ensemble import RandomForestRegressor # Tree Based ML Model\n",
        "from sklearn.linear_model import LinearRegression #  Simple line of best fit model\n",
        "from sklearn.metrics import mean_squared_error, r2_score # used for evaluation\n"
      ],
      "metadata": {
        "id": "MPD-l557kDWx"
      },
      "execution_count": null,
      "outputs": []
    },
    {
      "cell_type": "markdown",
      "metadata": {
        "id": "ZjlnIC25i3qZ"
      },
      "source": [
        "## 1. Introduction and problem definition\n",
        "Air quality is a critical aspect of environmental monitoring, directly impacting human health and environmental integrity. With rapid urbanization and industrialization, monitoring and predicting air quality has become increasingly important for public health, policy-making, and environmental protection.\n",
        "\n",
        "**Objective:**\n",
        "This project focuses on leveraging machine learning SVM model to analyze air quality data and predict key indicators of air pollution. Specifically, we undertake two main tasks:\n",
        "\n",
        "**Predicting Carbon Monoxide (CO) Concentration:**\n",
        "\n",
        "Utilizing sensor data and environmental factors to predict the concentration of CO, a primary pollutant that poses significant health risks.\n",
        "\n",
        "**Defining and Predicting a Custom Air Quality Index (AQI):**\n",
        "\n",
        "Creating a composite index based on multiple pollutants to represent overall air quality and using machine learning models to predict this index from various sensor readings and environmental variables.\n",
        "\n",
        "**Data:**\n",
        "\n",
        "The analysis is based on a dataset comprising hourly-averaged responses from an array of metal-oxide chemical sensors embedded in an air quality chemical multi-sensor device. The dataset includes sensor readings for various pollutants, alongside ground-truth data for CO and other gases, recorded over a year in an urban environment with significant pollution levels.\n"
      ]
    },
    {
      "cell_type": "markdown",
      "metadata": {
        "id": "bZjIFCRmi3qa"
      },
      "source": [
        "## 2. Data ingeston\n",
        "We have saved the data fro"
      ]
    },
    {
      "cell_type": "code",
      "source": [
        "#  mounting our google drive with the notebook\n",
        "from google.colab import drive\n",
        "drive.mount('/content/drive')"
      ],
      "metadata": {
        "colab": {
          "base_uri": "https://localhost:8080/"
        },
        "id": "ZXozCu6ilB8M",
        "outputId": "ef267f00-5ca8-4159-fd0b-5744b7264d6f"
      },
      "execution_count": null,
      "outputs": [
        {
          "output_type": "stream",
          "name": "stdout",
          "text": [
            "Mounted at /content/drive\n"
          ]
        }
      ]
    },
    {
      "cell_type": "code",
      "source": [
        "filepath = \"/content/drive/Othercomputers/Lenovo/Machine_Learning/Miscellenous/AirQuality/AirQuality.csv\"\n",
        "df = pd.read_csv(filepath) # reading the file path\n",
        "df"
      ],
      "metadata": {
        "colab": {
          "base_uri": "https://localhost:8080/",
          "height": 461
        },
        "id": "JTJIA4mVlJiJ",
        "outputId": "960fce4b-bb60-458d-f3e9-3b72350b9725"
      },
      "execution_count": null,
      "outputs": [
        {
          "output_type": "execute_result",
          "data": {
            "text/plain": [
              "            Date      Time  CO(GT)  PT08.S1(CO)  NMHC(GT)  C6H6(GT)  \\\n",
              "0     10/03/2004  18:00:00     2.6         1360       150      11.9   \n",
              "1     10/03/2004  19:00:00     2.0         1292       112       9.4   \n",
              "2     10/03/2004  20:00:00     2.2         1402        88       9.0   \n",
              "3     10/03/2004  21:00:00     2.2         1376        80       9.2   \n",
              "4     10/03/2004  22:00:00     1.6         1272        51       6.5   \n",
              "...          ...       ...     ...          ...       ...       ...   \n",
              "9352  04/04/2005  10:00:00     3.1         1314      -200      13.5   \n",
              "9353  04/04/2005  11:00:00     2.4         1163      -200      11.4   \n",
              "9354  04/04/2005  12:00:00     2.4         1142      -200      12.4   \n",
              "9355  04/04/2005  13:00:00     2.1         1003      -200       9.5   \n",
              "9356  04/04/2005  14:00:00     2.2         1071      -200      11.9   \n",
              "\n",
              "      PT08.S2(NMHC)  NOx(GT)  PT08.S3(NOx)  NO2(GT)  PT08.S4(NO2)  \\\n",
              "0              1046      166          1056      113          1692   \n",
              "1               955      103          1174       92          1559   \n",
              "2               939      131          1140      114          1555   \n",
              "3               948      172          1092      122          1584   \n",
              "4               836      131          1205      116          1490   \n",
              "...             ...      ...           ...      ...           ...   \n",
              "9352           1101      472           539      190          1374   \n",
              "9353           1027      353           604      179          1264   \n",
              "9354           1063      293           603      175          1241   \n",
              "9355            961      235           702      156          1041   \n",
              "9356           1047      265           654      168          1129   \n",
              "\n",
              "      PT08.S5(O3)  T(C)    RH      AH  Unnamed: 15  Unnamed: 16  \n",
              "0            1268  13.6  48.9  0.7578          NaN          NaN  \n",
              "1             972  13.3  47.7  0.7255          NaN          NaN  \n",
              "2            1074  11.9  54.0  0.7502          NaN          NaN  \n",
              "3            1203  11.0  60.0  0.7867          NaN          NaN  \n",
              "4            1110  11.2  59.6  0.7888          NaN          NaN  \n",
              "...           ...   ...   ...     ...          ...          ...  \n",
              "9352         1729  21.9  29.3  0.7568          NaN          NaN  \n",
              "9353         1269  24.3  23.7  0.7119          NaN          NaN  \n",
              "9354         1092  26.9  18.3  0.6406          NaN          NaN  \n",
              "9355          770  28.3  13.5  0.5139          NaN          NaN  \n",
              "9356          816  28.5  13.1  0.5028          NaN          NaN  \n",
              "\n",
              "[9357 rows x 17 columns]"
            ],
            "text/html": [
              "\n",
              "  <div id=\"df-bb7e4074-93e2-43d2-b9f8-5142054f7c0c\" class=\"colab-df-container\">\n",
              "    <div>\n",
              "<style scoped>\n",
              "    .dataframe tbody tr th:only-of-type {\n",
              "        vertical-align: middle;\n",
              "    }\n",
              "\n",
              "    .dataframe tbody tr th {\n",
              "        vertical-align: top;\n",
              "    }\n",
              "\n",
              "    .dataframe thead th {\n",
              "        text-align: right;\n",
              "    }\n",
              "</style>\n",
              "<table border=\"1\" class=\"dataframe\">\n",
              "  <thead>\n",
              "    <tr style=\"text-align: right;\">\n",
              "      <th></th>\n",
              "      <th>Date</th>\n",
              "      <th>Time</th>\n",
              "      <th>CO(GT)</th>\n",
              "      <th>PT08.S1(CO)</th>\n",
              "      <th>NMHC(GT)</th>\n",
              "      <th>C6H6(GT)</th>\n",
              "      <th>PT08.S2(NMHC)</th>\n",
              "      <th>NOx(GT)</th>\n",
              "      <th>PT08.S3(NOx)</th>\n",
              "      <th>NO2(GT)</th>\n",
              "      <th>PT08.S4(NO2)</th>\n",
              "      <th>PT08.S5(O3)</th>\n",
              "      <th>T(C)</th>\n",
              "      <th>RH</th>\n",
              "      <th>AH</th>\n",
              "      <th>Unnamed: 15</th>\n",
              "      <th>Unnamed: 16</th>\n",
              "    </tr>\n",
              "  </thead>\n",
              "  <tbody>\n",
              "    <tr>\n",
              "      <th>0</th>\n",
              "      <td>10/03/2004</td>\n",
              "      <td>18:00:00</td>\n",
              "      <td>2.6</td>\n",
              "      <td>1360</td>\n",
              "      <td>150</td>\n",
              "      <td>11.9</td>\n",
              "      <td>1046</td>\n",
              "      <td>166</td>\n",
              "      <td>1056</td>\n",
              "      <td>113</td>\n",
              "      <td>1692</td>\n",
              "      <td>1268</td>\n",
              "      <td>13.6</td>\n",
              "      <td>48.9</td>\n",
              "      <td>0.7578</td>\n",
              "      <td>NaN</td>\n",
              "      <td>NaN</td>\n",
              "    </tr>\n",
              "    <tr>\n",
              "      <th>1</th>\n",
              "      <td>10/03/2004</td>\n",
              "      <td>19:00:00</td>\n",
              "      <td>2.0</td>\n",
              "      <td>1292</td>\n",
              "      <td>112</td>\n",
              "      <td>9.4</td>\n",
              "      <td>955</td>\n",
              "      <td>103</td>\n",
              "      <td>1174</td>\n",
              "      <td>92</td>\n",
              "      <td>1559</td>\n",
              "      <td>972</td>\n",
              "      <td>13.3</td>\n",
              "      <td>47.7</td>\n",
              "      <td>0.7255</td>\n",
              "      <td>NaN</td>\n",
              "      <td>NaN</td>\n",
              "    </tr>\n",
              "    <tr>\n",
              "      <th>2</th>\n",
              "      <td>10/03/2004</td>\n",
              "      <td>20:00:00</td>\n",
              "      <td>2.2</td>\n",
              "      <td>1402</td>\n",
              "      <td>88</td>\n",
              "      <td>9.0</td>\n",
              "      <td>939</td>\n",
              "      <td>131</td>\n",
              "      <td>1140</td>\n",
              "      <td>114</td>\n",
              "      <td>1555</td>\n",
              "      <td>1074</td>\n",
              "      <td>11.9</td>\n",
              "      <td>54.0</td>\n",
              "      <td>0.7502</td>\n",
              "      <td>NaN</td>\n",
              "      <td>NaN</td>\n",
              "    </tr>\n",
              "    <tr>\n",
              "      <th>3</th>\n",
              "      <td>10/03/2004</td>\n",
              "      <td>21:00:00</td>\n",
              "      <td>2.2</td>\n",
              "      <td>1376</td>\n",
              "      <td>80</td>\n",
              "      <td>9.2</td>\n",
              "      <td>948</td>\n",
              "      <td>172</td>\n",
              "      <td>1092</td>\n",
              "      <td>122</td>\n",
              "      <td>1584</td>\n",
              "      <td>1203</td>\n",
              "      <td>11.0</td>\n",
              "      <td>60.0</td>\n",
              "      <td>0.7867</td>\n",
              "      <td>NaN</td>\n",
              "      <td>NaN</td>\n",
              "    </tr>\n",
              "    <tr>\n",
              "      <th>4</th>\n",
              "      <td>10/03/2004</td>\n",
              "      <td>22:00:00</td>\n",
              "      <td>1.6</td>\n",
              "      <td>1272</td>\n",
              "      <td>51</td>\n",
              "      <td>6.5</td>\n",
              "      <td>836</td>\n",
              "      <td>131</td>\n",
              "      <td>1205</td>\n",
              "      <td>116</td>\n",
              "      <td>1490</td>\n",
              "      <td>1110</td>\n",
              "      <td>11.2</td>\n",
              "      <td>59.6</td>\n",
              "      <td>0.7888</td>\n",
              "      <td>NaN</td>\n",
              "      <td>NaN</td>\n",
              "    </tr>\n",
              "    <tr>\n",
              "      <th>...</th>\n",
              "      <td>...</td>\n",
              "      <td>...</td>\n",
              "      <td>...</td>\n",
              "      <td>...</td>\n",
              "      <td>...</td>\n",
              "      <td>...</td>\n",
              "      <td>...</td>\n",
              "      <td>...</td>\n",
              "      <td>...</td>\n",
              "      <td>...</td>\n",
              "      <td>...</td>\n",
              "      <td>...</td>\n",
              "      <td>...</td>\n",
              "      <td>...</td>\n",
              "      <td>...</td>\n",
              "      <td>...</td>\n",
              "      <td>...</td>\n",
              "    </tr>\n",
              "    <tr>\n",
              "      <th>9352</th>\n",
              "      <td>04/04/2005</td>\n",
              "      <td>10:00:00</td>\n",
              "      <td>3.1</td>\n",
              "      <td>1314</td>\n",
              "      <td>-200</td>\n",
              "      <td>13.5</td>\n",
              "      <td>1101</td>\n",
              "      <td>472</td>\n",
              "      <td>539</td>\n",
              "      <td>190</td>\n",
              "      <td>1374</td>\n",
              "      <td>1729</td>\n",
              "      <td>21.9</td>\n",
              "      <td>29.3</td>\n",
              "      <td>0.7568</td>\n",
              "      <td>NaN</td>\n",
              "      <td>NaN</td>\n",
              "    </tr>\n",
              "    <tr>\n",
              "      <th>9353</th>\n",
              "      <td>04/04/2005</td>\n",
              "      <td>11:00:00</td>\n",
              "      <td>2.4</td>\n",
              "      <td>1163</td>\n",
              "      <td>-200</td>\n",
              "      <td>11.4</td>\n",
              "      <td>1027</td>\n",
              "      <td>353</td>\n",
              "      <td>604</td>\n",
              "      <td>179</td>\n",
              "      <td>1264</td>\n",
              "      <td>1269</td>\n",
              "      <td>24.3</td>\n",
              "      <td>23.7</td>\n",
              "      <td>0.7119</td>\n",
              "      <td>NaN</td>\n",
              "      <td>NaN</td>\n",
              "    </tr>\n",
              "    <tr>\n",
              "      <th>9354</th>\n",
              "      <td>04/04/2005</td>\n",
              "      <td>12:00:00</td>\n",
              "      <td>2.4</td>\n",
              "      <td>1142</td>\n",
              "      <td>-200</td>\n",
              "      <td>12.4</td>\n",
              "      <td>1063</td>\n",
              "      <td>293</td>\n",
              "      <td>603</td>\n",
              "      <td>175</td>\n",
              "      <td>1241</td>\n",
              "      <td>1092</td>\n",
              "      <td>26.9</td>\n",
              "      <td>18.3</td>\n",
              "      <td>0.6406</td>\n",
              "      <td>NaN</td>\n",
              "      <td>NaN</td>\n",
              "    </tr>\n",
              "    <tr>\n",
              "      <th>9355</th>\n",
              "      <td>04/04/2005</td>\n",
              "      <td>13:00:00</td>\n",
              "      <td>2.1</td>\n",
              "      <td>1003</td>\n",
              "      <td>-200</td>\n",
              "      <td>9.5</td>\n",
              "      <td>961</td>\n",
              "      <td>235</td>\n",
              "      <td>702</td>\n",
              "      <td>156</td>\n",
              "      <td>1041</td>\n",
              "      <td>770</td>\n",
              "      <td>28.3</td>\n",
              "      <td>13.5</td>\n",
              "      <td>0.5139</td>\n",
              "      <td>NaN</td>\n",
              "      <td>NaN</td>\n",
              "    </tr>\n",
              "    <tr>\n",
              "      <th>9356</th>\n",
              "      <td>04/04/2005</td>\n",
              "      <td>14:00:00</td>\n",
              "      <td>2.2</td>\n",
              "      <td>1071</td>\n",
              "      <td>-200</td>\n",
              "      <td>11.9</td>\n",
              "      <td>1047</td>\n",
              "      <td>265</td>\n",
              "      <td>654</td>\n",
              "      <td>168</td>\n",
              "      <td>1129</td>\n",
              "      <td>816</td>\n",
              "      <td>28.5</td>\n",
              "      <td>13.1</td>\n",
              "      <td>0.5028</td>\n",
              "      <td>NaN</td>\n",
              "      <td>NaN</td>\n",
              "    </tr>\n",
              "  </tbody>\n",
              "</table>\n",
              "<p>9357 rows × 17 columns</p>\n",
              "</div>\n",
              "    <div class=\"colab-df-buttons\">\n",
              "\n",
              "  <div class=\"colab-df-container\">\n",
              "    <button class=\"colab-df-convert\" onclick=\"convertToInteractive('df-bb7e4074-93e2-43d2-b9f8-5142054f7c0c')\"\n",
              "            title=\"Convert this dataframe to an interactive table.\"\n",
              "            style=\"display:none;\">\n",
              "\n",
              "  <svg xmlns=\"http://www.w3.org/2000/svg\" height=\"24px\" viewBox=\"0 -960 960 960\">\n",
              "    <path d=\"M120-120v-720h720v720H120Zm60-500h600v-160H180v160Zm220 220h160v-160H400v160Zm0 220h160v-160H400v160ZM180-400h160v-160H180v160Zm440 0h160v-160H620v160ZM180-180h160v-160H180v160Zm440 0h160v-160H620v160Z\"/>\n",
              "  </svg>\n",
              "    </button>\n",
              "\n",
              "  <style>\n",
              "    .colab-df-container {\n",
              "      display:flex;\n",
              "      gap: 12px;\n",
              "    }\n",
              "\n",
              "    .colab-df-convert {\n",
              "      background-color: #E8F0FE;\n",
              "      border: none;\n",
              "      border-radius: 50%;\n",
              "      cursor: pointer;\n",
              "      display: none;\n",
              "      fill: #1967D2;\n",
              "      height: 32px;\n",
              "      padding: 0 0 0 0;\n",
              "      width: 32px;\n",
              "    }\n",
              "\n",
              "    .colab-df-convert:hover {\n",
              "      background-color: #E2EBFA;\n",
              "      box-shadow: 0px 1px 2px rgba(60, 64, 67, 0.3), 0px 1px 3px 1px rgba(60, 64, 67, 0.15);\n",
              "      fill: #174EA6;\n",
              "    }\n",
              "\n",
              "    .colab-df-buttons div {\n",
              "      margin-bottom: 4px;\n",
              "    }\n",
              "\n",
              "    [theme=dark] .colab-df-convert {\n",
              "      background-color: #3B4455;\n",
              "      fill: #D2E3FC;\n",
              "    }\n",
              "\n",
              "    [theme=dark] .colab-df-convert:hover {\n",
              "      background-color: #434B5C;\n",
              "      box-shadow: 0px 1px 3px 1px rgba(0, 0, 0, 0.15);\n",
              "      filter: drop-shadow(0px 1px 2px rgba(0, 0, 0, 0.3));\n",
              "      fill: #FFFFFF;\n",
              "    }\n",
              "  </style>\n",
              "\n",
              "    <script>\n",
              "      const buttonEl =\n",
              "        document.querySelector('#df-bb7e4074-93e2-43d2-b9f8-5142054f7c0c button.colab-df-convert');\n",
              "      buttonEl.style.display =\n",
              "        google.colab.kernel.accessAllowed ? 'block' : 'none';\n",
              "\n",
              "      async function convertToInteractive(key) {\n",
              "        const element = document.querySelector('#df-bb7e4074-93e2-43d2-b9f8-5142054f7c0c');\n",
              "        const dataTable =\n",
              "          await google.colab.kernel.invokeFunction('convertToInteractive',\n",
              "                                                    [key], {});\n",
              "        if (!dataTable) return;\n",
              "\n",
              "        const docLinkHtml = 'Like what you see? Visit the ' +\n",
              "          '<a target=\"_blank\" href=https://colab.research.google.com/notebooks/data_table.ipynb>data table notebook</a>'\n",
              "          + ' to learn more about interactive tables.';\n",
              "        element.innerHTML = '';\n",
              "        dataTable['output_type'] = 'display_data';\n",
              "        await google.colab.output.renderOutput(dataTable, element);\n",
              "        const docLink = document.createElement('div');\n",
              "        docLink.innerHTML = docLinkHtml;\n",
              "        element.appendChild(docLink);\n",
              "      }\n",
              "    </script>\n",
              "  </div>\n",
              "\n",
              "\n",
              "<div id=\"df-d0ce4d63-7a42-4c32-8a08-bf2bc775901d\">\n",
              "  <button class=\"colab-df-quickchart\" onclick=\"quickchart('df-d0ce4d63-7a42-4c32-8a08-bf2bc775901d')\"\n",
              "            title=\"Suggest charts\"\n",
              "            style=\"display:none;\">\n",
              "\n",
              "<svg xmlns=\"http://www.w3.org/2000/svg\" height=\"24px\"viewBox=\"0 0 24 24\"\n",
              "     width=\"24px\">\n",
              "    <g>\n",
              "        <path d=\"M19 3H5c-1.1 0-2 .9-2 2v14c0 1.1.9 2 2 2h14c1.1 0 2-.9 2-2V5c0-1.1-.9-2-2-2zM9 17H7v-7h2v7zm4 0h-2V7h2v10zm4 0h-2v-4h2v4z\"/>\n",
              "    </g>\n",
              "</svg>\n",
              "  </button>\n",
              "\n",
              "<style>\n",
              "  .colab-df-quickchart {\n",
              "      --bg-color: #E8F0FE;\n",
              "      --fill-color: #1967D2;\n",
              "      --hover-bg-color: #E2EBFA;\n",
              "      --hover-fill-color: #174EA6;\n",
              "      --disabled-fill-color: #AAA;\n",
              "      --disabled-bg-color: #DDD;\n",
              "  }\n",
              "\n",
              "  [theme=dark] .colab-df-quickchart {\n",
              "      --bg-color: #3B4455;\n",
              "      --fill-color: #D2E3FC;\n",
              "      --hover-bg-color: #434B5C;\n",
              "      --hover-fill-color: #FFFFFF;\n",
              "      --disabled-bg-color: #3B4455;\n",
              "      --disabled-fill-color: #666;\n",
              "  }\n",
              "\n",
              "  .colab-df-quickchart {\n",
              "    background-color: var(--bg-color);\n",
              "    border: none;\n",
              "    border-radius: 50%;\n",
              "    cursor: pointer;\n",
              "    display: none;\n",
              "    fill: var(--fill-color);\n",
              "    height: 32px;\n",
              "    padding: 0;\n",
              "    width: 32px;\n",
              "  }\n",
              "\n",
              "  .colab-df-quickchart:hover {\n",
              "    background-color: var(--hover-bg-color);\n",
              "    box-shadow: 0 1px 2px rgba(60, 64, 67, 0.3), 0 1px 3px 1px rgba(60, 64, 67, 0.15);\n",
              "    fill: var(--button-hover-fill-color);\n",
              "  }\n",
              "\n",
              "  .colab-df-quickchart-complete:disabled,\n",
              "  .colab-df-quickchart-complete:disabled:hover {\n",
              "    background-color: var(--disabled-bg-color);\n",
              "    fill: var(--disabled-fill-color);\n",
              "    box-shadow: none;\n",
              "  }\n",
              "\n",
              "  .colab-df-spinner {\n",
              "    border: 2px solid var(--fill-color);\n",
              "    border-color: transparent;\n",
              "    border-bottom-color: var(--fill-color);\n",
              "    animation:\n",
              "      spin 1s steps(1) infinite;\n",
              "  }\n",
              "\n",
              "  @keyframes spin {\n",
              "    0% {\n",
              "      border-color: transparent;\n",
              "      border-bottom-color: var(--fill-color);\n",
              "      border-left-color: var(--fill-color);\n",
              "    }\n",
              "    20% {\n",
              "      border-color: transparent;\n",
              "      border-left-color: var(--fill-color);\n",
              "      border-top-color: var(--fill-color);\n",
              "    }\n",
              "    30% {\n",
              "      border-color: transparent;\n",
              "      border-left-color: var(--fill-color);\n",
              "      border-top-color: var(--fill-color);\n",
              "      border-right-color: var(--fill-color);\n",
              "    }\n",
              "    40% {\n",
              "      border-color: transparent;\n",
              "      border-right-color: var(--fill-color);\n",
              "      border-top-color: var(--fill-color);\n",
              "    }\n",
              "    60% {\n",
              "      border-color: transparent;\n",
              "      border-right-color: var(--fill-color);\n",
              "    }\n",
              "    80% {\n",
              "      border-color: transparent;\n",
              "      border-right-color: var(--fill-color);\n",
              "      border-bottom-color: var(--fill-color);\n",
              "    }\n",
              "    90% {\n",
              "      border-color: transparent;\n",
              "      border-bottom-color: var(--fill-color);\n",
              "    }\n",
              "  }\n",
              "</style>\n",
              "\n",
              "  <script>\n",
              "    async function quickchart(key) {\n",
              "      const quickchartButtonEl =\n",
              "        document.querySelector('#' + key + ' button');\n",
              "      quickchartButtonEl.disabled = true;  // To prevent multiple clicks.\n",
              "      quickchartButtonEl.classList.add('colab-df-spinner');\n",
              "      try {\n",
              "        const charts = await google.colab.kernel.invokeFunction(\n",
              "            'suggestCharts', [key], {});\n",
              "      } catch (error) {\n",
              "        console.error('Error during call to suggestCharts:', error);\n",
              "      }\n",
              "      quickchartButtonEl.classList.remove('colab-df-spinner');\n",
              "      quickchartButtonEl.classList.add('colab-df-quickchart-complete');\n",
              "    }\n",
              "    (() => {\n",
              "      let quickchartButtonEl =\n",
              "        document.querySelector('#df-d0ce4d63-7a42-4c32-8a08-bf2bc775901d button');\n",
              "      quickchartButtonEl.style.display =\n",
              "        google.colab.kernel.accessAllowed ? 'block' : 'none';\n",
              "    })();\n",
              "  </script>\n",
              "</div>\n",
              "    </div>\n",
              "  </div>\n"
            ]
          },
          "metadata": {},
          "execution_count": 96
        }
      ]
    },
    {
      "cell_type": "code",
      "source": [
        "df.info()"
      ],
      "metadata": {
        "colab": {
          "base_uri": "https://localhost:8080/"
        },
        "id": "B2MN4dWVoDoY",
        "outputId": "c5271315-eabe-43e7-ddb2-9fccad8d303d"
      },
      "execution_count": null,
      "outputs": [
        {
          "output_type": "stream",
          "name": "stdout",
          "text": [
            "<class 'pandas.core.frame.DataFrame'>\n",
            "RangeIndex: 9357 entries, 0 to 9356\n",
            "Data columns (total 17 columns):\n",
            " #   Column         Non-Null Count  Dtype  \n",
            "---  ------         --------------  -----  \n",
            " 0   Date           9357 non-null   object \n",
            " 1   Time           9357 non-null   object \n",
            " 2   CO(GT)         9357 non-null   float64\n",
            " 3   PT08.S1(CO)    9357 non-null   int64  \n",
            " 4   NMHC(GT)       9357 non-null   int64  \n",
            " 5   C6H6(GT)       9357 non-null   float64\n",
            " 6   PT08.S2(NMHC)  9357 non-null   int64  \n",
            " 7   NOx(GT)        9357 non-null   int64  \n",
            " 8   PT08.S3(NOx)   9357 non-null   int64  \n",
            " 9   NO2(GT)        9357 non-null   int64  \n",
            " 10  PT08.S4(NO2)   9357 non-null   int64  \n",
            " 11  PT08.S5(O3)    9357 non-null   int64  \n",
            " 12  T(C)           9357 non-null   float64\n",
            " 13  RH             9357 non-null   float64\n",
            " 14  AH             9357 non-null   float64\n",
            " 15  Unnamed: 15    0 non-null      float64\n",
            " 16  Unnamed: 16    0 non-null      float64\n",
            "dtypes: float64(7), int64(8), object(2)\n",
            "memory usage: 1.2+ MB\n"
          ]
        }
      ]
    },
    {
      "cell_type": "markdown",
      "metadata": {
        "id": "93jDo2sIi3qb"
      },
      "source": [
        "## 3. Data preparation (common to both tasks)\n",
        "We have suspected from viewing the data as seen above that we have unnamed columns as both of them are empty so we have dropped irrelevant columns and further we have checked for missing values where we have observed that our data doesnot contain any missing values.\n",
        "\n",
        "Further more NMHC(GT) has been removed due to its large number of missing values.\n",
        "\n",
        "Further we have converted the 'Date' and 'Time' columns into datetime objects and extract useful features (like the day of the week and the hour).\n",
        "\n",
        "Moreover all -200 values have been replaced with np.nan, which will allow for correct operation of typical data analysis functions.\n",
        "\n",
        "Lastly we have defined a new column indicating whether the time of measurement falls within peak road usage hours.Similarly, defined a column to indicate valley road usage hours."
      ]
    },
    {
      "cell_type": "code",
      "source": [
        "# Dropping irrelevant columns\n",
        "df.drop(columns=[\"Unnamed: 15\", \"Unnamed: 16\"], inplace=True)\n"
      ],
      "metadata": {
        "id": "FEBrRPf3l8Q8"
      },
      "execution_count": null,
      "outputs": []
    },
    {
      "cell_type": "code",
      "source": [
        "# Replacing -200 values with np.nan\n",
        "df.replace(-200, np.nan, inplace=True)\n",
        "df.isna().sum()"
      ],
      "metadata": {
        "colab": {
          "base_uri": "https://localhost:8080/"
        },
        "id": "gb3NU4eKolYS",
        "outputId": "7d8f84ca-8930-4068-b1aa-771ba150d464"
      },
      "execution_count": null,
      "outputs": [
        {
          "output_type": "execute_result",
          "data": {
            "text/plain": [
              "Date                0\n",
              "Time                0\n",
              "CO(GT)           1672\n",
              "PT08.S1(CO)       366\n",
              "NMHC(GT)         8443\n",
              "C6H6(GT)          366\n",
              "PT08.S2(NMHC)     366\n",
              "NOx(GT)          1639\n",
              "PT08.S3(NOx)      366\n",
              "NO2(GT)          1642\n",
              "PT08.S4(NO2)      366\n",
              "PT08.S5(O3)       366\n",
              "T(C)              366\n",
              "RH                366\n",
              "AH                366\n",
              "dtype: int64"
            ]
          },
          "metadata": {},
          "execution_count": 99
        }
      ]
    },
    {
      "cell_type": "code",
      "source": [
        "# Dropping the NMHC(GT) column due to large number of null values\n",
        "df = df.drop(columns=['NMHC(GT)'])"
      ],
      "metadata": {
        "id": "EXt9WMDbokHj"
      },
      "execution_count": null,
      "outputs": []
    },
    {
      "cell_type": "code",
      "source": [
        "from datetime import datetime\n",
        "\n",
        "# Parsing Date and Time columns\n",
        "df['DateTime'] = pd.to_datetime(df['Date'] + ' ' + df['Time'])\n",
        "\n",
        "# Extracting Day of the Hour\n",
        "df['Hour'] = df['DateTime'].dt.hour"
      ],
      "metadata": {
        "id": "OmF5gVGeppHR"
      },
      "execution_count": null,
      "outputs": []
    },
    {
      "cell_type": "code",
      "source": [
        "# Extracting the DayOfWeek column to use day names\n",
        "df['DayOfWeek'] = pd.to_datetime(df['Date'], dayfirst=True).dt.day_name()"
      ],
      "metadata": {
        "id": "QtaDwdwEooQw"
      },
      "execution_count": null,
      "outputs": []
    },
    {
      "cell_type": "code",
      "source": [
        "# Function to determine if it's peak time\n",
        "def is_peak_time(hour, day):\n",
        "    # Peak times on working days (Monday to Friday)\n",
        "    if day in ['Monday', 'Tuesday', 'Wednesday', 'Thursday', 'Friday']:\n",
        "        return 8 <= hour < 12 or 18 <= hour < 22\n",
        "    # Peak times on non-working days (Saturday and Sunday)\n",
        "    else:\n",
        "        return 9 <= hour < 12\n",
        "\n",
        "# Function to determine if it's valley time\n",
        "def is_valley_time(hour):\n",
        "    return 2 <= hour < 6\n",
        "\n",
        "# Creating the 'PeakTime' and 'ValleyTime' attributes\n",
        "df['PeakTime'] = df.apply(lambda row: is_peak_time(row['Hour'], row['DayOfWeek']), axis=1)\n",
        "df['ValleyTime'] = df['Hour'].apply(is_valley_time)\n",
        "\n",
        "# Checking the updated DataFrame\n",
        "df"
      ],
      "metadata": {
        "colab": {
          "base_uri": "https://localhost:8080/",
          "height": 791
        },
        "id": "tuR7D4gaoY1O",
        "outputId": "18d54660-0bc8-43d8-e791-1edd8c346f0f"
      },
      "execution_count": null,
      "outputs": [
        {
          "output_type": "execute_result",
          "data": {
            "text/plain": [
              "            Date      Time  CO(GT)  PT08.S1(CO)  C6H6(GT)  PT08.S2(NMHC)  \\\n",
              "0     10/03/2004  18:00:00     2.6       1360.0      11.9         1046.0   \n",
              "1     10/03/2004  19:00:00     2.0       1292.0       9.4          955.0   \n",
              "2     10/03/2004  20:00:00     2.2       1402.0       9.0          939.0   \n",
              "3     10/03/2004  21:00:00     2.2       1376.0       9.2          948.0   \n",
              "4     10/03/2004  22:00:00     1.6       1272.0       6.5          836.0   \n",
              "...          ...       ...     ...          ...       ...            ...   \n",
              "9352  04/04/2005  10:00:00     3.1       1314.0      13.5         1101.0   \n",
              "9353  04/04/2005  11:00:00     2.4       1163.0      11.4         1027.0   \n",
              "9354  04/04/2005  12:00:00     2.4       1142.0      12.4         1063.0   \n",
              "9355  04/04/2005  13:00:00     2.1       1003.0       9.5          961.0   \n",
              "9356  04/04/2005  14:00:00     2.2       1071.0      11.9         1047.0   \n",
              "\n",
              "      NOx(GT)  PT08.S3(NOx)  NO2(GT)  PT08.S4(NO2)  PT08.S5(O3)  T(C)    RH  \\\n",
              "0       166.0        1056.0    113.0        1692.0       1268.0  13.6  48.9   \n",
              "1       103.0        1174.0     92.0        1559.0        972.0  13.3  47.7   \n",
              "2       131.0        1140.0    114.0        1555.0       1074.0  11.9  54.0   \n",
              "3       172.0        1092.0    122.0        1584.0       1203.0  11.0  60.0   \n",
              "4       131.0        1205.0    116.0        1490.0       1110.0  11.2  59.6   \n",
              "...       ...           ...      ...           ...          ...   ...   ...   \n",
              "9352    472.0         539.0    190.0        1374.0       1729.0  21.9  29.3   \n",
              "9353    353.0         604.0    179.0        1264.0       1269.0  24.3  23.7   \n",
              "9354    293.0         603.0    175.0        1241.0       1092.0  26.9  18.3   \n",
              "9355    235.0         702.0    156.0        1041.0        770.0  28.3  13.5   \n",
              "9356    265.0         654.0    168.0        1129.0        816.0  28.5  13.1   \n",
              "\n",
              "          AH            DateTime  Hour  DayOfWeek  PeakTime  ValleyTime  \n",
              "0     0.7578 2004-10-03 18:00:00    18  Wednesday      True       False  \n",
              "1     0.7255 2004-10-03 19:00:00    19  Wednesday      True       False  \n",
              "2     0.7502 2004-10-03 20:00:00    20  Wednesday      True       False  \n",
              "3     0.7867 2004-10-03 21:00:00    21  Wednesday      True       False  \n",
              "4     0.7888 2004-10-03 22:00:00    22  Wednesday     False       False  \n",
              "...      ...                 ...   ...        ...       ...         ...  \n",
              "9352  0.7568 2005-04-04 10:00:00    10     Monday      True       False  \n",
              "9353  0.7119 2005-04-04 11:00:00    11     Monday      True       False  \n",
              "9354  0.6406 2005-04-04 12:00:00    12     Monday     False       False  \n",
              "9355  0.5139 2005-04-04 13:00:00    13     Monday     False       False  \n",
              "9356  0.5028 2005-04-04 14:00:00    14     Monday     False       False  \n",
              "\n",
              "[9357 rows x 19 columns]"
            ],
            "text/html": [
              "\n",
              "  <div id=\"df-e3224c0c-85a0-4450-bdef-58862c5b3be2\" class=\"colab-df-container\">\n",
              "    <div>\n",
              "<style scoped>\n",
              "    .dataframe tbody tr th:only-of-type {\n",
              "        vertical-align: middle;\n",
              "    }\n",
              "\n",
              "    .dataframe tbody tr th {\n",
              "        vertical-align: top;\n",
              "    }\n",
              "\n",
              "    .dataframe thead th {\n",
              "        text-align: right;\n",
              "    }\n",
              "</style>\n",
              "<table border=\"1\" class=\"dataframe\">\n",
              "  <thead>\n",
              "    <tr style=\"text-align: right;\">\n",
              "      <th></th>\n",
              "      <th>Date</th>\n",
              "      <th>Time</th>\n",
              "      <th>CO(GT)</th>\n",
              "      <th>PT08.S1(CO)</th>\n",
              "      <th>C6H6(GT)</th>\n",
              "      <th>PT08.S2(NMHC)</th>\n",
              "      <th>NOx(GT)</th>\n",
              "      <th>PT08.S3(NOx)</th>\n",
              "      <th>NO2(GT)</th>\n",
              "      <th>PT08.S4(NO2)</th>\n",
              "      <th>PT08.S5(O3)</th>\n",
              "      <th>T(C)</th>\n",
              "      <th>RH</th>\n",
              "      <th>AH</th>\n",
              "      <th>DateTime</th>\n",
              "      <th>Hour</th>\n",
              "      <th>DayOfWeek</th>\n",
              "      <th>PeakTime</th>\n",
              "      <th>ValleyTime</th>\n",
              "    </tr>\n",
              "  </thead>\n",
              "  <tbody>\n",
              "    <tr>\n",
              "      <th>0</th>\n",
              "      <td>10/03/2004</td>\n",
              "      <td>18:00:00</td>\n",
              "      <td>2.6</td>\n",
              "      <td>1360.0</td>\n",
              "      <td>11.9</td>\n",
              "      <td>1046.0</td>\n",
              "      <td>166.0</td>\n",
              "      <td>1056.0</td>\n",
              "      <td>113.0</td>\n",
              "      <td>1692.0</td>\n",
              "      <td>1268.0</td>\n",
              "      <td>13.6</td>\n",
              "      <td>48.9</td>\n",
              "      <td>0.7578</td>\n",
              "      <td>2004-10-03 18:00:00</td>\n",
              "      <td>18</td>\n",
              "      <td>Wednesday</td>\n",
              "      <td>True</td>\n",
              "      <td>False</td>\n",
              "    </tr>\n",
              "    <tr>\n",
              "      <th>1</th>\n",
              "      <td>10/03/2004</td>\n",
              "      <td>19:00:00</td>\n",
              "      <td>2.0</td>\n",
              "      <td>1292.0</td>\n",
              "      <td>9.4</td>\n",
              "      <td>955.0</td>\n",
              "      <td>103.0</td>\n",
              "      <td>1174.0</td>\n",
              "      <td>92.0</td>\n",
              "      <td>1559.0</td>\n",
              "      <td>972.0</td>\n",
              "      <td>13.3</td>\n",
              "      <td>47.7</td>\n",
              "      <td>0.7255</td>\n",
              "      <td>2004-10-03 19:00:00</td>\n",
              "      <td>19</td>\n",
              "      <td>Wednesday</td>\n",
              "      <td>True</td>\n",
              "      <td>False</td>\n",
              "    </tr>\n",
              "    <tr>\n",
              "      <th>2</th>\n",
              "      <td>10/03/2004</td>\n",
              "      <td>20:00:00</td>\n",
              "      <td>2.2</td>\n",
              "      <td>1402.0</td>\n",
              "      <td>9.0</td>\n",
              "      <td>939.0</td>\n",
              "      <td>131.0</td>\n",
              "      <td>1140.0</td>\n",
              "      <td>114.0</td>\n",
              "      <td>1555.0</td>\n",
              "      <td>1074.0</td>\n",
              "      <td>11.9</td>\n",
              "      <td>54.0</td>\n",
              "      <td>0.7502</td>\n",
              "      <td>2004-10-03 20:00:00</td>\n",
              "      <td>20</td>\n",
              "      <td>Wednesday</td>\n",
              "      <td>True</td>\n",
              "      <td>False</td>\n",
              "    </tr>\n",
              "    <tr>\n",
              "      <th>3</th>\n",
              "      <td>10/03/2004</td>\n",
              "      <td>21:00:00</td>\n",
              "      <td>2.2</td>\n",
              "      <td>1376.0</td>\n",
              "      <td>9.2</td>\n",
              "      <td>948.0</td>\n",
              "      <td>172.0</td>\n",
              "      <td>1092.0</td>\n",
              "      <td>122.0</td>\n",
              "      <td>1584.0</td>\n",
              "      <td>1203.0</td>\n",
              "      <td>11.0</td>\n",
              "      <td>60.0</td>\n",
              "      <td>0.7867</td>\n",
              "      <td>2004-10-03 21:00:00</td>\n",
              "      <td>21</td>\n",
              "      <td>Wednesday</td>\n",
              "      <td>True</td>\n",
              "      <td>False</td>\n",
              "    </tr>\n",
              "    <tr>\n",
              "      <th>4</th>\n",
              "      <td>10/03/2004</td>\n",
              "      <td>22:00:00</td>\n",
              "      <td>1.6</td>\n",
              "      <td>1272.0</td>\n",
              "      <td>6.5</td>\n",
              "      <td>836.0</td>\n",
              "      <td>131.0</td>\n",
              "      <td>1205.0</td>\n",
              "      <td>116.0</td>\n",
              "      <td>1490.0</td>\n",
              "      <td>1110.0</td>\n",
              "      <td>11.2</td>\n",
              "      <td>59.6</td>\n",
              "      <td>0.7888</td>\n",
              "      <td>2004-10-03 22:00:00</td>\n",
              "      <td>22</td>\n",
              "      <td>Wednesday</td>\n",
              "      <td>False</td>\n",
              "      <td>False</td>\n",
              "    </tr>\n",
              "    <tr>\n",
              "      <th>...</th>\n",
              "      <td>...</td>\n",
              "      <td>...</td>\n",
              "      <td>...</td>\n",
              "      <td>...</td>\n",
              "      <td>...</td>\n",
              "      <td>...</td>\n",
              "      <td>...</td>\n",
              "      <td>...</td>\n",
              "      <td>...</td>\n",
              "      <td>...</td>\n",
              "      <td>...</td>\n",
              "      <td>...</td>\n",
              "      <td>...</td>\n",
              "      <td>...</td>\n",
              "      <td>...</td>\n",
              "      <td>...</td>\n",
              "      <td>...</td>\n",
              "      <td>...</td>\n",
              "      <td>...</td>\n",
              "    </tr>\n",
              "    <tr>\n",
              "      <th>9352</th>\n",
              "      <td>04/04/2005</td>\n",
              "      <td>10:00:00</td>\n",
              "      <td>3.1</td>\n",
              "      <td>1314.0</td>\n",
              "      <td>13.5</td>\n",
              "      <td>1101.0</td>\n",
              "      <td>472.0</td>\n",
              "      <td>539.0</td>\n",
              "      <td>190.0</td>\n",
              "      <td>1374.0</td>\n",
              "      <td>1729.0</td>\n",
              "      <td>21.9</td>\n",
              "      <td>29.3</td>\n",
              "      <td>0.7568</td>\n",
              "      <td>2005-04-04 10:00:00</td>\n",
              "      <td>10</td>\n",
              "      <td>Monday</td>\n",
              "      <td>True</td>\n",
              "      <td>False</td>\n",
              "    </tr>\n",
              "    <tr>\n",
              "      <th>9353</th>\n",
              "      <td>04/04/2005</td>\n",
              "      <td>11:00:00</td>\n",
              "      <td>2.4</td>\n",
              "      <td>1163.0</td>\n",
              "      <td>11.4</td>\n",
              "      <td>1027.0</td>\n",
              "      <td>353.0</td>\n",
              "      <td>604.0</td>\n",
              "      <td>179.0</td>\n",
              "      <td>1264.0</td>\n",
              "      <td>1269.0</td>\n",
              "      <td>24.3</td>\n",
              "      <td>23.7</td>\n",
              "      <td>0.7119</td>\n",
              "      <td>2005-04-04 11:00:00</td>\n",
              "      <td>11</td>\n",
              "      <td>Monday</td>\n",
              "      <td>True</td>\n",
              "      <td>False</td>\n",
              "    </tr>\n",
              "    <tr>\n",
              "      <th>9354</th>\n",
              "      <td>04/04/2005</td>\n",
              "      <td>12:00:00</td>\n",
              "      <td>2.4</td>\n",
              "      <td>1142.0</td>\n",
              "      <td>12.4</td>\n",
              "      <td>1063.0</td>\n",
              "      <td>293.0</td>\n",
              "      <td>603.0</td>\n",
              "      <td>175.0</td>\n",
              "      <td>1241.0</td>\n",
              "      <td>1092.0</td>\n",
              "      <td>26.9</td>\n",
              "      <td>18.3</td>\n",
              "      <td>0.6406</td>\n",
              "      <td>2005-04-04 12:00:00</td>\n",
              "      <td>12</td>\n",
              "      <td>Monday</td>\n",
              "      <td>False</td>\n",
              "      <td>False</td>\n",
              "    </tr>\n",
              "    <tr>\n",
              "      <th>9355</th>\n",
              "      <td>04/04/2005</td>\n",
              "      <td>13:00:00</td>\n",
              "      <td>2.1</td>\n",
              "      <td>1003.0</td>\n",
              "      <td>9.5</td>\n",
              "      <td>961.0</td>\n",
              "      <td>235.0</td>\n",
              "      <td>702.0</td>\n",
              "      <td>156.0</td>\n",
              "      <td>1041.0</td>\n",
              "      <td>770.0</td>\n",
              "      <td>28.3</td>\n",
              "      <td>13.5</td>\n",
              "      <td>0.5139</td>\n",
              "      <td>2005-04-04 13:00:00</td>\n",
              "      <td>13</td>\n",
              "      <td>Monday</td>\n",
              "      <td>False</td>\n",
              "      <td>False</td>\n",
              "    </tr>\n",
              "    <tr>\n",
              "      <th>9356</th>\n",
              "      <td>04/04/2005</td>\n",
              "      <td>14:00:00</td>\n",
              "      <td>2.2</td>\n",
              "      <td>1071.0</td>\n",
              "      <td>11.9</td>\n",
              "      <td>1047.0</td>\n",
              "      <td>265.0</td>\n",
              "      <td>654.0</td>\n",
              "      <td>168.0</td>\n",
              "      <td>1129.0</td>\n",
              "      <td>816.0</td>\n",
              "      <td>28.5</td>\n",
              "      <td>13.1</td>\n",
              "      <td>0.5028</td>\n",
              "      <td>2005-04-04 14:00:00</td>\n",
              "      <td>14</td>\n",
              "      <td>Monday</td>\n",
              "      <td>False</td>\n",
              "      <td>False</td>\n",
              "    </tr>\n",
              "  </tbody>\n",
              "</table>\n",
              "<p>9357 rows × 19 columns</p>\n",
              "</div>\n",
              "    <div class=\"colab-df-buttons\">\n",
              "\n",
              "  <div class=\"colab-df-container\">\n",
              "    <button class=\"colab-df-convert\" onclick=\"convertToInteractive('df-e3224c0c-85a0-4450-bdef-58862c5b3be2')\"\n",
              "            title=\"Convert this dataframe to an interactive table.\"\n",
              "            style=\"display:none;\">\n",
              "\n",
              "  <svg xmlns=\"http://www.w3.org/2000/svg\" height=\"24px\" viewBox=\"0 -960 960 960\">\n",
              "    <path d=\"M120-120v-720h720v720H120Zm60-500h600v-160H180v160Zm220 220h160v-160H400v160Zm0 220h160v-160H400v160ZM180-400h160v-160H180v160Zm440 0h160v-160H620v160ZM180-180h160v-160H180v160Zm440 0h160v-160H620v160Z\"/>\n",
              "  </svg>\n",
              "    </button>\n",
              "\n",
              "  <style>\n",
              "    .colab-df-container {\n",
              "      display:flex;\n",
              "      gap: 12px;\n",
              "    }\n",
              "\n",
              "    .colab-df-convert {\n",
              "      background-color: #E8F0FE;\n",
              "      border: none;\n",
              "      border-radius: 50%;\n",
              "      cursor: pointer;\n",
              "      display: none;\n",
              "      fill: #1967D2;\n",
              "      height: 32px;\n",
              "      padding: 0 0 0 0;\n",
              "      width: 32px;\n",
              "    }\n",
              "\n",
              "    .colab-df-convert:hover {\n",
              "      background-color: #E2EBFA;\n",
              "      box-shadow: 0px 1px 2px rgba(60, 64, 67, 0.3), 0px 1px 3px 1px rgba(60, 64, 67, 0.15);\n",
              "      fill: #174EA6;\n",
              "    }\n",
              "\n",
              "    .colab-df-buttons div {\n",
              "      margin-bottom: 4px;\n",
              "    }\n",
              "\n",
              "    [theme=dark] .colab-df-convert {\n",
              "      background-color: #3B4455;\n",
              "      fill: #D2E3FC;\n",
              "    }\n",
              "\n",
              "    [theme=dark] .colab-df-convert:hover {\n",
              "      background-color: #434B5C;\n",
              "      box-shadow: 0px 1px 3px 1px rgba(0, 0, 0, 0.15);\n",
              "      filter: drop-shadow(0px 1px 2px rgba(0, 0, 0, 0.3));\n",
              "      fill: #FFFFFF;\n",
              "    }\n",
              "  </style>\n",
              "\n",
              "    <script>\n",
              "      const buttonEl =\n",
              "        document.querySelector('#df-e3224c0c-85a0-4450-bdef-58862c5b3be2 button.colab-df-convert');\n",
              "      buttonEl.style.display =\n",
              "        google.colab.kernel.accessAllowed ? 'block' : 'none';\n",
              "\n",
              "      async function convertToInteractive(key) {\n",
              "        const element = document.querySelector('#df-e3224c0c-85a0-4450-bdef-58862c5b3be2');\n",
              "        const dataTable =\n",
              "          await google.colab.kernel.invokeFunction('convertToInteractive',\n",
              "                                                    [key], {});\n",
              "        if (!dataTable) return;\n",
              "\n",
              "        const docLinkHtml = 'Like what you see? Visit the ' +\n",
              "          '<a target=\"_blank\" href=https://colab.research.google.com/notebooks/data_table.ipynb>data table notebook</a>'\n",
              "          + ' to learn more about interactive tables.';\n",
              "        element.innerHTML = '';\n",
              "        dataTable['output_type'] = 'display_data';\n",
              "        await google.colab.output.renderOutput(dataTable, element);\n",
              "        const docLink = document.createElement('div');\n",
              "        docLink.innerHTML = docLinkHtml;\n",
              "        element.appendChild(docLink);\n",
              "      }\n",
              "    </script>\n",
              "  </div>\n",
              "\n",
              "\n",
              "<div id=\"df-b8f01a9a-8431-4aef-83f8-e403fa3028cf\">\n",
              "  <button class=\"colab-df-quickchart\" onclick=\"quickchart('df-b8f01a9a-8431-4aef-83f8-e403fa3028cf')\"\n",
              "            title=\"Suggest charts\"\n",
              "            style=\"display:none;\">\n",
              "\n",
              "<svg xmlns=\"http://www.w3.org/2000/svg\" height=\"24px\"viewBox=\"0 0 24 24\"\n",
              "     width=\"24px\">\n",
              "    <g>\n",
              "        <path d=\"M19 3H5c-1.1 0-2 .9-2 2v14c0 1.1.9 2 2 2h14c1.1 0 2-.9 2-2V5c0-1.1-.9-2-2-2zM9 17H7v-7h2v7zm4 0h-2V7h2v10zm4 0h-2v-4h2v4z\"/>\n",
              "    </g>\n",
              "</svg>\n",
              "  </button>\n",
              "\n",
              "<style>\n",
              "  .colab-df-quickchart {\n",
              "      --bg-color: #E8F0FE;\n",
              "      --fill-color: #1967D2;\n",
              "      --hover-bg-color: #E2EBFA;\n",
              "      --hover-fill-color: #174EA6;\n",
              "      --disabled-fill-color: #AAA;\n",
              "      --disabled-bg-color: #DDD;\n",
              "  }\n",
              "\n",
              "  [theme=dark] .colab-df-quickchart {\n",
              "      --bg-color: #3B4455;\n",
              "      --fill-color: #D2E3FC;\n",
              "      --hover-bg-color: #434B5C;\n",
              "      --hover-fill-color: #FFFFFF;\n",
              "      --disabled-bg-color: #3B4455;\n",
              "      --disabled-fill-color: #666;\n",
              "  }\n",
              "\n",
              "  .colab-df-quickchart {\n",
              "    background-color: var(--bg-color);\n",
              "    border: none;\n",
              "    border-radius: 50%;\n",
              "    cursor: pointer;\n",
              "    display: none;\n",
              "    fill: var(--fill-color);\n",
              "    height: 32px;\n",
              "    padding: 0;\n",
              "    width: 32px;\n",
              "  }\n",
              "\n",
              "  .colab-df-quickchart:hover {\n",
              "    background-color: var(--hover-bg-color);\n",
              "    box-shadow: 0 1px 2px rgba(60, 64, 67, 0.3), 0 1px 3px 1px rgba(60, 64, 67, 0.15);\n",
              "    fill: var(--button-hover-fill-color);\n",
              "  }\n",
              "\n",
              "  .colab-df-quickchart-complete:disabled,\n",
              "  .colab-df-quickchart-complete:disabled:hover {\n",
              "    background-color: var(--disabled-bg-color);\n",
              "    fill: var(--disabled-fill-color);\n",
              "    box-shadow: none;\n",
              "  }\n",
              "\n",
              "  .colab-df-spinner {\n",
              "    border: 2px solid var(--fill-color);\n",
              "    border-color: transparent;\n",
              "    border-bottom-color: var(--fill-color);\n",
              "    animation:\n",
              "      spin 1s steps(1) infinite;\n",
              "  }\n",
              "\n",
              "  @keyframes spin {\n",
              "    0% {\n",
              "      border-color: transparent;\n",
              "      border-bottom-color: var(--fill-color);\n",
              "      border-left-color: var(--fill-color);\n",
              "    }\n",
              "    20% {\n",
              "      border-color: transparent;\n",
              "      border-left-color: var(--fill-color);\n",
              "      border-top-color: var(--fill-color);\n",
              "    }\n",
              "    30% {\n",
              "      border-color: transparent;\n",
              "      border-left-color: var(--fill-color);\n",
              "      border-top-color: var(--fill-color);\n",
              "      border-right-color: var(--fill-color);\n",
              "    }\n",
              "    40% {\n",
              "      border-color: transparent;\n",
              "      border-right-color: var(--fill-color);\n",
              "      border-top-color: var(--fill-color);\n",
              "    }\n",
              "    60% {\n",
              "      border-color: transparent;\n",
              "      border-right-color: var(--fill-color);\n",
              "    }\n",
              "    80% {\n",
              "      border-color: transparent;\n",
              "      border-right-color: var(--fill-color);\n",
              "      border-bottom-color: var(--fill-color);\n",
              "    }\n",
              "    90% {\n",
              "      border-color: transparent;\n",
              "      border-bottom-color: var(--fill-color);\n",
              "    }\n",
              "  }\n",
              "</style>\n",
              "\n",
              "  <script>\n",
              "    async function quickchart(key) {\n",
              "      const quickchartButtonEl =\n",
              "        document.querySelector('#' + key + ' button');\n",
              "      quickchartButtonEl.disabled = true;  // To prevent multiple clicks.\n",
              "      quickchartButtonEl.classList.add('colab-df-spinner');\n",
              "      try {\n",
              "        const charts = await google.colab.kernel.invokeFunction(\n",
              "            'suggestCharts', [key], {});\n",
              "      } catch (error) {\n",
              "        console.error('Error during call to suggestCharts:', error);\n",
              "      }\n",
              "      quickchartButtonEl.classList.remove('colab-df-spinner');\n",
              "      quickchartButtonEl.classList.add('colab-df-quickchart-complete');\n",
              "    }\n",
              "    (() => {\n",
              "      let quickchartButtonEl =\n",
              "        document.querySelector('#df-b8f01a9a-8431-4aef-83f8-e403fa3028cf button');\n",
              "      quickchartButtonEl.style.display =\n",
              "        google.colab.kernel.accessAllowed ? 'block' : 'none';\n",
              "    })();\n",
              "  </script>\n",
              "</div>\n",
              "    </div>\n",
              "  </div>\n"
            ]
          },
          "metadata": {},
          "execution_count": 103
        }
      ]
    },
    {
      "cell_type": "code",
      "execution_count": null,
      "metadata": {
        "colab": {
          "base_uri": "https://localhost:8080/"
        },
        "id": "ZSgNwwvCi3qb",
        "outputId": "1c2ca03b-f691-4f30-a288-eac138b9e480"
      },
      "outputs": [
        {
          "output_type": "execute_result",
          "data": {
            "text/plain": [
              "CO(GT)         1672\n",
              "PT08.S1(CO)     366\n",
              "T(C)            366\n",
              "RH              366\n",
              "DayOfWeek         0\n",
              "Hour              0\n",
              "dtype: int64"
            ]
          },
          "metadata": {},
          "execution_count": 104
        }
      ],
      "source": [
        "# Parsing Date and Time columns\n",
        "df['DateTime'] = pd.to_datetime(df['Date'] + ' ' + df['Time'])\n",
        "\n",
        "# Extracting Day of the Week and Hour\n",
        "df['DayOfWeek'] = df['DateTime'].dt.dayofweek  # Monday=0, Sunday=6\n",
        "df['Hour'] = df['DateTime'].dt.hour\n",
        "\n",
        "# Checking for any missing or anomalous values in the key columns\n",
        "key_columns = ['CO(GT)', 'PT08.S1(CO)', 'T(C)', 'RH', 'DayOfWeek', 'Hour']\n",
        "missing_or_anomalous = df[key_columns].isnull().sum()\n",
        "\n",
        "missing_or_anomalous"
      ]
    },
    {
      "cell_type": "markdown",
      "metadata": {
        "id": "kpx6YHKFi3qc"
      },
      "source": [
        "# TASK 1: CO concentration prediction\n",
        "Predict the CO concentration (in mg/m3) based on, at least, the PT08.S1(CO) raw sensor readings, day of the week and time.\n",
        "\n",
        "Maybe temperature and humidity can play a role as well?\n",
        "\n",
        "Use CO(GT) as the ground truth."
      ]
    },
    {
      "cell_type": "markdown",
      "metadata": {
        "id": "d72Vnrifi3qc"
      },
      "source": [
        "## 4. Further Data preparation (specific for this task)\n",
        "## Data segregation\n",
        "We have removed columns that are not required for predicting CO concentration. The focus will be on the raw sensor readings (PT08.S1(CO)), time-related features (DayOfWeek, Hour, PeakTime, ValleyTime), and environmental conditions (T(C), RH).\n",
        "We will be also imputing missing values in 'PT08.S1(CO)', 'T(C)', and 'RH' with their respective medians as as the median is less sensitive to outliers than the mean."
      ]
    },
    {
      "cell_type": "code",
      "source": [
        "# Dropping unnecessary columns for this task\n",
        "columns_to_keep = ['CO(GT)', 'PT08.S1(CO)', 'T(C)', 'RH', 'DayOfWeek', 'Hour', 'PeakTime', 'ValleyTime']\n",
        "df_reduced = df[columns_to_keep]\n",
        "\n",
        "# Checking for missing values in the reduced dataset\n",
        "missing_values_reduced = df_reduced.isnull().sum()\n",
        "missing_values_reduced"
      ],
      "metadata": {
        "colab": {
          "base_uri": "https://localhost:8080/"
        },
        "id": "2h7U5ClOnxwJ",
        "outputId": "1231af51-6d5a-4cd0-ab31-6ff81d203128"
      },
      "execution_count": null,
      "outputs": [
        {
          "output_type": "execute_result",
          "data": {
            "text/plain": [
              "CO(GT)         1672\n",
              "PT08.S1(CO)     366\n",
              "T(C)            366\n",
              "RH              366\n",
              "DayOfWeek         0\n",
              "Hour              0\n",
              "PeakTime          0\n",
              "ValleyTime        0\n",
              "dtype: int64"
            ]
          },
          "metadata": {},
          "execution_count": 39
        }
      ]
    },
    {
      "cell_type": "code",
      "source": [
        "from sklearn.preprocessing import OneHotEncoder\n",
        "\n",
        "# Dropping rows where the target variable 'CO(GT)' is missing\n",
        "df_reduced = df_reduced.dropna(subset=['CO(GT)'])\n",
        "\n",
        "# Imputing missing values in 'PT08.S1(CO)', 'T(C)', and 'RH' with their respective medians\n",
        "for column in ['PT08.S1(CO)', 'T(C)', 'RH']:\n",
        "    df_reduced[column].fillna(df_reduced[column].median(), inplace=True)\n",
        "\n",
        "# Encoding 'DayOfWeek' using one-hot encoding\n",
        "encoder = OneHotEncoder(sparse=False)\n",
        "day_of_week_encoded = encoder.fit_transform(df_reduced[['DayOfWeek']])\n",
        "day_of_week_encoded_df = pd.DataFrame(day_of_week_encoded, columns=encoder.get_feature_names_out(['DayOfWeek']))\n",
        "\n",
        "# Resetting index before concatenation to align the indices\n",
        "df_reduced.reset_index(drop=True, inplace=True)\n",
        "df_reduced_encoded = pd.concat([df_reduced, day_of_week_encoded_df], axis=1)\n",
        "\n",
        "# Dropping the original 'DayOfWeek' column\n",
        "df_reduced_encoded = df_reduced_encoded.drop('DayOfWeek', axis=1)\n",
        "\n",
        "# Checking the updated DataFrame\n",
        "df_reduced_encoded.head()"
      ],
      "metadata": {
        "colab": {
          "base_uri": "https://localhost:8080/",
          "height": 521
        },
        "id": "jwziHrrWqhrq",
        "outputId": "4b077751-6494-4400-9069-c45f7984e1f8"
      },
      "execution_count": null,
      "outputs": [
        {
          "output_type": "stream",
          "name": "stderr",
          "text": [
            "<ipython-input-40-528383e679cd>:8: SettingWithCopyWarning: \n",
            "A value is trying to be set on a copy of a slice from a DataFrame\n",
            "\n",
            "See the caveats in the documentation: https://pandas.pydata.org/pandas-docs/stable/user_guide/indexing.html#returning-a-view-versus-a-copy\n",
            "  df_reduced[column].fillna(df_reduced[column].median(), inplace=True)\n",
            "<ipython-input-40-528383e679cd>:8: SettingWithCopyWarning: \n",
            "A value is trying to be set on a copy of a slice from a DataFrame\n",
            "\n",
            "See the caveats in the documentation: https://pandas.pydata.org/pandas-docs/stable/user_guide/indexing.html#returning-a-view-versus-a-copy\n",
            "  df_reduced[column].fillna(df_reduced[column].median(), inplace=True)\n",
            "<ipython-input-40-528383e679cd>:8: SettingWithCopyWarning: \n",
            "A value is trying to be set on a copy of a slice from a DataFrame\n",
            "\n",
            "See the caveats in the documentation: https://pandas.pydata.org/pandas-docs/stable/user_guide/indexing.html#returning-a-view-versus-a-copy\n",
            "  df_reduced[column].fillna(df_reduced[column].median(), inplace=True)\n",
            "/usr/local/lib/python3.10/dist-packages/sklearn/preprocessing/_encoders.py:868: FutureWarning: `sparse` was renamed to `sparse_output` in version 1.2 and will be removed in 1.4. `sparse_output` is ignored unless you leave `sparse` to its default value.\n",
            "  warnings.warn(\n"
          ]
        },
        {
          "output_type": "execute_result",
          "data": {
            "text/plain": [
              "   CO(GT)  PT08.S1(CO)  T(C)    RH  Hour  PeakTime  ValleyTime  \\\n",
              "0     2.6       1360.0  13.6  48.9    18      True       False   \n",
              "1     2.0       1292.0  13.3  47.7    19      True       False   \n",
              "2     2.2       1402.0  11.9  54.0    20      True       False   \n",
              "3     2.2       1376.0  11.0  60.0    21      True       False   \n",
              "4     1.6       1272.0  11.2  59.6    22     False       False   \n",
              "\n",
              "   DayOfWeek_Friday  DayOfWeek_Monday  DayOfWeek_Saturday  DayOfWeek_Sunday  \\\n",
              "0               0.0               0.0                 0.0               0.0   \n",
              "1               0.0               0.0                 0.0               0.0   \n",
              "2               0.0               0.0                 0.0               0.0   \n",
              "3               0.0               0.0                 0.0               0.0   \n",
              "4               0.0               0.0                 0.0               0.0   \n",
              "\n",
              "   DayOfWeek_Thursday  DayOfWeek_Tuesday  DayOfWeek_Wednesday  \n",
              "0                 0.0                0.0                  1.0  \n",
              "1                 0.0                0.0                  1.0  \n",
              "2                 0.0                0.0                  1.0  \n",
              "3                 0.0                0.0                  1.0  \n",
              "4                 0.0                0.0                  1.0  "
            ],
            "text/html": [
              "\n",
              "  <div id=\"df-fefb3676-7fa3-4104-b4e8-bc764451de13\" class=\"colab-df-container\">\n",
              "    <div>\n",
              "<style scoped>\n",
              "    .dataframe tbody tr th:only-of-type {\n",
              "        vertical-align: middle;\n",
              "    }\n",
              "\n",
              "    .dataframe tbody tr th {\n",
              "        vertical-align: top;\n",
              "    }\n",
              "\n",
              "    .dataframe thead th {\n",
              "        text-align: right;\n",
              "    }\n",
              "</style>\n",
              "<table border=\"1\" class=\"dataframe\">\n",
              "  <thead>\n",
              "    <tr style=\"text-align: right;\">\n",
              "      <th></th>\n",
              "      <th>CO(GT)</th>\n",
              "      <th>PT08.S1(CO)</th>\n",
              "      <th>T(C)</th>\n",
              "      <th>RH</th>\n",
              "      <th>Hour</th>\n",
              "      <th>PeakTime</th>\n",
              "      <th>ValleyTime</th>\n",
              "      <th>DayOfWeek_Friday</th>\n",
              "      <th>DayOfWeek_Monday</th>\n",
              "      <th>DayOfWeek_Saturday</th>\n",
              "      <th>DayOfWeek_Sunday</th>\n",
              "      <th>DayOfWeek_Thursday</th>\n",
              "      <th>DayOfWeek_Tuesday</th>\n",
              "      <th>DayOfWeek_Wednesday</th>\n",
              "    </tr>\n",
              "  </thead>\n",
              "  <tbody>\n",
              "    <tr>\n",
              "      <th>0</th>\n",
              "      <td>2.6</td>\n",
              "      <td>1360.0</td>\n",
              "      <td>13.6</td>\n",
              "      <td>48.9</td>\n",
              "      <td>18</td>\n",
              "      <td>True</td>\n",
              "      <td>False</td>\n",
              "      <td>0.0</td>\n",
              "      <td>0.0</td>\n",
              "      <td>0.0</td>\n",
              "      <td>0.0</td>\n",
              "      <td>0.0</td>\n",
              "      <td>0.0</td>\n",
              "      <td>1.0</td>\n",
              "    </tr>\n",
              "    <tr>\n",
              "      <th>1</th>\n",
              "      <td>2.0</td>\n",
              "      <td>1292.0</td>\n",
              "      <td>13.3</td>\n",
              "      <td>47.7</td>\n",
              "      <td>19</td>\n",
              "      <td>True</td>\n",
              "      <td>False</td>\n",
              "      <td>0.0</td>\n",
              "      <td>0.0</td>\n",
              "      <td>0.0</td>\n",
              "      <td>0.0</td>\n",
              "      <td>0.0</td>\n",
              "      <td>0.0</td>\n",
              "      <td>1.0</td>\n",
              "    </tr>\n",
              "    <tr>\n",
              "      <th>2</th>\n",
              "      <td>2.2</td>\n",
              "      <td>1402.0</td>\n",
              "      <td>11.9</td>\n",
              "      <td>54.0</td>\n",
              "      <td>20</td>\n",
              "      <td>True</td>\n",
              "      <td>False</td>\n",
              "      <td>0.0</td>\n",
              "      <td>0.0</td>\n",
              "      <td>0.0</td>\n",
              "      <td>0.0</td>\n",
              "      <td>0.0</td>\n",
              "      <td>0.0</td>\n",
              "      <td>1.0</td>\n",
              "    </tr>\n",
              "    <tr>\n",
              "      <th>3</th>\n",
              "      <td>2.2</td>\n",
              "      <td>1376.0</td>\n",
              "      <td>11.0</td>\n",
              "      <td>60.0</td>\n",
              "      <td>21</td>\n",
              "      <td>True</td>\n",
              "      <td>False</td>\n",
              "      <td>0.0</td>\n",
              "      <td>0.0</td>\n",
              "      <td>0.0</td>\n",
              "      <td>0.0</td>\n",
              "      <td>0.0</td>\n",
              "      <td>0.0</td>\n",
              "      <td>1.0</td>\n",
              "    </tr>\n",
              "    <tr>\n",
              "      <th>4</th>\n",
              "      <td>1.6</td>\n",
              "      <td>1272.0</td>\n",
              "      <td>11.2</td>\n",
              "      <td>59.6</td>\n",
              "      <td>22</td>\n",
              "      <td>False</td>\n",
              "      <td>False</td>\n",
              "      <td>0.0</td>\n",
              "      <td>0.0</td>\n",
              "      <td>0.0</td>\n",
              "      <td>0.0</td>\n",
              "      <td>0.0</td>\n",
              "      <td>0.0</td>\n",
              "      <td>1.0</td>\n",
              "    </tr>\n",
              "  </tbody>\n",
              "</table>\n",
              "</div>\n",
              "    <div class=\"colab-df-buttons\">\n",
              "\n",
              "  <div class=\"colab-df-container\">\n",
              "    <button class=\"colab-df-convert\" onclick=\"convertToInteractive('df-fefb3676-7fa3-4104-b4e8-bc764451de13')\"\n",
              "            title=\"Convert this dataframe to an interactive table.\"\n",
              "            style=\"display:none;\">\n",
              "\n",
              "  <svg xmlns=\"http://www.w3.org/2000/svg\" height=\"24px\" viewBox=\"0 -960 960 960\">\n",
              "    <path d=\"M120-120v-720h720v720H120Zm60-500h600v-160H180v160Zm220 220h160v-160H400v160Zm0 220h160v-160H400v160ZM180-400h160v-160H180v160Zm440 0h160v-160H620v160ZM180-180h160v-160H180v160Zm440 0h160v-160H620v160Z\"/>\n",
              "  </svg>\n",
              "    </button>\n",
              "\n",
              "  <style>\n",
              "    .colab-df-container {\n",
              "      display:flex;\n",
              "      gap: 12px;\n",
              "    }\n",
              "\n",
              "    .colab-df-convert {\n",
              "      background-color: #E8F0FE;\n",
              "      border: none;\n",
              "      border-radius: 50%;\n",
              "      cursor: pointer;\n",
              "      display: none;\n",
              "      fill: #1967D2;\n",
              "      height: 32px;\n",
              "      padding: 0 0 0 0;\n",
              "      width: 32px;\n",
              "    }\n",
              "\n",
              "    .colab-df-convert:hover {\n",
              "      background-color: #E2EBFA;\n",
              "      box-shadow: 0px 1px 2px rgba(60, 64, 67, 0.3), 0px 1px 3px 1px rgba(60, 64, 67, 0.15);\n",
              "      fill: #174EA6;\n",
              "    }\n",
              "\n",
              "    .colab-df-buttons div {\n",
              "      margin-bottom: 4px;\n",
              "    }\n",
              "\n",
              "    [theme=dark] .colab-df-convert {\n",
              "      background-color: #3B4455;\n",
              "      fill: #D2E3FC;\n",
              "    }\n",
              "\n",
              "    [theme=dark] .colab-df-convert:hover {\n",
              "      background-color: #434B5C;\n",
              "      box-shadow: 0px 1px 3px 1px rgba(0, 0, 0, 0.15);\n",
              "      filter: drop-shadow(0px 1px 2px rgba(0, 0, 0, 0.3));\n",
              "      fill: #FFFFFF;\n",
              "    }\n",
              "  </style>\n",
              "\n",
              "    <script>\n",
              "      const buttonEl =\n",
              "        document.querySelector('#df-fefb3676-7fa3-4104-b4e8-bc764451de13 button.colab-df-convert');\n",
              "      buttonEl.style.display =\n",
              "        google.colab.kernel.accessAllowed ? 'block' : 'none';\n",
              "\n",
              "      async function convertToInteractive(key) {\n",
              "        const element = document.querySelector('#df-fefb3676-7fa3-4104-b4e8-bc764451de13');\n",
              "        const dataTable =\n",
              "          await google.colab.kernel.invokeFunction('convertToInteractive',\n",
              "                                                    [key], {});\n",
              "        if (!dataTable) return;\n",
              "\n",
              "        const docLinkHtml = 'Like what you see? Visit the ' +\n",
              "          '<a target=\"_blank\" href=https://colab.research.google.com/notebooks/data_table.ipynb>data table notebook</a>'\n",
              "          + ' to learn more about interactive tables.';\n",
              "        element.innerHTML = '';\n",
              "        dataTable['output_type'] = 'display_data';\n",
              "        await google.colab.output.renderOutput(dataTable, element);\n",
              "        const docLink = document.createElement('div');\n",
              "        docLink.innerHTML = docLinkHtml;\n",
              "        element.appendChild(docLink);\n",
              "      }\n",
              "    </script>\n",
              "  </div>\n",
              "\n",
              "\n",
              "<div id=\"df-e55db090-5efc-4c79-b9e9-4daebe6c66b0\">\n",
              "  <button class=\"colab-df-quickchart\" onclick=\"quickchart('df-e55db090-5efc-4c79-b9e9-4daebe6c66b0')\"\n",
              "            title=\"Suggest charts\"\n",
              "            style=\"display:none;\">\n",
              "\n",
              "<svg xmlns=\"http://www.w3.org/2000/svg\" height=\"24px\"viewBox=\"0 0 24 24\"\n",
              "     width=\"24px\">\n",
              "    <g>\n",
              "        <path d=\"M19 3H5c-1.1 0-2 .9-2 2v14c0 1.1.9 2 2 2h14c1.1 0 2-.9 2-2V5c0-1.1-.9-2-2-2zM9 17H7v-7h2v7zm4 0h-2V7h2v10zm4 0h-2v-4h2v4z\"/>\n",
              "    </g>\n",
              "</svg>\n",
              "  </button>\n",
              "\n",
              "<style>\n",
              "  .colab-df-quickchart {\n",
              "      --bg-color: #E8F0FE;\n",
              "      --fill-color: #1967D2;\n",
              "      --hover-bg-color: #E2EBFA;\n",
              "      --hover-fill-color: #174EA6;\n",
              "      --disabled-fill-color: #AAA;\n",
              "      --disabled-bg-color: #DDD;\n",
              "  }\n",
              "\n",
              "  [theme=dark] .colab-df-quickchart {\n",
              "      --bg-color: #3B4455;\n",
              "      --fill-color: #D2E3FC;\n",
              "      --hover-bg-color: #434B5C;\n",
              "      --hover-fill-color: #FFFFFF;\n",
              "      --disabled-bg-color: #3B4455;\n",
              "      --disabled-fill-color: #666;\n",
              "  }\n",
              "\n",
              "  .colab-df-quickchart {\n",
              "    background-color: var(--bg-color);\n",
              "    border: none;\n",
              "    border-radius: 50%;\n",
              "    cursor: pointer;\n",
              "    display: none;\n",
              "    fill: var(--fill-color);\n",
              "    height: 32px;\n",
              "    padding: 0;\n",
              "    width: 32px;\n",
              "  }\n",
              "\n",
              "  .colab-df-quickchart:hover {\n",
              "    background-color: var(--hover-bg-color);\n",
              "    box-shadow: 0 1px 2px rgba(60, 64, 67, 0.3), 0 1px 3px 1px rgba(60, 64, 67, 0.15);\n",
              "    fill: var(--button-hover-fill-color);\n",
              "  }\n",
              "\n",
              "  .colab-df-quickchart-complete:disabled,\n",
              "  .colab-df-quickchart-complete:disabled:hover {\n",
              "    background-color: var(--disabled-bg-color);\n",
              "    fill: var(--disabled-fill-color);\n",
              "    box-shadow: none;\n",
              "  }\n",
              "\n",
              "  .colab-df-spinner {\n",
              "    border: 2px solid var(--fill-color);\n",
              "    border-color: transparent;\n",
              "    border-bottom-color: var(--fill-color);\n",
              "    animation:\n",
              "      spin 1s steps(1) infinite;\n",
              "  }\n",
              "\n",
              "  @keyframes spin {\n",
              "    0% {\n",
              "      border-color: transparent;\n",
              "      border-bottom-color: var(--fill-color);\n",
              "      border-left-color: var(--fill-color);\n",
              "    }\n",
              "    20% {\n",
              "      border-color: transparent;\n",
              "      border-left-color: var(--fill-color);\n",
              "      border-top-color: var(--fill-color);\n",
              "    }\n",
              "    30% {\n",
              "      border-color: transparent;\n",
              "      border-left-color: var(--fill-color);\n",
              "      border-top-color: var(--fill-color);\n",
              "      border-right-color: var(--fill-color);\n",
              "    }\n",
              "    40% {\n",
              "      border-color: transparent;\n",
              "      border-right-color: var(--fill-color);\n",
              "      border-top-color: var(--fill-color);\n",
              "    }\n",
              "    60% {\n",
              "      border-color: transparent;\n",
              "      border-right-color: var(--fill-color);\n",
              "    }\n",
              "    80% {\n",
              "      border-color: transparent;\n",
              "      border-right-color: var(--fill-color);\n",
              "      border-bottom-color: var(--fill-color);\n",
              "    }\n",
              "    90% {\n",
              "      border-color: transparent;\n",
              "      border-bottom-color: var(--fill-color);\n",
              "    }\n",
              "  }\n",
              "</style>\n",
              "\n",
              "  <script>\n",
              "    async function quickchart(key) {\n",
              "      const quickchartButtonEl =\n",
              "        document.querySelector('#' + key + ' button');\n",
              "      quickchartButtonEl.disabled = true;  // To prevent multiple clicks.\n",
              "      quickchartButtonEl.classList.add('colab-df-spinner');\n",
              "      try {\n",
              "        const charts = await google.colab.kernel.invokeFunction(\n",
              "            'suggestCharts', [key], {});\n",
              "      } catch (error) {\n",
              "        console.error('Error during call to suggestCharts:', error);\n",
              "      }\n",
              "      quickchartButtonEl.classList.remove('colab-df-spinner');\n",
              "      quickchartButtonEl.classList.add('colab-df-quickchart-complete');\n",
              "    }\n",
              "    (() => {\n",
              "      let quickchartButtonEl =\n",
              "        document.querySelector('#df-e55db090-5efc-4c79-b9e9-4daebe6c66b0 button');\n",
              "      quickchartButtonEl.style.display =\n",
              "        google.colab.kernel.accessAllowed ? 'block' : 'none';\n",
              "    })();\n",
              "  </script>\n",
              "</div>\n",
              "    </div>\n",
              "  </div>\n"
            ]
          },
          "metadata": {},
          "execution_count": 40
        }
      ]
    },
    {
      "cell_type": "code",
      "source": [
        "from sklearn.model_selection import train_test_split # used for splitting the data"
      ],
      "metadata": {
        "id": "LlIXgx80q95N"
      },
      "execution_count": null,
      "outputs": []
    },
    {
      "cell_type": "code",
      "execution_count": null,
      "metadata": {
        "colab": {
          "base_uri": "https://localhost:8080/"
        },
        "id": "-PDNgDJpi3qc",
        "outputId": "8dae2f76-a6d2-4808-abf9-7645eee4579f"
      },
      "outputs": [
        {
          "output_type": "execute_result",
          "data": {
            "text/plain": [
              "((6148, 13), (1537, 13), (6148,), (1537,))"
            ]
          },
          "metadata": {},
          "execution_count": 42
        }
      ],
      "source": [
        "# Selecting features and target for the split\n",
        "features = df_reduced_encoded.drop('CO(GT)', axis=1)\n",
        "target = df_reduced_encoded['CO(GT)']\n",
        "\n",
        "# Splitting the data into training and testing sets (80-20 split)\n",
        "X_train, X_test, y_train, y_test = train_test_split(features, target, test_size=0.2, random_state=42)\n",
        "\n",
        "# Verifying the shapes of the resulting datasets\n",
        "(X_train.shape, X_test.shape, y_train.shape, y_test.shape)"
      ]
    },
    {
      "cell_type": "markdown",
      "metadata": {
        "id": "jAts0oX5i3qc"
      },
      "source": [
        "## 5. Model definition and training\n",
        "The Random Forest Regressor is a powerful model for regression tasks, capable of capturing complex relationships in the data. We'll train a Random Forest Regressor on the training set.\n",
        "\n",
        "For evaluation we will use Mean Squared Error and R^2 R-Squared score.  R-squared (R2) and Mean Squared Error (MSE) are commonly used metrics for evaluating regression models because they provide important insights into the model's performance in terms of prediction accuracy and error. MSE is the average of the squares of the errors—that is, the average squared difference between the estimated values and the actual value.R², also known as the coefficient of determination, measures the proportion of the variance in the dependent variable that is predictable from the independent variables., MSE and R2 are suitable for regression tasks because they collectively offer a balanced and comprehensive view of a model's predictive accuracy and fit to the observed data."
      ]
    },
    {
      "cell_type": "code",
      "execution_count": null,
      "metadata": {
        "colab": {
          "base_uri": "https://localhost:8080/",
          "height": 75
        },
        "id": "1TXKQ0nii3qd",
        "outputId": "b9cacc8a-931d-46a7-e550-01a196f645dc"
      },
      "outputs": [
        {
          "output_type": "execute_result",
          "data": {
            "text/plain": [
              "RandomForestRegressor(random_state=42)"
            ],
            "text/html": [
              "<style>#sk-container-id-3 {color: black;background-color: white;}#sk-container-id-3 pre{padding: 0;}#sk-container-id-3 div.sk-toggleable {background-color: white;}#sk-container-id-3 label.sk-toggleable__label {cursor: pointer;display: block;width: 100%;margin-bottom: 0;padding: 0.3em;box-sizing: border-box;text-align: center;}#sk-container-id-3 label.sk-toggleable__label-arrow:before {content: \"▸\";float: left;margin-right: 0.25em;color: #696969;}#sk-container-id-3 label.sk-toggleable__label-arrow:hover:before {color: black;}#sk-container-id-3 div.sk-estimator:hover label.sk-toggleable__label-arrow:before {color: black;}#sk-container-id-3 div.sk-toggleable__content {max-height: 0;max-width: 0;overflow: hidden;text-align: left;background-color: #f0f8ff;}#sk-container-id-3 div.sk-toggleable__content pre {margin: 0.2em;color: black;border-radius: 0.25em;background-color: #f0f8ff;}#sk-container-id-3 input.sk-toggleable__control:checked~div.sk-toggleable__content {max-height: 200px;max-width: 100%;overflow: auto;}#sk-container-id-3 input.sk-toggleable__control:checked~label.sk-toggleable__label-arrow:before {content: \"▾\";}#sk-container-id-3 div.sk-estimator input.sk-toggleable__control:checked~label.sk-toggleable__label {background-color: #d4ebff;}#sk-container-id-3 div.sk-label input.sk-toggleable__control:checked~label.sk-toggleable__label {background-color: #d4ebff;}#sk-container-id-3 input.sk-hidden--visually {border: 0;clip: rect(1px 1px 1px 1px);clip: rect(1px, 1px, 1px, 1px);height: 1px;margin: -1px;overflow: hidden;padding: 0;position: absolute;width: 1px;}#sk-container-id-3 div.sk-estimator {font-family: monospace;background-color: #f0f8ff;border: 1px dotted black;border-radius: 0.25em;box-sizing: border-box;margin-bottom: 0.5em;}#sk-container-id-3 div.sk-estimator:hover {background-color: #d4ebff;}#sk-container-id-3 div.sk-parallel-item::after {content: \"\";width: 100%;border-bottom: 1px solid gray;flex-grow: 1;}#sk-container-id-3 div.sk-label:hover label.sk-toggleable__label {background-color: #d4ebff;}#sk-container-id-3 div.sk-serial::before {content: \"\";position: absolute;border-left: 1px solid gray;box-sizing: border-box;top: 0;bottom: 0;left: 50%;z-index: 0;}#sk-container-id-3 div.sk-serial {display: flex;flex-direction: column;align-items: center;background-color: white;padding-right: 0.2em;padding-left: 0.2em;position: relative;}#sk-container-id-3 div.sk-item {position: relative;z-index: 1;}#sk-container-id-3 div.sk-parallel {display: flex;align-items: stretch;justify-content: center;background-color: white;position: relative;}#sk-container-id-3 div.sk-item::before, #sk-container-id-3 div.sk-parallel-item::before {content: \"\";position: absolute;border-left: 1px solid gray;box-sizing: border-box;top: 0;bottom: 0;left: 50%;z-index: -1;}#sk-container-id-3 div.sk-parallel-item {display: flex;flex-direction: column;z-index: 1;position: relative;background-color: white;}#sk-container-id-3 div.sk-parallel-item:first-child::after {align-self: flex-end;width: 50%;}#sk-container-id-3 div.sk-parallel-item:last-child::after {align-self: flex-start;width: 50%;}#sk-container-id-3 div.sk-parallel-item:only-child::after {width: 0;}#sk-container-id-3 div.sk-dashed-wrapped {border: 1px dashed gray;margin: 0 0.4em 0.5em 0.4em;box-sizing: border-box;padding-bottom: 0.4em;background-color: white;}#sk-container-id-3 div.sk-label label {font-family: monospace;font-weight: bold;display: inline-block;line-height: 1.2em;}#sk-container-id-3 div.sk-label-container {text-align: center;}#sk-container-id-3 div.sk-container {/* jupyter's `normalize.less` sets `[hidden] { display: none; }` but bootstrap.min.css set `[hidden] { display: none !important; }` so we also need the `!important` here to be able to override the default hidden behavior on the sphinx rendered scikit-learn.org. See: https://github.com/scikit-learn/scikit-learn/issues/21755 */display: inline-block !important;position: relative;}#sk-container-id-3 div.sk-text-repr-fallback {display: none;}</style><div id=\"sk-container-id-3\" class=\"sk-top-container\"><div class=\"sk-text-repr-fallback\"><pre>RandomForestRegressor(random_state=42)</pre><b>In a Jupyter environment, please rerun this cell to show the HTML representation or trust the notebook. <br />On GitHub, the HTML representation is unable to render, please try loading this page with nbviewer.org.</b></div><div class=\"sk-container\" hidden><div class=\"sk-item\"><div class=\"sk-estimator sk-toggleable\"><input class=\"sk-toggleable__control sk-hidden--visually\" id=\"sk-estimator-id-3\" type=\"checkbox\" checked><label for=\"sk-estimator-id-3\" class=\"sk-toggleable__label sk-toggleable__label-arrow\">RandomForestRegressor</label><div class=\"sk-toggleable__content\"><pre>RandomForestRegressor(random_state=42)</pre></div></div></div></div></div>"
            ]
          },
          "metadata": {},
          "execution_count": 53
        }
      ],
      "source": [
        "# Training a Random Forest Regressor\n",
        "model_rf = RandomForestRegressor(random_state=42)\n",
        "model_rf.fit(X_train, y_train)"
      ]
    },
    {
      "cell_type": "markdown",
      "metadata": {
        "id": "ln_fAZOCi3qd"
      },
      "source": [
        "## 6. Model evaluation\n",
        "Evaluation has been done on the testing set for its performance based on the R2 AND MSE SCORE"
      ]
    },
    {
      "cell_type": "code",
      "execution_count": null,
      "metadata": {
        "colab": {
          "base_uri": "https://localhost:8080/"
        },
        "id": "AjY72uebi3qd",
        "outputId": "c7b1da8a-b80a-4c46-d063-dcd307617c12"
      },
      "outputs": [
        {
          "output_type": "execute_result",
          "data": {
            "text/plain": [
              "(0.4254902164046221, 0.8048721914154389)"
            ]
          },
          "metadata": {},
          "execution_count": 54
        }
      ],
      "source": [
        "# Making predictions on the test set\n",
        "predictions_rf = model_rf.predict(X_test)\n",
        "\n",
        "# Evaluating the model\n",
        "mse_rf = mean_squared_error(y_test, predictions_rf)\n",
        "r2_rf = r2_score(y_test, predictions_rf)\n",
        "\n",
        "(mse_rf, r2_rf)"
      ]
    },
    {
      "cell_type": "markdown",
      "source": [
        "#7. Optimized Model using automatic hyperparameter tuning"
      ],
      "metadata": {
        "id": "2siFXvMfubvp"
      }
    },
    {
      "cell_type": "markdown",
      "source": [
        " Utilizing techniques like Grid Search or Randomized Search to systematically explore a range of hyperparameters.Given the complexity of the Random Forest algorithm and the potential number of hyperparameters to tune, automatic hyperparameter tuning is more suitable. It can efficiently explore a wide parameter space and is less dependent on trial-and-error compared to manual tuning. For this task, we have used Randomized Search, which randomly samples from the defined hyperparameter space and is generally faster than Grid Search."
      ],
      "metadata": {
        "id": "hL44G5b4u1gS"
      }
    },
    {
      "cell_type": "code",
      "source": [
        "from sklearn.model_selection import RandomizedSearchCV\n",
        "\n",
        "# Defining the hyperparameter grid\n",
        "param_grid = {\n",
        "    'n_estimators': [100, 200, 300, 400, 500],\n",
        "    'max_depth': [None, 10, 20, 30, 40, 50],\n",
        "    'min_samples_split': [2, 5, 10],\n",
        "    'min_samples_leaf': [1, 2, 4],\n",
        "    'max_features': ['auto', 'sqrt', 'log2']\n",
        "}\n",
        "\n",
        "# Initializing RandomizedSearchCV\n",
        "random_search = RandomizedSearchCV(estimator=model_rf, param_distributions=param_grid,\n",
        "                                   n_iter=100, cv=3, verbose=2, random_state=42, n_jobs=-1)\n",
        "\n",
        "# Fitting RandomizedSearchCV to the training data\n",
        "random_search.fit(X_train, y_train)\n",
        "\n",
        "# Best parameters found\n",
        "best_params = random_search.best_params_\n",
        "best_params"
      ],
      "metadata": {
        "colab": {
          "base_uri": "https://localhost:8080/"
        },
        "id": "gRNlQ2V5ujBz",
        "outputId": "78a7b3eb-f4d6-4216-f756-c386f82c2d63"
      },
      "execution_count": null,
      "outputs": [
        {
          "output_type": "stream",
          "name": "stdout",
          "text": [
            "Fitting 3 folds for each of 100 candidates, totalling 300 fits\n"
          ]
        },
        {
          "output_type": "execute_result",
          "data": {
            "text/plain": [
              "{'n_estimators': 500,\n",
              " 'min_samples_split': 2,\n",
              " 'min_samples_leaf': 2,\n",
              " 'max_features': 'log2',\n",
              " 'max_depth': None}"
            ]
          },
          "metadata": {},
          "execution_count": 55
        }
      ]
    },
    {
      "cell_type": "code",
      "source": [
        "tuned_rf = RandomForestRegressor(random_state=42, n_estimators= 500,\n",
        " min_samples_split=2,\n",
        " min_samples_leaf= 2,\n",
        " max_features='log2',\n",
        " max_depth =None)\n",
        "\n",
        "tuned_rf.fit(X_train, y_train)\n",
        "\n",
        "predictions_rf = tuned_rf.predict(X_test)\n",
        "\n",
        "# Evaluating the tuned model\n",
        "mse_rf = mean_squared_error(y_test, predictions_rf)\n",
        "r2_rf = r2_score(y_test, predictions_rf)\n",
        "\n",
        "(mse_rf, r2_rf)"
      ],
      "metadata": {
        "colab": {
          "base_uri": "https://localhost:8080/"
        },
        "id": "N490TUhkxs7J",
        "outputId": "774751bc-f129-4955-c491-588c82b087cb"
      },
      "execution_count": null,
      "outputs": [
        {
          "output_type": "execute_result",
          "data": {
            "text/plain": [
              "(0.39294082526102475, 0.8197991888403857)"
            ]
          },
          "metadata": {},
          "execution_count": 57
        }
      ]
    },
    {
      "cell_type": "code",
      "source": [
        "import matplotlib.pyplot as plt\n",
        "\n",
        "# Data for visualization\n",
        "metrics = ['Mean Squared Error (MSE)', 'R-squared (R²)']\n",
        "vanilla_scores = [0.42, 0.804]\n",
        "tuned_scores = [0.39, 0.819]\n",
        "\n",
        "# Creating the bar chart\n",
        "x = range(len(metrics))  # the label locations\n",
        "width = 0.35  # the width of the bars\n",
        "\n",
        "fig, ax = plt.subplots()\n",
        "rects1 = ax.bar(x, vanilla_scores, width, label='Vanilla RF')\n",
        "rects2 = ax.bar([p + width for p in x], tuned_scores, width, label='Tuned RF')\n",
        "\n",
        "# Adding some text for labels, title\n",
        "ax.set_ylabel('Scores')\n",
        "ax.set_title('Model Performance: Vanilla vs Tuned Random Forest Regressor')\n",
        "ax.set_xticks([p + width / 2 for p in x])\n",
        "ax.set_xticklabels(metrics)\n",
        "ax.legend()\n",
        "\n",
        "# Function to add value labels on the bars\n",
        "def add_labels(rects):\n",
        "    for rect in rects:\n",
        "        height = rect.get_height()\n",
        "        ax.annotate('{}'.format(round(height, 3)),\n",
        "                    xy=(rect.get_x() + rect.get_width() / 2, height),\n",
        "                    xytext=(0, 3),  # 3 points vertical offset\n",
        "                    textcoords=\"offset points\",\n",
        "                    ha='center', va='bottom')\n",
        "\n",
        "# Adding labels to the bars\n",
        "add_labels(rects1)\n",
        "add_labels(rects2)\n",
        "\n",
        "plt.show()\n"
      ],
      "metadata": {
        "colab": {
          "base_uri": "https://localhost:8080/",
          "height": 452
        },
        "id": "ki39GJcwyU9o",
        "outputId": "2e52b571-6679-47ab-deeb-7dcd3de297d3"
      },
      "execution_count": null,
      "outputs": [
        {
          "output_type": "display_data",
          "data": {
            "text/plain": [
              "<Figure size 640x480 with 1 Axes>"
            ],
            "image/png": "[encoded data removed]"
          },
          "metadata": {}
        }
      ]
    },
    {
      "cell_type": "markdown",
      "source": [
        "The bar chart in the above figure visually compares the performance of the Vanilla and Tuned Random Forest Regressors.Lower values indicate better performance. The Tuned Random Forest shows an improvement over the Vanilla model, reducing the MSE from 0.42 to 0.39. Higher values indicate better performance. The Tuned Random Forest also shows an improvement in R², increasing from 0.804 to 0.819.\n",
        "\n",
        " The visualization clearly demonstrates that hyperparameter tuning has enhanced the performance of the Random Forest Regressor, both in terms of reducing the error and increasing the proportion of explained variance."
      ],
      "metadata": {
        "id": "1tGDD0v1yO3S"
      }
    },
    {
      "cell_type": "markdown",
      "metadata": {
        "id": "2YRiNaPzi3qd"
      },
      "source": [
        "# TASK 2: Air Quality Index creation and prediction\n",
        "Define an Air Quality Index (based on adequate literature) by combining the ground-truth readings of several gases.\n",
        "\n",
        "Then, use ML to predict your Air Quality Index from several raw sensor readings and other columns of interest (obviously without using the ground truth column)."
      ]
    },
    {
      "cell_type": "markdown",
      "source": [
        "Creating an Air Quality Index (AQI) requires a systematic approach to combine the concentrations of various pollutants into a single number that represents the overall level of air pollution and its health implications. The AQI is typically structured so that a higher value represents poorer air quality and greater potential health risks. We have created an AQI based on available ground-truth measurements. For simplicity, let's assume we have ground-truth readings for Carbon Monoxide (CO), Nitrogen Dioxide (NO2), and any other relevant pollutants in your dataset.\n",
        "\n"
      ],
      "metadata": {
        "id": "8GQWmz280xGL"
      }
    },
    {
      "cell_type": "markdown",
      "metadata": {
        "id": "YOOmbVIIi3qd"
      },
      "source": [
        "## 4. Further Data preparation (specific for this task)\n",
        "We have defined a simple AQI that averages the normalized concentrations of CO and NO2 gases.\n",
        "Normalization could involve scaling each pollutant concentration to a common scale, such as 0 to 100. Where we have used the max values the CO AND NO2 and normalised by taking the percentage and further an average is taken for creating Custom AQI, which is our target variable.\n",
        "We have removed CO and NO2 from the dataset and used the selected important features to be included in our dataset where we have further created an 80:20 split.\n",
        "Upon checking the null values in our splits we have imputed the train and test splits X values with median.\n",
        "\n",
        "We have used Linear Regression which is a simple yet effective model for many regression tasks. It works well when there is a linear relationship between the features and the target variable."
      ]
    },
    {
      "cell_type": "code",
      "source": [
        "df['CO(GT)'].max()"
      ],
      "metadata": {
        "colab": {
          "base_uri": "https://localhost:8080/"
        },
        "id": "wp0c9VmO4ynm",
        "outputId": "e97331f8-4933-4a82-ad54-a3eb2c9fb621"
      },
      "execution_count": null,
      "outputs": [
        {
          "output_type": "execute_result",
          "data": {
            "text/plain": [
              "11.9"
            ]
          },
          "metadata": {},
          "execution_count": 105
        }
      ]
    },
    {
      "cell_type": "code",
      "source": [
        "df['NO2(GT)'].max()"
      ],
      "metadata": {
        "colab": {
          "base_uri": "https://localhost:8080/"
        },
        "id": "4583ZpIb49MZ",
        "outputId": "78f39ea4-097f-4ffb-eaed-13620f6d9898"
      },
      "execution_count": null,
      "outputs": [
        {
          "output_type": "execute_result",
          "data": {
            "text/plain": [
              "340.0"
            ]
          },
          "metadata": {},
          "execution_count": 106
        }
      ]
    },
    {
      "cell_type": "code",
      "source": [
        "max_co = df['CO(GT)'].max() # max level for CO in mg/m3\n",
        "max_no2 = df['NO2(GT)'].max()  # max level for NO2 in µg/m3\n",
        "\n",
        "# Calculate normalized values for CO and NO2\n",
        "df['Normalized_CO'] = df['CO(GT)'] / max_co * 100\n",
        "df['Normalized_NO2'] = df['NO2(GT)'] / max_no2 * 100\n",
        "\n",
        "# Define a simple AQI as the average of the normalized values\n",
        "df['Custom_AQI'] = (df['Normalized_CO'] + df['Normalized_NO2']) / 2\n",
        "df.isna().sum()\n"
      ],
      "metadata": {
        "colab": {
          "base_uri": "https://localhost:8080/"
        },
        "id": "GcknCjDV0wZK",
        "outputId": "0eed9b98-4e4f-463d-8b25-f852322e09c0"
      },
      "execution_count": null,
      "outputs": [
        {
          "output_type": "execute_result",
          "data": {
            "text/plain": [
              "Date                 0\n",
              "Time                 0\n",
              "CO(GT)            1672\n",
              "PT08.S1(CO)        366\n",
              "C6H6(GT)           366\n",
              "PT08.S2(NMHC)      366\n",
              "NOx(GT)           1639\n",
              "PT08.S3(NOx)       366\n",
              "NO2(GT)           1642\n",
              "PT08.S4(NO2)       366\n",
              "PT08.S5(O3)        366\n",
              "T(C)               366\n",
              "RH                 366\n",
              "AH                 366\n",
              "DateTime             0\n",
              "Hour                 0\n",
              "DayOfWeek            0\n",
              "PeakTime             0\n",
              "ValleyTime           0\n",
              "Normalized_CO     1672\n",
              "Normalized_NO2    1642\n",
              "Custom_AQI        2099\n",
              "dtype: int64"
            ]
          },
          "metadata": {},
          "execution_count": 107
        }
      ]
    },
    {
      "cell_type": "code",
      "source": [
        "# Dropping null values in target variable as it should not be imputed would be causing issues in training the machine learning model.\n",
        "df.dropna(subset=['Custom_AQI'], axis=0, inplace=True)"
      ],
      "metadata": {
        "id": "tKE24_QB5Yvd"
      },
      "execution_count": null,
      "outputs": []
    },
    {
      "cell_type": "code",
      "source": [
        "\n",
        "# Selecting features (excluding ground truth columns)\n",
        "features_ml = df[['PT08.S1(CO)', 'PT08.S2(NMHC)', 'PT08.S3(NOx)', 'PT08.S4(NO2)', 'PT08.S5(O3)', 'T(C)', 'RH', 'Hour', 'PeakTime', 'ValleyTime']]\n",
        "target_ml = df['Custom_AQI']\n",
        "\n",
        "# Splitting the dataset (using 80-20 split as before)\n",
        "X_train_ml, X_test_ml, y_train_ml, y_test_ml = train_test_split(features_ml, target_ml, test_size=0.2, random_state=42)\n",
        "\n",
        "# Verifying the shapes of the resulting datasets for ML\n",
        "(X_train_ml.shape, X_test_ml.shape, y_train_ml.shape, y_test_ml.shape)"
      ],
      "metadata": {
        "colab": {
          "base_uri": "https://localhost:8080/"
        },
        "id": "R1OLXkEV35B5",
        "outputId": "14297a10-cd84-4954-adba-09ce19646e3c"
      },
      "execution_count": null,
      "outputs": [
        {
          "output_type": "execute_result",
          "data": {
            "text/plain": [
              "((5806, 10), (1452, 10), (5806,), (1452,))"
            ]
          },
          "metadata": {},
          "execution_count": 109
        }
      ]
    },
    {
      "cell_type": "code",
      "execution_count": null,
      "metadata": {
        "colab": {
          "base_uri": "https://localhost:8080/"
        },
        "id": "l4Eo0Sgui3qd",
        "outputId": "474ff5f1-f056-48e8-92df-9466cdb5fc39"
      },
      "outputs": [
        {
          "output_type": "execute_result",
          "data": {
            "text/plain": [
              "(PT08.S1(CO)      246\n",
              " PT08.S2(NMHC)    246\n",
              " PT08.S3(NOx)     246\n",
              " PT08.S4(NO2)     246\n",
              " PT08.S5(O3)      246\n",
              " T(C)             246\n",
              " RH               246\n",
              " Hour               0\n",
              " PeakTime           0\n",
              " ValleyTime         0\n",
              " dtype: int64,\n",
              " PT08.S1(CO)      float64\n",
              " PT08.S2(NMHC)    float64\n",
              " PT08.S3(NOx)     float64\n",
              " PT08.S4(NO2)     float64\n",
              " PT08.S5(O3)      float64\n",
              " T(C)             float64\n",
              " RH               float64\n",
              " Hour               int64\n",
              " PeakTime            bool\n",
              " ValleyTime          bool\n",
              " dtype: object)"
            ]
          },
          "metadata": {},
          "execution_count": 110
        }
      ],
      "source": [
        "# Checking for NaN values in the features\n",
        "nan_check = X_train_ml.isnull().sum()\n",
        "\n",
        "# Ensuring all data types are appropriate\n",
        "data_types = X_train_ml.dtypes\n",
        "\n",
        "nan_check, data_types"
      ]
    },
    {
      "cell_type": "code",
      "source": [
        "# Imputing missing values in the training set with their respective medians\n",
        "for column in X_train_ml.columns:\n",
        "    if X_train_ml[column].isnull().any():\n",
        "        X_train_ml[column].fillna(X_train_ml[column].median(), inplace=True)\n",
        "\n",
        "# Verifying if all NaNs are filled\n",
        "nan_check_post_imputation = X_train_ml.isnull().sum()\n",
        "nan_check_post_imputation\n"
      ],
      "metadata": {
        "colab": {
          "base_uri": "https://localhost:8080/"
        },
        "id": "8fI5hy1d2JwI",
        "outputId": "6cb4ee4e-3cb6-41f7-8a35-cd6c58073b31"
      },
      "execution_count": null,
      "outputs": [
        {
          "output_type": "execute_result",
          "data": {
            "text/plain": [
              "PT08.S1(CO)      0\n",
              "PT08.S2(NMHC)    0\n",
              "PT08.S3(NOx)     0\n",
              "PT08.S4(NO2)     0\n",
              "PT08.S5(O3)      0\n",
              "T(C)             0\n",
              "RH               0\n",
              "Hour             0\n",
              "PeakTime         0\n",
              "ValleyTime       0\n",
              "dtype: int64"
            ]
          },
          "metadata": {},
          "execution_count": 112
        }
      ]
    },
    {
      "cell_type": "code",
      "source": [
        "# Making predictions on the test set\n",
        "for column in X_test_ml.columns:\n",
        "    if X_test_ml[column].isnull().any():\n",
        "        X_test_ml[column].fillna(X_test_ml[column].median(), inplace=True)\n",
        "nan_check_post_imputation = X_test_ml.isnull().sum()\n",
        "nan_check_post_imputation"
      ],
      "metadata": {
        "colab": {
          "base_uri": "https://localhost:8080/"
        },
        "id": "Bx80WxtN3UUm",
        "outputId": "fdbfecad-f4a3-4f8c-d356-bc24a10e2c0c"
      },
      "execution_count": null,
      "outputs": [
        {
          "output_type": "execute_result",
          "data": {
            "text/plain": [
              "PT08.S1(CO)      0\n",
              "PT08.S2(NMHC)    0\n",
              "PT08.S3(NOx)     0\n",
              "PT08.S4(NO2)     0\n",
              "PT08.S5(O3)      0\n",
              "T(C)             0\n",
              "RH               0\n",
              "Hour             0\n",
              "PeakTime         0\n",
              "ValleyTime       0\n",
              "dtype: int64"
            ]
          },
          "metadata": {},
          "execution_count": 113
        }
      ]
    },
    {
      "cell_type": "markdown",
      "metadata": {
        "id": "6VBhiDLoi3qd"
      },
      "source": [
        "## 5. Model definition and training\n",
        "\n",
        "Linear Regression is a good model choice for this task of predicting the Air Quality Index (AQI) based on sensor readings and other relevant features. Linear Regression works well when there is a linear relationship between the independent variables (features) and the dependent variable (target). If the AQI and the selected features (like sensor readings) have a linear correlation, Linear Regression will be an effectively model for this relationship."
      ]
    },
    {
      "cell_type": "code",
      "source": [
        "np.random.seed(42) # for consistent results and reproducibility of results\n",
        "# Training LR on training split\n",
        "model_lr = LinearRegression()\n",
        "\n",
        "model_lr.fit(X_train_ml, y_train_ml)\n"
      ],
      "metadata": {
        "colab": {
          "base_uri": "https://localhost:8080/",
          "height": 75
        },
        "id": "EXKx393S3AEh",
        "outputId": "52db2c8f-4784-4741-c59e-9d10b5dece59"
      },
      "execution_count": null,
      "outputs": [
        {
          "output_type": "execute_result",
          "data": {
            "text/plain": [
              "LinearRegression()"
            ],
            "text/html": [
              "<style>#sk-container-id-4 {color: black;background-color: white;}#sk-container-id-4 pre{padding: 0;}#sk-container-id-4 div.sk-toggleable {background-color: white;}#sk-container-id-4 label.sk-toggleable__label {cursor: pointer;display: block;width: 100%;margin-bottom: 0;padding: 0.3em;box-sizing: border-box;text-align: center;}#sk-container-id-4 label.sk-toggleable__label-arrow:before {content: \"▸\";float: left;margin-right: 0.25em;color: #696969;}#sk-container-id-4 label.sk-toggleable__label-arrow:hover:before {color: black;}#sk-container-id-4 div.sk-estimator:hover label.sk-toggleable__label-arrow:before {color: black;}#sk-container-id-4 div.sk-toggleable__content {max-height: 0;max-width: 0;overflow: hidden;text-align: left;background-color: #f0f8ff;}#sk-container-id-4 div.sk-toggleable__content pre {margin: 0.2em;color: black;border-radius: 0.25em;background-color: #f0f8ff;}#sk-container-id-4 input.sk-toggleable__control:checked~div.sk-toggleable__content {max-height: 200px;max-width: 100%;overflow: auto;}#sk-container-id-4 input.sk-toggleable__control:checked~label.sk-toggleable__label-arrow:before {content: \"▾\";}#sk-container-id-4 div.sk-estimator input.sk-toggleable__control:checked~label.sk-toggleable__label {background-color: #d4ebff;}#sk-container-id-4 div.sk-label input.sk-toggleable__control:checked~label.sk-toggleable__label {background-color: #d4ebff;}#sk-container-id-4 input.sk-hidden--visually {border: 0;clip: rect(1px 1px 1px 1px);clip: rect(1px, 1px, 1px, 1px);height: 1px;margin: -1px;overflow: hidden;padding: 0;position: absolute;width: 1px;}#sk-container-id-4 div.sk-estimator {font-family: monospace;background-color: #f0f8ff;border: 1px dotted black;border-radius: 0.25em;box-sizing: border-box;margin-bottom: 0.5em;}#sk-container-id-4 div.sk-estimator:hover {background-color: #d4ebff;}#sk-container-id-4 div.sk-parallel-item::after {content: \"\";width: 100%;border-bottom: 1px solid gray;flex-grow: 1;}#sk-container-id-4 div.sk-label:hover label.sk-toggleable__label {background-color: #d4ebff;}#sk-container-id-4 div.sk-serial::before {content: \"\";position: absolute;border-left: 1px solid gray;box-sizing: border-box;top: 0;bottom: 0;left: 50%;z-index: 0;}#sk-container-id-4 div.sk-serial {display: flex;flex-direction: column;align-items: center;background-color: white;padding-right: 0.2em;padding-left: 0.2em;position: relative;}#sk-container-id-4 div.sk-item {position: relative;z-index: 1;}#sk-container-id-4 div.sk-parallel {display: flex;align-items: stretch;justify-content: center;background-color: white;position: relative;}#sk-container-id-4 div.sk-item::before, #sk-container-id-4 div.sk-parallel-item::before {content: \"\";position: absolute;border-left: 1px solid gray;box-sizing: border-box;top: 0;bottom: 0;left: 50%;z-index: -1;}#sk-container-id-4 div.sk-parallel-item {display: flex;flex-direction: column;z-index: 1;position: relative;background-color: white;}#sk-container-id-4 div.sk-parallel-item:first-child::after {align-self: flex-end;width: 50%;}#sk-container-id-4 div.sk-parallel-item:last-child::after {align-self: flex-start;width: 50%;}#sk-container-id-4 div.sk-parallel-item:only-child::after {width: 0;}#sk-container-id-4 div.sk-dashed-wrapped {border: 1px dashed gray;margin: 0 0.4em 0.5em 0.4em;box-sizing: border-box;padding-bottom: 0.4em;background-color: white;}#sk-container-id-4 div.sk-label label {font-family: monospace;font-weight: bold;display: inline-block;line-height: 1.2em;}#sk-container-id-4 div.sk-label-container {text-align: center;}#sk-container-id-4 div.sk-container {/* jupyter's `normalize.less` sets `[hidden] { display: none; }` but bootstrap.min.css set `[hidden] { display: none !important; }` so we also need the `!important` here to be able to override the default hidden behavior on the sphinx rendered scikit-learn.org. See: https://github.com/scikit-learn/scikit-learn/issues/21755 */display: inline-block !important;position: relative;}#sk-container-id-4 div.sk-text-repr-fallback {display: none;}</style><div id=\"sk-container-id-4\" class=\"sk-top-container\"><div class=\"sk-text-repr-fallback\"><pre>LinearRegression()</pre><b>In a Jupyter environment, please rerun this cell to show the HTML representation or trust the notebook. <br />On GitHub, the HTML representation is unable to render, please try loading this page with nbviewer.org.</b></div><div class=\"sk-container\" hidden><div class=\"sk-item\"><div class=\"sk-estimator sk-toggleable\"><input class=\"sk-toggleable__control sk-hidden--visually\" id=\"sk-estimator-id-4\" type=\"checkbox\" checked><label for=\"sk-estimator-id-4\" class=\"sk-toggleable__label sk-toggleable__label-arrow\">LinearRegression</label><div class=\"sk-toggleable__content\"><pre>LinearRegression()</pre></div></div></div></div></div>"
            ]
          },
          "metadata": {},
          "execution_count": 117
        }
      ]
    },
    {
      "cell_type": "markdown",
      "metadata": {
        "id": "9L-PFD4fi3qe"
      },
      "source": [
        "## 6. Model evaluation\n",
        "We have evaluted our model on the test set and the MSE and R2 score has been calculated where we could observe that our model has performed well with the R2 score of 0.829(where higher is better) and MSE of 25.5(where lower is better)"
      ]
    },
    {
      "cell_type": "code",
      "execution_count": null,
      "metadata": {
        "colab": {
          "base_uri": "https://localhost:8080/"
        },
        "id": "-ombwdbpi3qe",
        "outputId": "1bf03c3d-d263-4829-a4ab-8b62b6e38ce1"
      },
      "outputs": [
        {
          "output_type": "execute_result",
          "data": {
            "text/plain": [
              "(25.256629564463516, 0.8290933506129357)"
            ]
          },
          "metadata": {},
          "execution_count": 118
        }
      ],
      "source": [
        "# Predicting on test data split\n",
        "predictions_aqi = model_lr.predict(X_test_ml)\n",
        "\n",
        "# Evaluating the model again\n",
        "mse_aqi = mean_squared_error(y_test_ml, predictions_aqi)\n",
        "r2_aqi = r2_score(y_test_ml, predictions_aqi)\n",
        "\n",
        "(mse_aqi, r2_aqi)"
      ]
    },
    {
      "cell_type": "markdown",
      "metadata": {
        "id": "ZCbRGIFgi3qe"
      },
      "source": [
        "# 7. Conclusions\n",
        "In Task 1, we aimed to predict the Carbon Monoxide (CO) concentration using features like raw sensor readings, day of the week, time, temperature, and humidity. We primarily utilized the Random Forest Regressor for this task.The Tuned Random Forest Regressor demonstrated strong performance, with a high R-squared value and low Mean Squared Error (MSE) compared to Vanilla Random Forest Regressor, indicating its effectiveness in predicting CO concentration from the given features.The model likely leveraged the strong correlations between sensor readings and CO concentration, along with the influence of environmental factors and time-based features.The use of Random Forest was justified due to its ability to handle non-linear relationships and interactions between features, making it well-suited for this complex regression task.\n",
        "Hyperparameter Tuning was essential in optimizing the models, particularly in refining the performance of Random Forest Regressor\n",
        "\n",
        "\n",
        "Task 2 involved defining a custom AQI based on ground-truth readings of several gases and predicting this AQI using features including raw sensor readings and other relevant variables, without using ground-truth columns for the gases. We employed Linear Regression, including its regularized variant (Ridge Regression), for this task.The Linear Regression model, showed good predictive performance, indicated by a respectable R-squared value and MSE. This suggests a linear relationship between the features and the AQI.The choice of Linear Regression was based on its simplicity, efficiency, and interpretability. It served as an effective baseline model and also proved its worth even after hyperparameter tuning.\n",
        "\n",
        "Different models were suitable for different tasks based on the nature of the target variable and the relationships within the data. Random Forest was more effective for CO concentration prediction, while Linear Regression models fared well for the AQI prediction task.Critical steps like handling missing values, feature selection, and engineering (like creating time-based categories) played a vital role in the model's performance.\n",
        "\n",
        "These analyses demonstrate the importance of understanding the dataset, carefully preparing the data, selecting appropriate models, and fine-tuning them to achieve the best possible predictive performance.\n"
      ]
    },
    {
      "cell_type": "markdown",
      "metadata": {
        "id": "iYQTwc28i3qe"
      },
      "source": [
        "---\n",
        "\n",
        "    - used for imputation:  https://vitalflux.com/pandas-impute-missing-values-mean-median-mode/#:~:text=Median%20imputation%20is%20preferred%20when,small%20number%20of%20unique%20values\n",
        "\n",
        "    - Data Ingestion with Pandas: https://www.geeksforgeeks.org/streamlined-data-ingestion-with-pandas/\n",
        "\n",
        "    - for implementation of randomforest regressor: https://towardsdatascience.com/random-forest-in-python-24d0893d51c0\n",
        "\n",
        "    - for implementing randomized search cv: https://www.analyticsvidhya.com/blog/2022/11/hyperparameter-tuning-using-randomized-search/\n",
        "\n",
        "Sources:\n",
        "\n",
        "- Used for imputation: https://vitalflux.com/pandas-impute-missing-values-mean-median-mode/#:~:text=Median%20imputation%20is%20preferred%20when,small%20number%20of%20unique%20values.\n",
        "\n",
        "- Data Ingestion with Pandas: https://www.geeksforgeeks.org/streamlined-data-ingestion-with-pandas/\n",
        "\n",
        "- for implementation of randomforest regressor: https://towardsdatascience.com/random-forest-in-python-24d0893d51c0\n",
        "\n",
        "- for implementing randomized search cv: https://www.analyticsvidhya.com/blog/2022/11/hyperparameter-tuning-using-randomized-search/\n",
        "\n"
      ]
    },
    {
      "cell_type": "code",
      "source": [],
      "metadata": {
        "id": "2rNz4v-cwd2K"
      },
      "execution_count": null,
      "outputs": []
    }
  ],
  "metadata": {
    "kernelspec": {
      "display_name": "Python 3.5.5 ('giraffe-healthcare')",
      "language": "python",
      "name": "python3"
    },
    "language_info": {
      "name": "python",
      "version": "3.5.5"
    },
    "orig_nbformat": 4,
    "vscode": {
      "interpreter": {
        "hash": "0f4fa1dff685cf8b0e8f68ac358400f6497cf659b705a84b1e00c6e6dfedb2d9"
      }
    },
    "colab": {
      "provenance": [],
      "include_colab_link": true
    }
  },
  "nbformat": 4,
  "nbformat_minor": 0
}